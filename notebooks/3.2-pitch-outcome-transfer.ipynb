{
 "cells": [
  {
   "cell_type": "markdown",
   "id": "b8592343-ab18-4638-b00d-d0e128539e23",
   "metadata": {},
   "source": [
    "# Pitch Outcome Transfer \n",
    "- using the pitch clusters from 3.1, train a general model\n",
    "- can then use these as initial weights for models, which hopefully helps with low AB players.\n",
    "## Todo:\n",
    "- write query to get training data for each cluster\n",
    "- train model using all of this data\n",
    "- save weights\n",
    "- write script to load the initial weights based on new batters cluster\n",
    "- train model using this\n",
    "- compare results"
   ]
  },
  {
   "cell_type": "code",
   "execution_count": 1,
   "id": "3280a0db-0f1c-4af0-a7ff-40436dc758b9",
   "metadata": {},
   "outputs": [
    {
     "name": "stderr",
     "output_type": "stream",
     "text": [
      "2024-05-07 13:33:58,396 - src.features.build_features - INFO - Loading dataset for 665742\n",
      "2024-05-07 13:34:00,685 - src.features.build_features - INFO - Data successfully queried/transformed for 665742\n"
     ]
    }
   ],
   "source": [
    "from importlib import reload\n",
    "\n",
    "import torch\n",
    "import torch.nn as nn\n",
    "import torch.optim\n",
    "import numpy as np\n",
    "np.set_printoptions(suppress=True)\n",
    "import pandas as pd\n",
    "from tqdm import trange\n",
    "\n",
    "#vladdy: 665489\n",
    "#soto: 665742\n",
    "#schneider 676914\n",
    "\n",
    "#get test set\n",
    "from src.features import build_features as f\n",
    "reload(f)\n",
    "train_set, val_set, num_classes, num_features, encoder = f.get_pitch_outcome_dataset(665742)"
   ]
  }
 ],
 "metadata": {
  "kernelspec": {
   "display_name": "Python 3 (ipykernel)",
   "language": "python",
   "name": "python3"
  },
  "language_info": {
   "codemirror_mode": {
    "name": "ipython",
    "version": 3
   },
   "file_extension": ".py",
   "mimetype": "text/x-python",
   "name": "python",
   "nbconvert_exporter": "python",
   "pygments_lexer": "ipython3",
   "version": "3.12.3"
  }
 },
 "nbformat": 4,
 "nbformat_minor": 5
}
