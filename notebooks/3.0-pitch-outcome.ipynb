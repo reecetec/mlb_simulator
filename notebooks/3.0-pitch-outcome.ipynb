{
 "cells": [
  {
   "cell_type": "markdown",
   "id": "5b2e90de-1d0f-437d-8ec2-100aa806e8b9",
   "metadata": {},
   "source": [
    "# Generate Pitch Outcome\n",
    " - Given the thrown pitch into the batter, will a ball, strike, or contact be made?\n",
    " - This is the first portion of the batting outcome\n",
    " - Splitting batting outcome into two parts, (second being if contact is made, what happens?) makes things more clear\n",
    " - Will be used as input to the second part of the batter outcome mentioned above\n",
    "\n",
    "## Potential Difficulties:\n",
    " - How to factor in umpire for discrepencies in strikes/balls?\n",
    "## TODO:\n",
    " - Write script to get features (formatted with labels in torch)\n",
    " - Build model architecture\n",
    " - Hyperparameter optimization\n",
    " - Compare with bayesian models\n",
    " - Figure out how to solve small sample.."
   ]
  },
  {
   "cell_type": "code",
   "execution_count": 1,
   "id": "3280a0db-0f1c-4af0-a7ff-40436dc758b9",
   "metadata": {},
   "outputs": [],
   "source": [
    "from src.features import build_features as f"
   ]
  },
  {
   "cell_type": "code",
   "execution_count": 2,
   "id": "597780bf-51d3-4a69-8e29-69e15e1274bb",
   "metadata": {},
   "outputs": [
    {
     "name": "stdout",
     "output_type": "stream",
     "text": [
      "/home/reece/sports/mlb_simulator/data/databases/mlb.db\n"
     ]
    }
   ],
   "source": [
    "#dir(f)\n",
    "vladdy = f.get_pitch_outcome_dataset(665489)"
   ]
  },
  {
   "cell_type": "code",
   "execution_count": 4,
   "id": "165c0da1-0b36-4727-9deb-809f792ab5c0",
   "metadata": {},
   "outputs": [
    {
     "name": "stdout",
     "output_type": "stream",
     "text": [
      "<class 'pandas.core.frame.DataFrame'>\n",
      "RangeIndex: 10 entries, 0 to 9\n",
      "Data columns (total 27 columns):\n",
      " #   Column             Non-Null Count  Dtype  \n",
      "---  ------             --------------  -----  \n",
      " 0   type               10 non-null     object \n",
      " 1   pitch_type         10 non-null     object \n",
      " 2   release_speed      10 non-null     float64\n",
      " 3   release_spin_rate  10 non-null     int64  \n",
      " 4   release_extension  10 non-null     float64\n",
      " 5   release_pos_x      10 non-null     float64\n",
      " 6   release_pos_y      10 non-null     float64\n",
      " 7   release_pos_z      10 non-null     float64\n",
      " 8   pfx_x              10 non-null     float64\n",
      " 9   pfx_z              10 non-null     float64\n",
      " 10  plate_x            10 non-null     float64\n",
      " 11  plate_z            10 non-null     float64\n",
      " 12  vx0                10 non-null     float64\n",
      " 13  vy0                10 non-null     float64\n",
      " 14  vz0                10 non-null     float64\n",
      " 15  ax                 10 non-null     float64\n",
      " 16  ay                 10 non-null     float64\n",
      " 17  az                 10 non-null     float64\n",
      " 18  zone               10 non-null     int64  \n",
      " 19  sz_top             10 non-null     float64\n",
      " 20  sz_bot             10 non-null     float64\n",
      " 21  p_throws           10 non-null     object \n",
      " 22  pitch_number       10 non-null     int64  \n",
      " 23  strikes            10 non-null     int64  \n",
      " 24  balls              10 non-null     int64  \n",
      " 25  outs_when_up       10 non-null     int64  \n",
      " 26  score_delta        10 non-null     int64  \n",
      "dtypes: float64(17), int64(7), object(3)\n",
      "memory usage: 2.2+ KB\n"
     ]
    }
   ],
   "source": [
    "vladdy.info()"
   ]
  },
  {
   "cell_type": "markdown",
   "id": "d316c462-94c0-4246-8a71-c8f14389237e",
   "metadata": {},
   "source": [
    "### Non-Numerical Variables:\n",
    " - type (what model is trying to predict)\n",
    " - pitch_type (nominal)\n",
    " - p_throws (nominal)"
   ]
  }
 ],
 "metadata": {
  "kernelspec": {
   "display_name": "Python 3 (ipykernel)",
   "language": "python",
   "name": "python3"
  },
  "language_info": {
   "codemirror_mode": {
    "name": "ipython",
    "version": 3
   },
   "file_extension": ".py",
   "mimetype": "text/x-python",
   "name": "python",
   "nbconvert_exporter": "python",
   "pygments_lexer": "ipython3",
   "version": "3.12.3"
  }
 },
 "nbformat": 4,
 "nbformat_minor": 5
}
