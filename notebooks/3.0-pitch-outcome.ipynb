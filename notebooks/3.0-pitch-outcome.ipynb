{
 "cells": [
  {
   "cell_type": "markdown",
   "id": "5b2e90de-1d0f-437d-8ec2-100aa806e8b9",
   "metadata": {},
   "source": [
    "# Generate Pitch Outcome\n",
    " - Given the thrown pitch into the batter, will a ball, strike, or contact be made?\n",
    " - This is the first portion of the batting outcome\n",
    " - Splitting batting outcome into two parts, (second being if contact is made, what happens?) makes things more clear\n",
    " - Will be used as input to the second part of the batter outcome mentioned above\n",
    "\n",
    "## Potential Difficulties:\n",
    " - How to factor in umpire for discrepencies in strikes/balls?\n",
    "## TODO:\n",
    " - Write script to get features (formatted with labels in torch)\n",
    " - Build model architecture\n",
    " - Hyperparameter optimization\n",
    " - Compare with bayesian models\n",
    " - Figure out how to solve small sample.."
   ]
  },
  {
   "cell_type": "code",
   "execution_count": null,
   "id": "3280a0db-0f1c-4af0-a7ff-40436dc758b9",
   "metadata": {},
   "outputs": [],
   "source": []
  }
 ],
 "metadata": {
  "kernelspec": {
   "display_name": "Python 3 (ipykernel)",
   "language": "python",
   "name": "python3"
  },
  "language_info": {
   "codemirror_mode": {
    "name": "ipython",
    "version": 3
   },
   "file_extension": ".py",
   "mimetype": "text/x-python",
   "name": "python",
   "nbconvert_exporter": "python",
   "pygments_lexer": "ipython3",
   "version": "3.12.3"
  }
 },
 "nbformat": 4,
 "nbformat_minor": 5
}
