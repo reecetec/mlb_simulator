{
 "cells": [
  {
   "cell_type": "markdown",
   "id": "5b2e90de-1d0f-437d-8ec2-100aa806e8b9",
   "metadata": {},
   "source": [
    "# Generate Pitch Outcome\n",
    " - Given the thrown pitch into the batter, will a ball, strike, or contact be made?\n",
    " - This is the first portion of the batting outcome\n",
    " - Splitting batting outcome into two parts, (second being if contact is made, what happens?) makes things more clear\n",
    " - Will be used as input to the second part of the batter outcome mentioned above\n",
    "\n",
    "## Potential Difficulties:\n",
    " - How to factor in umpire for discrepencies in strikes/balls?\n",
    "## TODO:\n",
    " - Write script to get features (formatted with labels in torch)\n",
    " - Build model architecture\n",
    " - Hyperparameter optimization\n",
    " - Compare with bayesian models\n",
    " - Figure out how to solve small sample.."
   ]
  },
  {
   "cell_type": "code",
   "execution_count": 1,
   "id": "3280a0db-0f1c-4af0-a7ff-40436dc758b9",
   "metadata": {},
   "outputs": [
    {
     "name": "stdout",
     "output_type": "stream",
     "text": [
      "Loading dataset...\n",
      "Converting labels to integers...\n",
      "Dataset loaded\n"
     ]
    }
   ],
   "source": [
    "#get test set\n",
    "from src.features import build_features as f\n",
    "train_set, val_set = f.get_pitch_outcome_dataset(665489)"
   ]
  },
  {
   "cell_type": "code",
   "execution_count": 2,
   "id": "fe622810-f40e-428d-bb6b-f61a19aee8fc",
   "metadata": {},
   "outputs": [],
   "source": [
    "import torch\n",
    "import torch.nn as nn\n",
    "import torch.optim as optim"
   ]
  },
  {
   "cell_type": "code",
   "execution_count": 3,
   "id": "09457801-bacf-4c1b-9b74-ac5074c78b9a",
   "metadata": {},
   "outputs": [],
   "source": [
    "class PitchOutcome(nn.Module):\n",
    "    def __init__(self, input_size, hidden_size, num_classes):\n",
    "        super(PitchOutcome, self).__init__()\n",
    "        self.l1 = nn.Linear(input_size, hidden_size)\n",
    "        self.relu = nn.ReLU()\n",
    "        self.l2 = nn.Linear(hidden_size, num_classes)\n",
    "\n",
    "    def forward(self, x):\n",
    "        out = self.l1(x)\n",
    "        out = self.relu(out)\n",
    "        out = self.l2(out)\n",
    "        return out"
   ]
  },
  {
   "cell_type": "code",
   "execution_count": null,
   "id": "7b0cc050-0ab3-43ee-9b57-d9ce76313a9c",
   "metadata": {},
   "outputs": [],
   "source": [
    "input_size =  # Specify the input size based on your data\n",
    "hidden_size = 128\n",
    "num_classes =  # Specify the number of classes in your classification problem\n",
    "model = NeuralNetwork(input_size, hidden_size, num_classes)"
   ]
  },
  {
   "cell_type": "code",
   "execution_count": 6,
   "id": "f1f58585-fc89-49c9-8761-0b03f0002cc2",
   "metadata": {},
   "outputs": [
    {
     "ename": "AttributeError",
     "evalue": "'DataLoader' object has no attribute 'raw_data'",
     "output_type": "error",
     "traceback": [
      "\u001b[0;31m---------------------------------------------------------------------------\u001b[0m",
      "\u001b[0;31mAttributeError\u001b[0m                            Traceback (most recent call last)",
      "Cell \u001b[0;32mIn[6], line 1\u001b[0m\n\u001b[0;32m----> 1\u001b[0m \u001b[43mtrain_set\u001b[49m\u001b[38;5;241;43m.\u001b[39;49m\u001b[43mraw_data\u001b[49m\n",
      "\u001b[0;31mAttributeError\u001b[0m: 'DataLoader' object has no attribute 'raw_data'"
     ]
    }
   ],
   "source": [
    "train_set.raw_data"
   ]
  },
  {
   "cell_type": "code",
   "execution_count": null,
   "id": "ecf008ce-3fcc-48e4-aad4-78a0983e4e3e",
   "metadata": {},
   "outputs": [],
   "source": []
  }
 ],
 "metadata": {
  "kernelspec": {
   "display_name": "Python 3 (ipykernel)",
   "language": "python",
   "name": "python3"
  },
  "language_info": {
   "codemirror_mode": {
    "name": "ipython",
    "version": 3
   },
   "file_extension": ".py",
   "mimetype": "text/x-python",
   "name": "python",
   "nbconvert_exporter": "python",
   "pygments_lexer": "ipython3",
   "version": "3.12.3"
  }
 },
 "nbformat": 4,
 "nbformat_minor": 5
}
