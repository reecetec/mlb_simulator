{
 "cells": [
  {
   "cell_type": "markdown",
   "id": "5b2e90de-1d0f-437d-8ec2-100aa806e8b9",
   "metadata": {},
   "source": [
    "# Generate Pitch Outcome\n",
    " - Given the thrown pitch into the batter, will a ball, strike, or contact be made?\n",
    " - This is the first portion of the batting outcome\n",
    " - Splitting batting outcome into two parts, (second being if contact is made, what happens?) makes things more clear\n",
    " - Will be used as input to the second part of the batter outcome mentioned above\n",
    "\n",
    "## Potential Difficulties:\n",
    " - How to factor in umpire for discrepencies in strikes/balls?"
   ]
  }
 ],
 "metadata": {
  "kernelspec": {
   "display_name": "Python 3 (ipykernel)",
   "language": "python",
   "name": "python3"
  },
  "language_info": {
   "codemirror_mode": {
    "name": "ipython",
    "version": 3
   },
   "file_extension": ".py",
   "mimetype": "text/x-python",
   "name": "python",
   "nbconvert_exporter": "python",
   "pygments_lexer": "ipython3",
   "version": "3.12.3"
  }
 },
 "nbformat": 4,
 "nbformat_minor": 5
}
