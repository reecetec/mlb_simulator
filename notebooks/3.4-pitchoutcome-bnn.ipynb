{
 "cells": [
  {
   "cell_type": "code",
   "execution_count": 104,
   "id": "712a973e-2799-4eaf-bf1f-6700e44d7bec",
   "metadata": {},
   "outputs": [],
   "source": [
    "import numpy as np\n",
    "from sklearn import datasets\n",
    "import torch\n",
    "import torch.nn as nn\n",
    "import torch.optim as optim\n",
    "import torchbnn as bnn\n",
    "import matplotlib.pyplot as plt\n",
    "from src.features import build_features as f\n",
    "import pandas as pd\n",
    "from sklearn.model_selection import train_test_split\n",
    "from sklearn.preprocessing import StandardScaler, OneHotEncoder, LabelEncoder\n",
    "from sklearn.compose import ColumnTransformer\n",
    "from sklearn.pipeline import Pipeline\n",
    "from sklearn.linear_model import LogisticRegression\n",
    "from sklearn.metrics import classification_report, log_loss\n",
    "\n",
    "\n",
    "%matplotlib inline"
   ]
  },
  {
   "cell_type": "code",
   "execution_count": 54,
   "id": "12c4e501-e493-4758-8adc-8e2a9be98ae4",
   "metadata": {},
   "outputs": [],
   "source": [
    "vladdy = 665489\n",
    "soto = 665742\n",
    "schneider = 676914\n",
    "biggio = 624415\n",
    "showtime = 660271\n",
    "batter = vladdy\n",
    "\n",
    "X_train, y_train, X_test, y_test, encoders = f.get_pitch_outcome_dataset_xgb(batter, split=True)"
   ]
  },
  {
   "cell_type": "code",
   "execution_count": 105,
   "id": "a2aa89ab-183b-4c85-afa1-6aabb1ddca47",
   "metadata": {},
   "outputs": [],
   "source": [
    "from src.data.data_utils import query_mlb_db\n",
    "batter_id = vladdy\n",
    "data = query_mlb_db(f'''\n",
    "select \n",
    "            case\n",
    "                when description='swinging_strike' or description='swinging_strike_blocked' or description='called_strike' or description='foul_tip' \n",
    "                    or description='swinging_pitchout' then 'strike'\n",
    "                when description='foul' or description='foul_pitchout' then 'foul'\n",
    "                when description='ball' or description='blocked_ball' or description='pitchout' then 'ball'\n",
    "                when description='hit_by_pitch' then 'hit_by_pitch'\n",
    "                when description='hit_into_play' then 'hit_into_play'\n",
    "                else NULL\n",
    "            end as pitch_outcome,\n",
    "            \n",
    "            pitch_number, strikes, balls,\n",
    "            \n",
    "            release_speed, \n",
    "            release_spin_rate, \n",
    "            release_extension,\n",
    "\n",
    "            release_pos_x,\n",
    "            release_pos_y,\n",
    "            release_pos_z,\n",
    "            \n",
    "            spin_axis,\n",
    "            pfx_x, pfx_z, \n",
    "            \n",
    "            vx0, vy0, vz0,\n",
    "            ax, ay, az,\n",
    "            plate_x, plate_z\n",
    "            \n",
    "        from Statcast\n",
    "        where batter={batter_id}\n",
    "        /* and game_pk in (\n",
    "                select distinct game_pk\n",
    "                from Statcast\n",
    "                where batter = {batter_id}\n",
    "                order by game_date desc\n",
    "                limit 324\n",
    "        ) */\n",
    "        and pitch_outcome & p_throws & pitch_number & strikes & balls &\n",
    "            release_speed &\n",
    "            release_spin_rate &\n",
    "            release_extension &\n",
    "\n",
    "            release_pos_x &\n",
    "            release_pos_y &\n",
    "            release_pos_z &\n",
    "            \n",
    "            spin_axis &\n",
    "            pfx_x & pfx_z &\n",
    "            \n",
    "            vx0 & vy0 & vz0 &\n",
    "            ax & ay & az &\n",
    "            plate_x & plate_z\n",
    "        is not null\n",
    "        order by game_date asc, at_bat_number asc, pitch_number asc;\n",
    "''')\n",
    "\n"
   ]
  },
  {
   "cell_type": "code",
   "execution_count": 108,
   "id": "96446614-868e-4f48-b4bb-53fb28aebcee",
   "metadata": {},
   "outputs": [],
   "source": [
    "# Define features and target\n",
    "features = data.drop(columns=['pitch_outcome'])\n",
    "target = data['pitch_outcome']\n",
    "\n",
    "\n",
    "label_encoder = LabelEncoder()\n",
    "y_encoded = label_encoder.fit_transform(target)\n",
    "\n",
    "# Split data into train and test sets\n",
    "X_train, X_test, y_train, y_test = train_test_split(features, y_encoded, test_size=0.2, shuffle=False)"
   ]
  },
  {
   "cell_type": "code",
   "execution_count": 110,
   "id": "8457d6d9-2acd-4d8a-a524-4405a6df4908",
   "metadata": {},
   "outputs": [
    {
     "data": {
      "text/plain": [
       "array([0, 1, 4, ..., 3, 4, 3])"
      ]
     },
     "execution_count": 110,
     "metadata": {},
     "output_type": "execute_result"
    }
   ],
   "source": [
    "y_train"
   ]
  },
  {
   "cell_type": "code",
   "execution_count": 111,
   "id": "5e0c0663-7554-4056-bad0-055023600b13",
   "metadata": {},
   "outputs": [
    {
     "name": "stdout",
     "output_type": "stream",
     "text": [
      "              precision    recall  f1-score   support\n",
      "\n",
      "           0       0.79      0.86      0.83       894\n",
      "           1       0.41      0.27      0.33       412\n",
      "           2       0.40      0.40      0.40         5\n",
      "           3       0.45      0.49      0.47       455\n",
      "           4       0.49      0.49      0.49       583\n",
      "\n",
      "    accuracy                           0.60      2349\n",
      "   macro avg       0.51      0.50      0.50      2349\n",
      "weighted avg       0.58      0.60      0.59      2349\n",
      "\n",
      "Log Loss: 0.9303840079806969\n"
     ]
    }
   ],
   "source": [
    "# Preprocessing pipeline\n",
    "numeric_features = features.select_dtypes(include=['float64', 'int64']).columns\n",
    "categorical_features = features.select_dtypes(include=['object']).columns\n",
    "\n",
    "preprocessor = ColumnTransformer(\n",
    "    transformers=[\n",
    "        ('num', StandardScaler(), numeric_features),\n",
    "        ('cat', OneHotEncoder(), categorical_features)\n",
    "    ])\n",
    "\n",
    "import xgboost as xgb\n",
    "from sklearn.metrics import classification_report, log_loss\n",
    "\n",
    "# Train the model\n",
    "model = Pipeline(steps=[\n",
    "    ('preprocessor', preprocessor),\n",
    "    ('classifier', xgb.XGBClassifier(n_estimators=100, use_label_encoder=False, eval_metric='mlogloss'))\n",
    "])\n",
    "\n",
    "# Train the model\n",
    "model.fit(X_train, y_train)\n",
    "\n",
    "# Evaluate the model\n",
    "y_pred = model.predict(X_test)\n",
    "y_prob = model.predict_proba(X_test)\n",
    "\n",
    "print(classification_report(y_test, y_pred))\n",
    "print('Log Loss:', log_loss(y_test, y_prob))"
   ]
  },
  {
   "cell_type": "code",
   "execution_count": 119,
   "id": "bdca21bb-af6f-47b2-bb3c-4aebf3e19a5d",
   "metadata": {},
   "outputs": [
    {
     "data": {
      "image/png": "[encoded data removed]",
      "text/plain": [
       "<Figure size 1000x600 with 1 Axes>"
      ]
     },
     "metadata": {},
     "output_type": "display_data"
    },
    {
     "name": "stdout",
     "output_type": "stream",
     "text": [
      "Log Likelihood (Log Loss): 0.9303840079806969\n"
     ]
    }
   ],
   "source": [
    "import matplotlib.pyplot as plt\n",
    "import numpy as np\n",
    "from sklearn.metrics import log_loss\n",
    "\n",
    "# Extract the trained XGBoost model from the pipeline\n",
    "xgb_model = model.named_steps['classifier']\n",
    "\n",
    "# Get feature names after preprocessing\n",
    "#nehot_categories = model.named_steps['preprocessor'].named_transformers_['cat'].categories_\n",
    "\n",
    "#print(onehot_categories)\n",
    "#onehot_feature_names = np.concatenate(onehot_categories)\n",
    "#feature_names = np.concatenate([numeric_features, onehot_feature_names])\n",
    "feature_names = numeric_features\n",
    "\n",
    "# Plot feature importances\n",
    "importance = xgb_model.feature_importances_\n",
    "sorted_idx = np.argsort(importance)\n",
    "\n",
    "plt.figure(figsize=(10, 6))\n",
    "plt.barh(range(len(sorted_idx)), importance[sorted_idx], align='center')\n",
    "plt.yticks(range(len(sorted_idx)), feature_names[sorted_idx])\n",
    "plt.xlabel('Feature Importance')\n",
    "plt.title('Feature Importances of XGBoost Model')\n",
    "plt.show()\n",
    "\n",
    "# Compute log likelihood (log loss)\n",
    "y_prob = model.predict_proba(X_test)\n",
    "log_likelihood = log_loss(y_test, y_prob)\n",
    "\n",
    "print('Log Likelihood (Log Loss):', log_likelihood)\n"
   ]
  },
  {
   "cell_type": "code",
   "execution_count": null,
   "id": "a842f3ed-a4e3-495e-b788-8124492c919d",
   "metadata": {},
   "outputs": [],
   "source": []
  },
  {
   "cell_type": "code",
   "execution_count": 122,
   "id": "73719b26-627b-49ca-9a83-8510fa5b7bb5",
   "metadata": {},
   "outputs": [
    {
     "data": {
      "text/plain": [
       "0\n",
       "0    3535\n",
       "4    2428\n",
       "3    1865\n",
       "1    1544\n",
       "2      22\n",
       "Name: count, dtype: int64"
      ]
     },
     "execution_count": 122,
     "metadata": {},
     "output_type": "execute_result"
    }
   ],
   "source": [
    "pd.DataFrame(y_train).value_counts()"
   ]
  }
 ],
 "metadata": {
  "kernelspec": {
   "display_name": "Python 3 (ipykernel)",
   "language": "python",
   "name": "python3"
  },
  "language_info": {
   "codemirror_mode": {
    "name": "ipython",
    "version": 3
   },
   "file_extension": ".py",
   "mimetype": "text/x-python",
   "name": "python",
   "nbconvert_exporter": "python",
   "pygments_lexer": "ipython3",
   "version": "3.12.3"
  }
 },
 "nbformat": 4,
 "nbformat_minor": 5
}
