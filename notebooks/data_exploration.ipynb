{
 "cells": [
  {
   "cell_type": "code",
   "execution_count": 6,
   "id": "1958bba8-cd65-4aa2-a6d4-cff39f93bc6f",
   "metadata": {},
   "outputs": [
    {
     "name": "stdout",
     "output_type": "stream",
     "text": [
      "The sql extension is already loaded. To reload it, use:\n",
      "  %reload_ext sql\n"
     ]
    }
   ],
   "source": [
    "%load_ext sql\n",
    "\n",
    "import pandas as pd\n",
    "import numpy as np"
   ]
  },
  {
   "cell_type": "code",
   "execution_count": 4,
   "id": "f7c8c143-2e0a-4d71-9b32-7d70af68df53",
   "metadata": {},
   "outputs": [],
   "source": [
    "#example usage\n",
    "\n",
    "%sql sqlite:///path/to/your/database.db\n",
    "\n",
    "result = %sql SELECT * FROM employees WHERE salary > 50000;\n",
    "dataframe = result.DataFrame()"
   ]
  }
 ],
 "metadata": {
  "kernelspec": {
   "display_name": "Python 3 (ipykernel)",
   "language": "python",
   "name": "python3"
  },
  "language_info": {
   "codemirror_mode": {
    "name": "ipython",
    "version": 3
   },
   "file_extension": ".py",
   "mimetype": "text/x-python",
   "name": "python",
   "nbconvert_exporter": "python",
   "pygments_lexer": "ipython3",
   "version": "3.12.3"
  }
 },
 "nbformat": 4,
 "nbformat_minor": 5
}
