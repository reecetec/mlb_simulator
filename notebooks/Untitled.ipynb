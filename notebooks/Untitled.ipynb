{
 "cells": [
  {
   "cell_type": "code",
   "execution_count": 1,
   "id": "22bc4abb-cdb5-48e9-b4f0-5b65b67acb66",
   "metadata": {},
   "outputs": [],
   "source": [
    "from mlb_simulator.simulation.Schedule import Schedule\n",
    "from mlb_simulator.simulation.Simulator import Simulator"
   ]
  },
  {
   "cell_type": "code",
   "execution_count": 2,
   "id": "c46f266c-9559-49d4-83e5-01baf1addec8",
   "metadata": {},
   "outputs": [],
   "source": [
    "s = Schedule(for_today=True)"
   ]
  },
  {
   "cell_type": "code",
   "execution_count": 3,
   "id": "d96a3db2-9c33-46e6-bba5-45cc7ccbd5f1",
   "metadata": {},
   "outputs": [
    {
     "name": "stdout",
     "output_type": "stream",
     "text": [
      "TB (Confirmed Lineup: True) @ NYY (Confirmed Lineup: True), 2024-07-20 13:05:00 at Yankee Stadium\n",
      "STL (Confirmed Lineup: True) @ ATL (Confirmed Lineup: True), 2024-07-20 13:07:00 at Truist Park\n",
      "DET (Confirmed Lineup: True) @ TOR (Confirmed Lineup: True), 2024-07-20 15:07:00 at Rogers Centre\n",
      "LAA (Confirmed Lineup: False) @ OAK (Confirmed Lineup: False), 2024-07-20 16:07:00 at Oakland Coliseum\n",
      "NYM (Confirmed Lineup: True) @ MIA (Confirmed Lineup: True), 2024-07-20 16:10:00 at loanDepot park\n",
      "PHI (Confirmed Lineup: False) @ PIT (Confirmed Lineup: False), 2024-07-20 18:40:00 at PNC Park\n",
      "CIN (Confirmed Lineup: False) @ WSH (Confirmed Lineup: False), 2024-07-20 18:45:00 at Nationals Park\n",
      "BAL (Confirmed Lineup: False) @ TEX (Confirmed Lineup: False), 2024-07-20 19:05:00 at Globe Life Field\n",
      "SD (Confirmed Lineup: False) @ CLE (Confirmed Lineup: False), 2024-07-20 19:10:00 at Progressive Field\n",
      "CWS (Confirmed Lineup: False) @ KC (Confirmed Lineup: False), 2024-07-20 19:10:00 at Kauffman Stadium\n",
      "MIL (Confirmed Lineup: False) @ MIN (Confirmed Lineup: False), 2024-07-20 19:10:00 at Target Field\n",
      "AZ (Confirmed Lineup: False) @ CHC (Confirmed Lineup: False), 2024-07-20 19:15:00 at Wrigley Field\n",
      "BOS (Confirmed Lineup: False) @ LAD (Confirmed Lineup: False), 2024-07-20 19:15:00 at Dodger Stadium\n",
      "STL (Confirmed Lineup: False) @ ATL (Confirmed Lineup: False), 2024-07-20 19:20:00 at Truist Park\n",
      "SF (Confirmed Lineup: False) @ COL (Confirmed Lineup: False), 2024-07-20 20:10:00 at Coors Field\n",
      "HOU (Confirmed Lineup: False) @ SEA (Confirmed Lineup: False), 2024-07-20 21:40:00 at T-Mobile Park\n"
     ]
    }
   ],
   "source": [
    "for game in s:\n",
    "    print(game)"
   ]
  },
  {
   "cell_type": "code",
   "execution_count": 4,
   "id": "66fe83d3-b637-4016-b39f-abbce2101023",
   "metadata": {},
   "outputs": [
    {
     "name": "stdout",
     "output_type": "stream",
     "text": [
      "DET (Confirmed Lineup: True) @ TOR (Confirmed Lineup: True), 2024-07-20 15:07:00 at Rogers Centre\n"
     ]
    }
   ],
   "source": [
    "g = s[2]\n",
    "print(g)"
   ]
  },
  {
   "cell_type": "code",
   "execution_count": 5,
   "id": "523521ca-04a2-45cd-ba3f-3347cb05f5e8",
   "metadata": {},
   "outputs": [
    {
     "name": "stderr",
     "output_type": "stream",
     "text": [
      "2024-07-20 12:30:55,744 - mlb_simulator.simulation.Pitcher - INFO - Starting init for Yusei Kikuchi\n",
      "2024-07-20 12:31:00,273 - mlb_simulator.simulation.Batter - INFO - Starting init for George Springer\n",
      "2024-07-20 12:31:07,641 - mlb_simulator.simulation.Batter - INFO - Starting init for Spencer Horwitz\n",
      "2024-07-20 12:31:08,341 - mlb_simulator.simulation.Batter - INFO - Starting init for Vladimir Guerrero Jr.\n",
      "2024-07-20 12:31:28,070 - mlb_simulator.simulation.Batter - INFO - Starting init for Justin Turner\n",
      "2024-07-20 12:31:36,627 - mlb_simulator.simulation.Batter - INFO - Starting init for Danny Jansen\n",
      "2024-07-20 12:31:40,050 - mlb_simulator.simulation.Batter - INFO - Starting init for Daulton Varsho\n",
      "2024-07-20 12:31:45,019 - mlb_simulator.simulation.Batter - INFO - Starting init for Davis Schneider\n"
     ]
    },
    {
     "name": "stdout",
     "output_type": "stream",
     "text": [
      "Error fitting 15362.0, fitting default model\n",
      "\"None of [Index([15362.0], dtype='object', name='ROTOWIREID')] are in the [index]\"\n"
     ]
    },
    {
     "ename": "TypeError",
     "evalue": "PitchOutcome.__init__() missing 1 required positional argument: 'batter_id'",
     "output_type": "error",
     "traceback": [
      "\u001b[0;31m---------------------------------------------------------------------------\u001b[0m",
      "\u001b[0;31mKeyError\u001b[0m                                  Traceback (most recent call last)",
      "File \u001b[0;32m/mnt/e/sports/mlb_simulator/mlb_simulator/simulation/Batter.py:26\u001b[0m, in \u001b[0;36mBatter.__init__\u001b[0;34m(self, mlb_id, rotowire_id, backtest_date)\u001b[0m\n\u001b[1;32m     25\u001b[0m \u001b[38;5;28;01mtry\u001b[39;00m:\n\u001b[0;32m---> 26\u001b[0m     \u001b[38;5;28;43msuper\u001b[39;49m\u001b[43m(\u001b[49m\u001b[43m)\u001b[49m\u001b[38;5;241;43m.\u001b[39;49m\u001b[38;5;21;43m__init__\u001b[39;49m\u001b[43m(\u001b[49m\u001b[43mmlb_id\u001b[49m\u001b[43m,\u001b[49m\u001b[43m \u001b[49m\u001b[43mrotowire_id\u001b[49m\u001b[43m,\u001b[49m\u001b[43m \u001b[49m\u001b[43mbacktest_date\u001b[49m\u001b[43m)\u001b[49m\n\u001b[1;32m     27\u001b[0m     logger\u001b[38;5;241m.\u001b[39minfo(\u001b[38;5;124mf\u001b[39m\u001b[38;5;124m\"\u001b[39m\u001b[38;5;124mStarting init for \u001b[39m\u001b[38;5;132;01m{\u001b[39;00m\u001b[38;5;28mself\u001b[39m\u001b[38;5;241m.\u001b[39mname\u001b[38;5;132;01m}\u001b[39;00m\u001b[38;5;124m\"\u001b[39m)\n",
      "File \u001b[0;32m/mnt/e/sports/mlb_simulator/mlb_simulator/simulation/Player.py:18\u001b[0m, in \u001b[0;36mPlayer.__init__\u001b[0;34m(self, mlb_id, rotowire_id, backtest_date)\u001b[0m\n\u001b[1;32m     17\u001b[0m \u001b[38;5;28mself\u001b[39m\u001b[38;5;241m.\u001b[39mbacktest_date \u001b[38;5;241m=\u001b[39m backtest_date\n\u001b[0;32m---> 18\u001b[0m \u001b[38;5;28;43mself\u001b[39;49m\u001b[38;5;241;43m.\u001b[39;49m\u001b[43mget_player_info\u001b[49m\u001b[43m(\u001b[49m\u001b[43m)\u001b[49m\n",
      "File \u001b[0;32m/mnt/e/sports/mlb_simulator/mlb_simulator/simulation/Player.py:43\u001b[0m, in \u001b[0;36mPlayer.get_player_info\u001b[0;34m(self)\u001b[0m\n\u001b[1;32m     42\u001b[0m name_mapping_df\u001b[38;5;241m.\u001b[39mset_index(\u001b[38;5;124m\"\u001b[39m\u001b[38;5;124mROTOWIREID\u001b[39m\u001b[38;5;124m\"\u001b[39m, inplace\u001b[38;5;241m=\u001b[39m\u001b[38;5;28;01mTrue\u001b[39;00m)\n\u001b[0;32m---> 43\u001b[0m player \u001b[38;5;241m=\u001b[39m \u001b[43mname_mapping_df\u001b[49m\u001b[38;5;241;43m.\u001b[39;49m\u001b[43mloc\u001b[49m\u001b[43m[\u001b[49m\u001b[43m[\u001b[49m\u001b[38;5;28;43mself\u001b[39;49m\u001b[38;5;241;43m.\u001b[39;49m\u001b[43mrotowire_id\u001b[49m\u001b[43m]\u001b[49m\u001b[43m]\u001b[49m\n\u001b[1;32m     44\u001b[0m \u001b[38;5;28mself\u001b[39m\u001b[38;5;241m.\u001b[39mmlb_id \u001b[38;5;241m=\u001b[39m \u001b[38;5;28mint\u001b[39m(player[\u001b[38;5;124m\"\u001b[39m\u001b[38;5;124mMLBID\u001b[39m\u001b[38;5;124m\"\u001b[39m]\u001b[38;5;241m.\u001b[39miloc[\u001b[38;5;241m0\u001b[39m])\n",
      "File \u001b[0;32m~/miniconda3/envs/mlb/lib/python3.12/site-packages/pandas/core/indexing.py:1191\u001b[0m, in \u001b[0;36m_LocationIndexer.__getitem__\u001b[0;34m(self, key)\u001b[0m\n\u001b[1;32m   1190\u001b[0m maybe_callable \u001b[38;5;241m=\u001b[39m \u001b[38;5;28mself\u001b[39m\u001b[38;5;241m.\u001b[39m_check_deprecated_callable_usage(key, maybe_callable)\n\u001b[0;32m-> 1191\u001b[0m \u001b[38;5;28;01mreturn\u001b[39;00m \u001b[38;5;28;43mself\u001b[39;49m\u001b[38;5;241;43m.\u001b[39;49m\u001b[43m_getitem_axis\u001b[49m\u001b[43m(\u001b[49m\u001b[43mmaybe_callable\u001b[49m\u001b[43m,\u001b[49m\u001b[43m \u001b[49m\u001b[43maxis\u001b[49m\u001b[38;5;241;43m=\u001b[39;49m\u001b[43maxis\u001b[49m\u001b[43m)\u001b[49m\n",
      "File \u001b[0;32m~/miniconda3/envs/mlb/lib/python3.12/site-packages/pandas/core/indexing.py:1420\u001b[0m, in \u001b[0;36m_LocIndexer._getitem_axis\u001b[0;34m(self, key, axis)\u001b[0m\n\u001b[1;32m   1418\u001b[0m         \u001b[38;5;28;01mraise\u001b[39;00m \u001b[38;5;167;01mValueError\u001b[39;00m(\u001b[38;5;124m\"\u001b[39m\u001b[38;5;124mCannot index with multidimensional key\u001b[39m\u001b[38;5;124m\"\u001b[39m)\n\u001b[0;32m-> 1420\u001b[0m     \u001b[38;5;28;01mreturn\u001b[39;00m \u001b[38;5;28;43mself\u001b[39;49m\u001b[38;5;241;43m.\u001b[39;49m\u001b[43m_getitem_iterable\u001b[49m\u001b[43m(\u001b[49m\u001b[43mkey\u001b[49m\u001b[43m,\u001b[49m\u001b[43m \u001b[49m\u001b[43maxis\u001b[49m\u001b[38;5;241;43m=\u001b[39;49m\u001b[43maxis\u001b[49m\u001b[43m)\u001b[49m\n\u001b[1;32m   1422\u001b[0m \u001b[38;5;66;03m# nested tuple slicing\u001b[39;00m\n",
      "File \u001b[0;32m~/miniconda3/envs/mlb/lib/python3.12/site-packages/pandas/core/indexing.py:1360\u001b[0m, in \u001b[0;36m_LocIndexer._getitem_iterable\u001b[0;34m(self, key, axis)\u001b[0m\n\u001b[1;32m   1359\u001b[0m \u001b[38;5;66;03m# A collection of keys\u001b[39;00m\n\u001b[0;32m-> 1360\u001b[0m keyarr, indexer \u001b[38;5;241m=\u001b[39m \u001b[38;5;28;43mself\u001b[39;49m\u001b[38;5;241;43m.\u001b[39;49m\u001b[43m_get_listlike_indexer\u001b[49m\u001b[43m(\u001b[49m\u001b[43mkey\u001b[49m\u001b[43m,\u001b[49m\u001b[43m \u001b[49m\u001b[43maxis\u001b[49m\u001b[43m)\u001b[49m\n\u001b[1;32m   1361\u001b[0m \u001b[38;5;28;01mreturn\u001b[39;00m \u001b[38;5;28mself\u001b[39m\u001b[38;5;241m.\u001b[39mobj\u001b[38;5;241m.\u001b[39m_reindex_with_indexers(\n\u001b[1;32m   1362\u001b[0m     {axis: [keyarr, indexer]}, copy\u001b[38;5;241m=\u001b[39m\u001b[38;5;28;01mTrue\u001b[39;00m, allow_dups\u001b[38;5;241m=\u001b[39m\u001b[38;5;28;01mTrue\u001b[39;00m\n\u001b[1;32m   1363\u001b[0m )\n",
      "File \u001b[0;32m~/miniconda3/envs/mlb/lib/python3.12/site-packages/pandas/core/indexing.py:1558\u001b[0m, in \u001b[0;36m_LocIndexer._get_listlike_indexer\u001b[0;34m(self, key, axis)\u001b[0m\n\u001b[1;32m   1556\u001b[0m axis_name \u001b[38;5;241m=\u001b[39m \u001b[38;5;28mself\u001b[39m\u001b[38;5;241m.\u001b[39mobj\u001b[38;5;241m.\u001b[39m_get_axis_name(axis)\n\u001b[0;32m-> 1558\u001b[0m keyarr, indexer \u001b[38;5;241m=\u001b[39m \u001b[43max\u001b[49m\u001b[38;5;241;43m.\u001b[39;49m\u001b[43m_get_indexer_strict\u001b[49m\u001b[43m(\u001b[49m\u001b[43mkey\u001b[49m\u001b[43m,\u001b[49m\u001b[43m \u001b[49m\u001b[43maxis_name\u001b[49m\u001b[43m)\u001b[49m\n\u001b[1;32m   1560\u001b[0m \u001b[38;5;28;01mreturn\u001b[39;00m keyarr, indexer\n",
      "File \u001b[0;32m~/miniconda3/envs/mlb/lib/python3.12/site-packages/pandas/core/indexes/base.py:6200\u001b[0m, in \u001b[0;36mIndex._get_indexer_strict\u001b[0;34m(self, key, axis_name)\u001b[0m\n\u001b[1;32m   6198\u001b[0m     keyarr, indexer, new_indexer \u001b[38;5;241m=\u001b[39m \u001b[38;5;28mself\u001b[39m\u001b[38;5;241m.\u001b[39m_reindex_non_unique(keyarr)\n\u001b[0;32m-> 6200\u001b[0m \u001b[38;5;28;43mself\u001b[39;49m\u001b[38;5;241;43m.\u001b[39;49m\u001b[43m_raise_if_missing\u001b[49m\u001b[43m(\u001b[49m\u001b[43mkeyarr\u001b[49m\u001b[43m,\u001b[49m\u001b[43m \u001b[49m\u001b[43mindexer\u001b[49m\u001b[43m,\u001b[49m\u001b[43m \u001b[49m\u001b[43maxis_name\u001b[49m\u001b[43m)\u001b[49m\n\u001b[1;32m   6202\u001b[0m keyarr \u001b[38;5;241m=\u001b[39m \u001b[38;5;28mself\u001b[39m\u001b[38;5;241m.\u001b[39mtake(indexer)\n",
      "File \u001b[0;32m~/miniconda3/envs/mlb/lib/python3.12/site-packages/pandas/core/indexes/base.py:6249\u001b[0m, in \u001b[0;36mIndex._raise_if_missing\u001b[0;34m(self, key, indexer, axis_name)\u001b[0m\n\u001b[1;32m   6248\u001b[0m \u001b[38;5;28;01mif\u001b[39;00m nmissing \u001b[38;5;241m==\u001b[39m \u001b[38;5;28mlen\u001b[39m(indexer):\n\u001b[0;32m-> 6249\u001b[0m     \u001b[38;5;28;01mraise\u001b[39;00m \u001b[38;5;167;01mKeyError\u001b[39;00m(\u001b[38;5;124mf\u001b[39m\u001b[38;5;124m\"\u001b[39m\u001b[38;5;124mNone of [\u001b[39m\u001b[38;5;132;01m{\u001b[39;00mkey\u001b[38;5;132;01m}\u001b[39;00m\u001b[38;5;124m] are in the [\u001b[39m\u001b[38;5;132;01m{\u001b[39;00maxis_name\u001b[38;5;132;01m}\u001b[39;00m\u001b[38;5;124m]\u001b[39m\u001b[38;5;124m\"\u001b[39m)\n\u001b[1;32m   6251\u001b[0m not_found \u001b[38;5;241m=\u001b[39m \u001b[38;5;28mlist\u001b[39m(ensure_index(key)[missing_mask\u001b[38;5;241m.\u001b[39mnonzero()[\u001b[38;5;241m0\u001b[39m]]\u001b[38;5;241m.\u001b[39munique())\n",
      "\u001b[0;31mKeyError\u001b[0m: \"None of [Index([15362.0], dtype='object', name='ROTOWIREID')] are in the [index]\"",
      "\nDuring handling of the above exception, another exception occurred:\n",
      "\u001b[0;31mTypeError\u001b[0m                                 Traceback (most recent call last)",
      "Cell \u001b[0;32mIn[5], line 1\u001b[0m\n\u001b[0;32m----> 1\u001b[0m game_simulator \u001b[38;5;241m=\u001b[39m \u001b[43mSimulator\u001b[49m\u001b[43m(\u001b[49m\u001b[43mg\u001b[49m\u001b[43m)\u001b[49m\n",
      "File \u001b[0;32m/mnt/e/sports/mlb_simulator/mlb_simulator/simulation/Simulator.py:22\u001b[0m, in \u001b[0;36mSimulator.__init__\u001b[0;34m(self, game)\u001b[0m\n\u001b[1;32m     19\u001b[0m \u001b[38;5;28mself\u001b[39m\u001b[38;5;241m.\u001b[39mgame \u001b[38;5;241m=\u001b[39m game\n\u001b[1;32m     20\u001b[0m \u001b[38;5;28mself\u001b[39m\u001b[38;5;241m.\u001b[39mstate \u001b[38;5;241m=\u001b[39m GameState(game\u001b[38;5;241m.\u001b[39mhome_team\u001b[38;5;241m.\u001b[39mname, game\u001b[38;5;241m.\u001b[39maway_team\u001b[38;5;241m.\u001b[39mname)\n\u001b[0;32m---> 22\u001b[0m \u001b[38;5;28;43mself\u001b[39;49m\u001b[38;5;241;43m.\u001b[39;49m\u001b[43mgame\u001b[49m\u001b[38;5;241;43m.\u001b[39;49m\u001b[43mfit\u001b[49m\u001b[43m(\u001b[49m\u001b[43m)\u001b[49m\n\u001b[1;32m     24\u001b[0m \u001b[38;5;28mself\u001b[39m\u001b[38;5;241m.\u001b[39mscores \u001b[38;5;241m=\u001b[39m pd\u001b[38;5;241m.\u001b[39mDataFrame(\n\u001b[1;32m     25\u001b[0m     columns\u001b[38;5;241m=\u001b[39mpd\u001b[38;5;241m.\u001b[39mIndex([game\u001b[38;5;241m.\u001b[39mhome_team\u001b[38;5;241m.\u001b[39mname, game\u001b[38;5;241m.\u001b[39maway_team\u001b[38;5;241m.\u001b[39mname])\n\u001b[1;32m     26\u001b[0m )\n\u001b[1;32m     27\u001b[0m \u001b[38;5;28mself\u001b[39m\u001b[38;5;241m.\u001b[39mscores \u001b[38;5;241m=\u001b[39m []\n",
      "File \u001b[0;32m/mnt/e/sports/mlb_simulator/mlb_simulator/simulation/Game.py:49\u001b[0m, in \u001b[0;36mGame.fit\u001b[0;34m(self)\u001b[0m\n\u001b[1;32m     47\u001b[0m     \u001b[38;5;28mprint\u001b[39m(\u001b[38;5;124m\"\u001b[39m\u001b[38;5;124mError getting venue name\u001b[39m\u001b[38;5;124m\"\u001b[39m)\n\u001b[1;32m     48\u001b[0m     exit()\n\u001b[0;32m---> 49\u001b[0m \u001b[38;5;28;43mself\u001b[39;49m\u001b[38;5;241;43m.\u001b[39;49m\u001b[43mhome_team\u001b[49m\u001b[38;5;241;43m.\u001b[39;49m\u001b[43mfit\u001b[49m\u001b[43m(\u001b[49m\u001b[43m)\u001b[49m\n\u001b[1;32m     50\u001b[0m \u001b[38;5;28mself\u001b[39m\u001b[38;5;241m.\u001b[39maway_team\u001b[38;5;241m.\u001b[39mfit()\n\u001b[1;32m     51\u001b[0m \u001b[38;5;28mself\u001b[39m\u001b[38;5;241m.\u001b[39mhit_classifier\u001b[38;5;241m.\u001b[39mfit()\n",
      "File \u001b[0;32m/mnt/e/sports/mlb_simulator/mlb_simulator/simulation/Team.py:52\u001b[0m, in \u001b[0;36mTeam.fit\u001b[0;34m(self)\u001b[0m\n\u001b[1;32m     49\u001b[0m \u001b[38;5;28;01mdef\u001b[39;00m \u001b[38;5;21mfit\u001b[39m(\u001b[38;5;28mself\u001b[39m):\n\u001b[1;32m     50\u001b[0m     \u001b[38;5;28mself\u001b[39m\u001b[38;5;241m.\u001b[39mpitcher \u001b[38;5;241m=\u001b[39m Pitcher(rotowire_id\u001b[38;5;241m=\u001b[39m\u001b[38;5;28mfloat\u001b[39m(\u001b[38;5;28mself\u001b[39m\u001b[38;5;241m.\u001b[39mpitcher_id))\n\u001b[1;32m     51\u001b[0m     \u001b[38;5;28mself\u001b[39m\u001b[38;5;241m.\u001b[39m_batters \u001b[38;5;241m=\u001b[39m [\n\u001b[0;32m---> 52\u001b[0m         \u001b[43mBatter\u001b[49m\u001b[43m(\u001b[49m\u001b[43mrotowire_id\u001b[49m\u001b[38;5;241;43m=\u001b[39;49m\u001b[38;5;28;43mfloat\u001b[39;49m\u001b[43m(\u001b[49m\u001b[43mbatter_id\u001b[49m\u001b[43m)\u001b[49m\u001b[43m)\u001b[49m \u001b[38;5;28;01mfor\u001b[39;00m batter_id \u001b[38;5;129;01min\u001b[39;00m \u001b[38;5;28mself\u001b[39m\u001b[38;5;241m.\u001b[39mbatter_ids\n\u001b[1;32m     53\u001b[0m     ]\n",
      "File \u001b[0;32m/mnt/e/sports/mlb_simulator/mlb_simulator/simulation/Batter.py:39\u001b[0m, in \u001b[0;36mBatter.__init__\u001b[0;34m(self, mlb_id, rotowire_id, backtest_date)\u001b[0m\n\u001b[1;32m     37\u001b[0m \u001b[38;5;28mprint\u001b[39m(\u001b[38;5;124mf\u001b[39m\u001b[38;5;124m\"\u001b[39m\u001b[38;5;124mError fitting \u001b[39m\u001b[38;5;132;01m{\u001b[39;00mrotowire_id\u001b[38;5;132;01m}\u001b[39;00m\u001b[38;5;124m, fitting default model\u001b[39m\u001b[38;5;124m\"\u001b[39m)\n\u001b[1;32m     38\u001b[0m \u001b[38;5;28mprint\u001b[39m(e)\n\u001b[0;32m---> 39\u001b[0m \u001b[38;5;28mself\u001b[39m\u001b[38;5;241m.\u001b[39mpitch_outcome \u001b[38;5;241m=\u001b[39m \u001b[43mPitchOutcome\u001b[49m\u001b[43m(\u001b[49m\u001b[43m)\u001b[49m\n\u001b[1;32m     40\u001b[0m \u001b[38;5;28mself\u001b[39m\u001b[38;5;241m.\u001b[39mhit_outcome \u001b[38;5;241m=\u001b[39m HitOutcome()\n\u001b[1;32m     41\u001b[0m \u001b[38;5;28mself\u001b[39m\u001b[38;5;241m.\u001b[39mpitch_outcome\u001b[38;5;241m.\u001b[39mfit()\n",
      "\u001b[0;31mTypeError\u001b[0m: PitchOutcome.__init__() missing 1 required positional argument: 'batter_id'"
     ]
    }
   ],
   "source": [
    "game_simulator = Simulator(g)"
   ]
  },
  {
   "cell_type": "code",
   "execution_count": 12,
   "id": "5955c245-4c1a-4070-bcfb-f3e2a5c476f2",
   "metadata": {
    "scrolled": true
   },
   "outputs": [
    {
     "name": "stderr",
     "output_type": "stream",
     "text": [
      "  3%|█████▏                                                                                                                                                                      | 3/100 [00:06<03:45,  2.33s/it]"
     ]
    },
    {
     "name": "stdout",
     "output_type": "stream",
     "text": [
      "unknown count event: None\n"
     ]
    },
    {
     "name": "stderr",
     "output_type": "stream",
     "text": [
      "  9%|███████████████▍                                                                                                                                                            | 9/100 [00:19<03:12,  2.11s/it]"
     ]
    },
    {
     "name": "stdout",
     "output_type": "stream",
     "text": [
      "unknown count event: None\n"
     ]
    },
    {
     "name": "stderr",
     "output_type": "stream",
     "text": [
      " 16%|███████████████████████████▎                                                                                                                                               | 16/100 [00:34<02:46,  1.98s/it]"
     ]
    },
    {
     "name": "stdout",
     "output_type": "stream",
     "text": [
      "unknown count event: None\n"
     ]
    },
    {
     "name": "stderr",
     "output_type": "stream",
     "text": [
      " 17%|█████████████████████████████                                                                                                                                              | 17/100 [00:36<02:45,  1.99s/it]"
     ]
    },
    {
     "name": "stdout",
     "output_type": "stream",
     "text": [
      "unknown count event: None\n"
     ]
    },
    {
     "name": "stderr",
     "output_type": "stream",
     "text": [
      " 28%|███████████████████████████████████████████████▉                                                                                                                           | 28/100 [01:04<03:03,  2.55s/it]"
     ]
    },
    {
     "name": "stdout",
     "output_type": "stream",
     "text": [
      "unknown count event: None\n"
     ]
    },
    {
     "name": "stderr",
     "output_type": "stream",
     "text": [
      " 29%|█████████████████████████████████████████████████▌                                                                                                                         | 29/100 [01:07<02:57,  2.50s/it]"
     ]
    },
    {
     "name": "stdout",
     "output_type": "stream",
     "text": [
      "unknown count event: None\n"
     ]
    },
    {
     "name": "stderr",
     "output_type": "stream",
     "text": [
      " 30%|███████████████████████████████████████████████████▎                                                                                                                       | 30/100 [01:09<02:43,  2.34s/it]"
     ]
    },
    {
     "name": "stdout",
     "output_type": "stream",
     "text": [
      "unknown count event: None\n"
     ]
    },
    {
     "name": "stderr",
     "output_type": "stream",
     "text": [
      " 34%|██████████████████████████████████████████████████████████▏                                                                                                                | 34/100 [01:20<02:50,  2.58s/it]"
     ]
    },
    {
     "name": "stdout",
     "output_type": "stream",
     "text": [
      "unknown count event: None\n"
     ]
    },
    {
     "name": "stderr",
     "output_type": "stream",
     "text": [
      " 38%|████████████████████████████████████████████████████████████████▉                                                                                                          | 38/100 [01:32<02:55,  2.82s/it]"
     ]
    },
    {
     "name": "stdout",
     "output_type": "stream",
     "text": [
      "unknown count event: None\n"
     ]
    },
    {
     "name": "stderr",
     "output_type": "stream",
     "text": [
      " 40%|████████████████████████████████████████████████████████████████████▍                                                                                                      | 40/100 [01:38<03:01,  3.03s/it]"
     ]
    },
    {
     "name": "stdout",
     "output_type": "stream",
     "text": [
      "unknown count event: None\n"
     ]
    },
    {
     "name": "stderr",
     "output_type": "stream",
     "text": [
      " 44%|███████████████████████████████████████████████████████████████████████████▏                                                                                               | 44/100 [01:49<02:30,  2.68s/it]"
     ]
    },
    {
     "name": "stdout",
     "output_type": "stream",
     "text": [
      "unknown count event: None\n"
     ]
    },
    {
     "name": "stderr",
     "output_type": "stream",
     "text": [
      " 47%|████████████████████████████████████████████████████████████████████████████████▎                                                                                          | 47/100 [01:55<02:05,  2.38s/it]"
     ]
    },
    {
     "name": "stdout",
     "output_type": "stream",
     "text": [
      "unknown count event: None\n",
      "unknown count event: None\n"
     ]
    },
    {
     "name": "stderr",
     "output_type": "stream",
     "text": [
      " 49%|███████████████████████████████████████████████████████████████████████████████████▊                                                                                       | 49/100 [01:59<01:47,  2.10s/it]"
     ]
    },
    {
     "name": "stdout",
     "output_type": "stream",
     "text": [
      "unknown count event: None\n"
     ]
    },
    {
     "name": "stderr",
     "output_type": "stream",
     "text": [
      " 54%|████████████████████████████████████████████████████████████████████████████████████████████▎                                                                              | 54/100 [02:12<01:59,  2.60s/it]"
     ]
    },
    {
     "name": "stdout",
     "output_type": "stream",
     "text": [
      "unknown count event: None\n",
      "unknown count event: None\n"
     ]
    },
    {
     "name": "stderr",
     "output_type": "stream",
     "text": [
      " 55%|██████████████████████████████████████████████████████████████████████████████████████████████                                                                             | 55/100 [02:14<01:52,  2.49s/it]"
     ]
    },
    {
     "name": "stdout",
     "output_type": "stream",
     "text": [
      "unknown count event: None\n"
     ]
    },
    {
     "name": "stderr",
     "output_type": "stream",
     "text": [
      " 56%|███████████████████████████████████████████████████████████████████████████████████████████████▊                                                                           | 56/100 [02:16<01:46,  2.41s/it]"
     ]
    },
    {
     "name": "stdout",
     "output_type": "stream",
     "text": [
      "unknown count event: None\n"
     ]
    },
    {
     "name": "stderr",
     "output_type": "stream",
     "text": [
      " 61%|████████████████████████████████████████████████████████████████████████████████████████████████████████▎                                                                  | 61/100 [02:29<01:32,  2.38s/it]"
     ]
    },
    {
     "name": "stdout",
     "output_type": "stream",
     "text": [
      "unknown count event: None\n",
      "unknown count event: None\n"
     ]
    },
    {
     "name": "stderr",
     "output_type": "stream",
     "text": [
      " 63%|███████████████████████████████████████████████████████████████████████████████████████████████████████████▋                                                               | 63/100 [02:33<01:19,  2.16s/it]"
     ]
    },
    {
     "name": "stdout",
     "output_type": "stream",
     "text": [
      "unknown count event: None\n"
     ]
    },
    {
     "name": "stderr",
     "output_type": "stream",
     "text": [
      " 64%|█████████████████████████████████████████████████████████████████████████████████████████████████████████████▍                                                             | 64/100 [02:35<01:24,  2.35s/it]"
     ]
    },
    {
     "name": "stdout",
     "output_type": "stream",
     "text": [
      "unknown count event: None\n"
     ]
    },
    {
     "name": "stderr",
     "output_type": "stream",
     "text": [
      " 66%|████████████████████████████████████████████████████████████████████████████████████████████████████████████████▊                                                          | 66/100 [02:40<01:21,  2.40s/it]"
     ]
    },
    {
     "name": "stdout",
     "output_type": "stream",
     "text": [
      "unknown count event: None\n"
     ]
    },
    {
     "name": "stderr",
     "output_type": "stream",
     "text": [
      " 68%|████████████████████████████████████████████████████████████████████████████████████████████████████████████████████▎                                                      | 68/100 [02:44<01:10,  2.20s/it]"
     ]
    },
    {
     "name": "stdout",
     "output_type": "stream",
     "text": [
      "unknown count event: None\n"
     ]
    },
    {
     "name": "stderr",
     "output_type": "stream",
     "text": [
      " 70%|███████████████████████████████████████████████████████████████████████████████████████████████████████████████████████▋                                                   | 70/100 [02:48<01:03,  2.11s/it]"
     ]
    },
    {
     "name": "stdout",
     "output_type": "stream",
     "text": [
      "unknown count event: None\n"
     ]
    },
    {
     "name": "stderr",
     "output_type": "stream",
     "text": [
      " 83%|█████████████████████████████████████████████████████████████████████████████████████████████████████████████████████████████████████████████▉                             | 83/100 [03:24<00:44,  2.59s/it]"
     ]
    },
    {
     "name": "stdout",
     "output_type": "stream",
     "text": [
      "unknown count event: None\n",
      "unknown count event: None\n"
     ]
    },
    {
     "name": "stderr",
     "output_type": "stream",
     "text": [
      " 85%|█████████████████████████████████████████████████████████████████████████████████████████████████████████████████████████████████████████████████▎                         | 85/100 [03:29<00:39,  2.60s/it]"
     ]
    },
    {
     "name": "stdout",
     "output_type": "stream",
     "text": [
      "unknown count event: None\n"
     ]
    },
    {
     "name": "stderr",
     "output_type": "stream",
     "text": [
      " 86%|███████████████████████████████████████████████████████████████████████████████████████████████████████████████████████████████████████████████████                        | 86/100 [03:31<00:33,  2.40s/it]"
     ]
    },
    {
     "name": "stdout",
     "output_type": "stream",
     "text": [
      "unknown count event: None\n"
     ]
    },
    {
     "name": "stderr",
     "output_type": "stream",
     "text": [
      " 87%|████████████████████████████████████████████████████████████████████████████████████████████████████████████████████████████████████████████████████▊                      | 87/100 [03:34<00:31,  2.45s/it]"
     ]
    },
    {
     "name": "stdout",
     "output_type": "stream",
     "text": [
      "unknown count event: None\n",
      "unknown count event: None\n"
     ]
    },
    {
     "name": "stderr",
     "output_type": "stream",
     "text": [
      " 94%|████████████████████████████████████████████████████████████████████████████████████████████████████████████████████████████████████████████████████████████████▋          | 94/100 [03:49<00:13,  2.21s/it]"
     ]
    },
    {
     "name": "stdout",
     "output_type": "stream",
     "text": [
      "unknown count event: None\n"
     ]
    },
    {
     "name": "stderr",
     "output_type": "stream",
     "text": [
      "100%|██████████████████████████████████████████████████████████████████████████████████████████████████████████████████████████████████████████████████████████████████████████| 100/100 [04:03<00:00,  2.43s/it]\n"
     ]
    }
   ],
   "source": [
    "scores = game_simulator(num_simulations=250)"
   ]
  },
  {
   "cell_type": "code",
   "execution_count": 15,
   "id": "d25d18d5-4139-4c2f-920a-eb557f06823f",
   "metadata": {},
   "outputs": [
    {
     "data": {
      "text/plain": [
       "96"
      ]
     },
     "execution_count": 15,
     "metadata": {},
     "output_type": "execute_result"
    }
   ],
   "source": [
    "len(scores)"
   ]
  },
  {
   "cell_type": "code",
   "execution_count": 20,
   "id": "559662a9-b2ba-44d2-849a-9b64f965d8e6",
   "metadata": {
    "scrolled": true
   },
   "outputs": [
    {
     "data": {
      "text/plain": [
       "[     1  2  3  4  5\n",
       " BAL  1  0  5  0  2\n",
       " TEX  1  0  0  2  0,\n",
       "      1  2  3  4  5\n",
       " BAL  0  2  0  1  0\n",
       " TEX  6  0  0  2  1,\n",
       "      1  2  3  4  5\n",
       " BAL  1  0  0  0  0\n",
       " TEX  0  0  0  0  0,\n",
       "      1  2  3  4  5\n",
       " BAL  0  0  0  0  0\n",
       " TEX  2  0  2  1  0,\n",
       "      1  2  3  4  5\n",
       " BAL  0  2  0  0  0\n",
       " TEX  2  0  0  4  0,\n",
       "      1  2  3  4  5\n",
       " BAL  0  0  0  0  0\n",
       " TEX  0  0  2  0  0,\n",
       "      1  2  3  4  5\n",
       " BAL  0  0  1  0  0\n",
       " TEX  3  2  0  0  0,\n",
       "      1  2  3  4  5\n",
       " BAL  1  0  2  0  0\n",
       " TEX  3  0  0  0  1,\n",
       "      1  2  3  4  5\n",
       " BAL  0  2  0  0  0\n",
       " TEX  0  0  0  1  0,\n",
       "      1  2  3  4  5\n",
       " BAL  1  0  2  0  1\n",
       " TEX  0  5  0  0  1,\n",
       "      1  2  3  4  5\n",
       " BAL  0  0  0  0  0\n",
       " TEX  2  0  0  0  0,\n",
       "      1  2  3  4  5\n",
       " BAL  1  2  0  0  1\n",
       " TEX  0  0  1  0  1,\n",
       "      1  2  3  4  5\n",
       " BAL  0  0  1  1  0\n",
       " TEX  1  0  0  0  0,\n",
       "      1  2  3  4  5\n",
       " BAL  1  0  0  0  0\n",
       " TEX  3  2  0  0  0,\n",
       "      1  2  3  4  5\n",
       " BAL  0  0  0  0  0\n",
       " TEX  1  0  0  0  0,\n",
       "      1  2  3  4  5\n",
       " BAL  0  0  5  0  0\n",
       " TEX  0  0  0  0  0,\n",
       "      1  2  3  4  5\n",
       " BAL  0  0  2  0  0\n",
       " TEX  0  0  0  0  1,\n",
       "      1  2  3  4  5\n",
       " BAL  0  0  0  1  0\n",
       " TEX  1  0  0  2  0,\n",
       "      1  2  3  4  5\n",
       " BAL  0  0  0  0  0\n",
       " TEX  1  0  0  0  0,\n",
       "      1  2  3  4  5\n",
       " BAL  0  0  0  0  0\n",
       " TEX  1  0  0  0  0,\n",
       "      1  2  3  4  5\n",
       " BAL  0  1  0  0  0\n",
       " TEX  0  0  0  0  0,\n",
       "      1  2  3  4  5\n",
       " BAL  2  0  0  1  0\n",
       " TEX  0  1  0  2  0,\n",
       "      1  2  3  4  5\n",
       " BAL  0  0  2  0  0\n",
       " TEX  0  2  2  1  0,\n",
       "      1  2  3  4  5\n",
       " BAL  0  1  1  1  0\n",
       " TEX  0  1  1  1  0,\n",
       "      1  2  3  4  5\n",
       " BAL  0  0  0  0  0\n",
       " TEX  0  1  0  0  2,\n",
       "      1  2  3  4  5\n",
       " BAL  0  0  0  1  0\n",
       " TEX  2  0  0  0  8,\n",
       "      1  2  3  4  5\n",
       " BAL  0  0  0  0  0\n",
       " TEX  0  0  1  5  2,\n",
       "      1  2  3  4  5\n",
       " BAL  2  0  0  0  4\n",
       " TEX  0  1  1  1  0,\n",
       "      1  2  3  4  5\n",
       " BAL  0  0  0  0  0\n",
       " TEX  0  0  0  0  1,\n",
       "      1  2  3  4  5\n",
       " BAL  0  0  0  0  3\n",
       " TEX  0  0  0  0  4,\n",
       "      1  2  3  4  5\n",
       " BAL  0  0  0  3  0\n",
       " TEX  0  0  0  0  0,\n",
       "      1  2  3  4  5\n",
       " BAL  0  0  0  0  0\n",
       " TEX  5  1  0  0  0,\n",
       "      1  2  3  4  5\n",
       " BAL  1  0  0  0  0\n",
       " TEX  0  2  0  0  1,\n",
       "      1  2  3  4  5\n",
       " BAL  0  0  0  0  1\n",
       " TEX  5  0  0  0  0,\n",
       "      1  2  3  4  5\n",
       " BAL  1  0  0  1  0\n",
       " TEX  0  0  0  0  0,\n",
       "      1  2  3  4  5\n",
       " BAL  0  0  0  2  0\n",
       " TEX  1  0  0  0  4,\n",
       "      1  2  3  4  5\n",
       " BAL  3  0  0  1  0\n",
       " TEX  0  0  0  0  0,\n",
       "      1  2  3  4  5\n",
       " BAL  0  1  3  0  7\n",
       " TEX  0  0  0  1  0,\n",
       "      1  2  3  4  5\n",
       " BAL  0  0  4  0  0\n",
       " TEX  0  0  0  0  1,\n",
       "      1  2  3  4  5\n",
       " BAL  0  2  0  3  0\n",
       " TEX  4  0  0  0  0,\n",
       "      1  2  3  4  5\n",
       " BAL  0  0  0  0  0\n",
       " TEX  0  0  0  3  0,\n",
       "      1  2  3  4  5\n",
       " BAL  1  0  0  0  1\n",
       " TEX  0  0  0  1  0,\n",
       "      1  2  3  4  5\n",
       " BAL  0  3  1  3  1\n",
       " TEX  2  0  0  0  1,\n",
       "      1  2  3  4  5\n",
       " BAL  0  0  0  0  0\n",
       " TEX  0  2  2  0  2,\n",
       "      1  2  3  4  5\n",
       " BAL  0  4  0  3  1\n",
       " TEX  0  0  0  0  0,\n",
       "      1  2  3  4  5\n",
       " BAL  4  0  2  0  0\n",
       " TEX  0  2  0  0  0,\n",
       "      1  2  3  4  5\n",
       " BAL  0  0  1  0  0\n",
       " TEX  0  0  0  0  0,\n",
       "      1  2  3  4  5\n",
       " BAL  0  0  0  0  0\n",
       " TEX  0  0  0  0  2,\n",
       "      1  2  3  4  5\n",
       " BAL  2  0  0  0  0\n",
       " TEX  0  0  0  0  2,\n",
       "      1  2  3  4  5\n",
       " BAL  1  1  0  0  0\n",
       " TEX  0  1  0  0  0,\n",
       "      1  2  3  4  5\n",
       " BAL  0  0  0  0  1\n",
       " TEX  0  0  0  1  0,\n",
       "      1  2  3  4  5\n",
       " BAL  0  1  0  2  0\n",
       " TEX  0  0  0  0  1,\n",
       "      1  2  3  4  5\n",
       " BAL  0  0  2  3  0\n",
       " TEX  4  0  0  2  3,\n",
       "      1  2  3  4  5\n",
       " BAL  0  0  0  2  0\n",
       " TEX  1  1  1  1  0,\n",
       "      1  2  3  4  5\n",
       " BAL  0  0  4  2  0\n",
       " TEX  0  0  0  0  0,\n",
       "      1  2  3  4  5\n",
       " BAL  1  1  2  0  1\n",
       " TEX  1  0  0  0  0,\n",
       "      1  2  3  4  5\n",
       " BAL  0  1  0  0  0\n",
       " TEX  2  0  0  0  0,\n",
       "      1  2  3  4  5\n",
       " BAL  0  0  0  0  0\n",
       " TEX  2  0  0  0  3,\n",
       "      1  2  3  4  5\n",
       " BAL  0  1  1  3  0\n",
       " TEX  0  1  0  9  0,\n",
       "      1  2  3  4  5\n",
       " BAL  0  0  0  0  1\n",
       " TEX  0  0  0  0  0,\n",
       "      1  2  3  4  5\n",
       " BAL  0  2  3  3  0\n",
       " TEX  0  0  0  0  0,\n",
       "      1  2  3  4  5\n",
       " BAL  1  0  0  0  0\n",
       " TEX  0  2  0  0  0,\n",
       "      1  2  3   4  5\n",
       " BAL  2  4  1   0  0\n",
       " TEX  0  1  0  10  0,\n",
       "      1  2  3  4  5\n",
       " BAL  0  1  9  0  0\n",
       " TEX  0  3  0  0  0,\n",
       "      1  2  3  4  5\n",
       " BAL  4  3  0  0  2\n",
       " TEX  1  2  0  1  0,\n",
       "      1  2  3  4  5\n",
       " BAL  1  0  0  0  0\n",
       " TEX  0  1  1  0  0,\n",
       "      1  2  3  4  5\n",
       " BAL  1  1  0  0  1\n",
       " TEX  0  0  0  4  0,\n",
       "      1  2  3  4  5\n",
       " BAL  0  0  0  0  0\n",
       " TEX  0  0  0  0  0,\n",
       "      1  2  3  4  5\n",
       " BAL  0  0  0  0  0\n",
       " TEX  0  0  0  0  0,\n",
       "      1  2  3  4  5\n",
       " BAL  0  0  0  0  0\n",
       " TEX  0  0  2  0  0,\n",
       "      1  2  3  4  5\n",
       " BAL  0  0  0  0  0\n",
       " TEX  0  1  0  2  0,\n",
       "      1  2  3  4  5\n",
       " BAL  3  0  0  3  0\n",
       " TEX  0  0  1  0  3,\n",
       "      1  2  3  4  5\n",
       " BAL  0  0  5  0  0\n",
       " TEX  1  1  0  0  0,\n",
       "      1  2  3  4  5\n",
       " BAL  0  0  0  1  2\n",
       " TEX  0  0  0  0  3,\n",
       "      1  2  3  4  5\n",
       " BAL  1  4  1  0  0\n",
       " TEX  0  0  0  1  0,\n",
       "      1  2  3  4  5\n",
       " BAL  0  0  0  0  3\n",
       " TEX  2  2  1  0  0,\n",
       "      1  2  3  4  5\n",
       " BAL  0  2  2  1  0\n",
       " TEX  0  0  0  2  0,\n",
       "      1  2  3  4  5\n",
       " BAL  0  0  0  4  0\n",
       " TEX  0  0  5  1  0,\n",
       "      1  2  3  4  5\n",
       " BAL  1  0  0  0  0\n",
       " TEX  2  0  0  1  1,\n",
       "      1  2  3  4  5\n",
       " BAL  0  0  0  0  0\n",
       " TEX  0  1  3  0  0,\n",
       "      1  2  3  4  5\n",
       " BAL  0  2  1  0  0\n",
       " TEX  0  0  0  1  0,\n",
       "      1  2  3  4   5\n",
       " BAL  4  0  0  0   0\n",
       " TEX  0  0  0  0  10,\n",
       "      1  2  3  4  5\n",
       " BAL  0  1  0  0  0\n",
       " TEX  0  0  0  0  1,\n",
       "      1  2  3  4  5\n",
       " BAL  0  0  0  0  0\n",
       " TEX  0  1  0  0  0,\n",
       "      1  2  3  4  5\n",
       " BAL  0  0  0  0  0\n",
       " TEX  1  0  5  2  0,\n",
       "      1  2  3  4  5\n",
       " BAL  1  0  1  0  0\n",
       " TEX  1  1  0  2  0,\n",
       "      1  2  3  4  5\n",
       " BAL  0  1  0  1  2\n",
       " TEX  0  0  0  0  0,\n",
       "      1  2  3  4  5\n",
       " BAL  4  0  0  0  3\n",
       " TEX  0  0  0  0  0,\n",
       "      1  2  3  4  5\n",
       " BAL  0  0  0  0  1\n",
       " TEX  1  0  0  0  0,\n",
       "      1  2  3  4  5\n",
       " BAL  4  0  1  3  0\n",
       " TEX  0  0  0  1  0,\n",
       "      1  2  3  4  5\n",
       " BAL  0  0  1  0  0\n",
       " TEX  0  1  3  0  0,\n",
       "      1   2  3  4  5\n",
       " BAL  0   0  1  0  0\n",
       " TEX  2  10  0  0  0,\n",
       "      1  2  3  4  5\n",
       " BAL  0  0  0  0  0\n",
       " TEX  0  0  0  0  0,\n",
       "      1  2  3  4  5\n",
       " BAL  0  0  1  0  0\n",
       " TEX  0  2  0  0  0,\n",
       "      1  2  3  4  5\n",
       " BAL  0  0  1  0  0\n",
       " TEX  0  0  0  0  0,\n",
       "      1  2  3  4  5\n",
       " BAL  4  0  0  1  2\n",
       " TEX  0  0  0  0  3]"
      ]
     },
     "execution_count": 20,
     "metadata": {},
     "output_type": "execute_result"
    }
   ],
   "source": [
    "import pandas as pd\n",
    "scores"
   ]
  },
  {
   "cell_type": "code",
   "execution_count": 23,
   "id": "79a8cb76-7d44-41f1-b84c-1e5693684553",
   "metadata": {},
   "outputs": [],
   "source": [
    "total_scores = []\n",
    "for score in scores:\n",
    "    total_scores.append(score.sum(axis=1))"
   ]
  },
  {
   "cell_type": "code",
   "execution_count": 28,
   "id": "707073db-87d7-43c7-8d51-3006e98d5d54",
   "metadata": {},
   "outputs": [],
   "source": [
    "game_scores = pd.concat(total_scores, axis=1).T"
   ]
  },
  {
   "cell_type": "code",
   "execution_count": 30,
   "id": "9c8be3da-f323-4f00-919d-d1acfc5daa74",
   "metadata": {},
   "outputs": [],
   "source": [
    "game_scores['tex_wins'] = game_scores['BAL'] > game_scores['TEX']"
   ]
  },
  {
   "cell_type": "code",
   "execution_count": 35,
   "id": "64c31df4-ca1a-4556-b664-6a6ef34f72da",
   "metadata": {},
   "outputs": [],
   "source": [
    "game_scores['total'] = game_scores['BAL'] + game_scores['TEX']"
   ]
  },
  {
   "cell_type": "code",
   "execution_count": 38,
   "id": "64b52d5e-d994-4b92-a369-c5ffb7b6e7d1",
   "metadata": {},
   "outputs": [
    {
     "data": {
      "text/plain": [
       "0.6458333333333334"
      ]
     },
     "execution_count": 38,
     "metadata": {},
     "output_type": "execute_result"
    }
   ],
   "source": [
    "(game_scores['total'] > 3.5).mean()"
   ]
  },
  {
   "cell_type": "code",
   "execution_count": 32,
   "id": "f7d457b6-60fa-42c6-b50f-7bbf33af2ce9",
   "metadata": {},
   "outputs": [
    {
     "data": {
      "text/plain": [
       "0.3958333333333333"
      ]
     },
     "execution_count": 32,
     "metadata": {},
     "output_type": "execute_result"
    }
   ],
   "source": [
    "game_scores['bal_wins'].mean()"
   ]
  }
 ],
 "metadata": {
  "kernelspec": {
   "display_name": "Python 3 (ipykernel)",
   "language": "python",
   "name": "python3"
  },
  "language_info": {
   "codemirror_mode": {
    "name": "ipython",
    "version": 3
   },
   "file_extension": ".py",
   "mimetype": "text/x-python",
   "name": "python",
   "nbconvert_exporter": "python",
   "pygments_lexer": "ipython3",
   "version": "3.12.3"
  }
 },
 "nbformat": 4,
 "nbformat_minor": 5
}
