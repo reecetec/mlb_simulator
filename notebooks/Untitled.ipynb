{
 "cells": [
  {
   "cell_type": "code",
   "execution_count": 1,
   "id": "22bc4abb-cdb5-48e9-b4f0-5b65b67acb66",
   "metadata": {},
   "outputs": [],
   "source": [
    "from mlb_simulator.simulation.Schedule import Schedule\n",
    "from mlb_simulator.simulation.Simulator import Simulator"
   ]
  },
  {
   "cell_type": "code",
   "execution_count": 2,
   "id": "c46f266c-9559-49d4-83e5-01baf1addec8",
   "metadata": {},
   "outputs": [
    {
     "name": "stdout",
     "output_type": "stream",
     "text": [
      "MIL (Confirmed Lineup: False) @ MIN (Confirmed Lineup: False), 2024-07-21 13:05:00 at Target Field\n",
      "TB (Confirmed Lineup: False) @ NYY (Confirmed Lineup: False), 2024-07-21 13:35:00 at Yankee Stadium\n",
      "STL (Confirmed Lineup: False) @ ATL (Confirmed Lineup: False), 2024-07-21 13:35:00 at Truist Park\n",
      "CIN (Confirmed Lineup: False) @ WSH (Confirmed Lineup: False), 2024-07-21 13:35:00 at Nationals Park\n",
      "PHI (Confirmed Lineup: False) @ PIT (Confirmed Lineup: False), 2024-07-21 13:35:00 at PNC Park\n",
      "DET (Confirmed Lineup: False) @ TOR (Confirmed Lineup: False), 2024-07-21 13:37:00 at Rogers Centre\n",
      "SD (Confirmed Lineup: False) @ CLE (Confirmed Lineup: False), 2024-07-21 13:40:00 at Progressive Field\n",
      "NYM (Confirmed Lineup: False) @ MIA (Confirmed Lineup: False), 2024-07-21 13:40:00 at loanDepot park\n",
      "CWS (Confirmed Lineup: False) @ KC (Confirmed Lineup: False), 2024-07-21 14:10:00 at Kauffman Stadium\n",
      "AZ (Confirmed Lineup: False) @ CHC (Confirmed Lineup: False), 2024-07-21 14:20:00 at Wrigley Field\n",
      "BAL (Confirmed Lineup: False) @ TEX (Confirmed Lineup: False), 2024-07-21 14:35:00 at Globe Life Field\n",
      "SF (Confirmed Lineup: False) @ COL (Confirmed Lineup: False), 2024-07-21 15:10:00 at Coors Field\n",
      "LAA (Confirmed Lineup: False) @ OAK (Confirmed Lineup: False), 2024-07-21 16:07:00 at Oakland Coliseum\n",
      "HOU (Confirmed Lineup: False) @ SEA (Confirmed Lineup: False), 2024-07-21 16:10:00 at T-Mobile Park\n",
      "BOS (Confirmed Lineup: False) @ LAD (Confirmed Lineup: False), 2024-07-21 19:10:00 at Dodger Stadium\n"
     ]
    }
   ],
   "source": [
    "s = Schedule(for_today=False)\n",
    "for game in s:\n",
    "    print(game)"
   ]
  },
  {
   "cell_type": "code",
   "execution_count": 3,
   "id": "66fe83d3-b637-4016-b39f-abbce2101023",
   "metadata": {},
   "outputs": [
    {
     "name": "stdout",
     "output_type": "stream",
     "text": [
      "MIL (Confirmed Lineup: False) @ MIN (Confirmed Lineup: False), 2024-07-21 13:05:00 at Target Field\n"
     ]
    }
   ],
   "source": [
    "g = s[0]\n",
    "print(g)"
   ]
  },
  {
   "cell_type": "code",
   "execution_count": 4,
   "id": "523521ca-04a2-45cd-ba3f-3347cb05f5e8",
   "metadata": {},
   "outputs": [
    {
     "name": "stderr",
     "output_type": "stream",
     "text": [
      "2024-07-20 21:44:06,823 - mlb_simulator.simulation.Pitcher - INFO - Starting init for Joe Ryan\n",
      "2024-07-20 21:44:10,582 - mlb_simulator.simulation.Batter - INFO - Starting init for Willi Castro\n",
      "2024-07-20 21:44:18,685 - mlb_simulator.simulation.Batter - INFO - Starting init for Trevor Larnach\n",
      "2024-07-20 21:44:20,603 - mlb_simulator.simulation.Batter - INFO - Starting init for Byron Buxton\n",
      "2024-07-20 21:44:23,992 - mlb_simulator.simulation.Batter - INFO - Starting init for Matt Wallner\n",
      "2024-07-20 21:44:25,058 - mlb_simulator.simulation.Batter - INFO - Starting init for Brooks Lee\n",
      "2024-07-20 21:44:25,408 - mlb_simulator.simulation.Batter - INFO - Starting init for Max Kepler\n",
      "2024-07-20 21:44:35,387 - mlb_simulator.simulation.Batter - INFO - Starting init for Carlos Santana\n",
      "2024-07-20 21:44:56,582 - mlb_simulator.simulation.Batter - INFO - Starting init for Ryan Jeffers\n",
      "2024-07-20 21:44:59,023 - mlb_simulator.simulation.Batter - INFO - Starting init for Edouard Julien\n",
      "2024-07-20 21:45:00,676 - mlb_simulator.simulation.Pitcher - INFO - Starting init for Aaron Civale\n",
      "2024-07-20 21:45:06,320 - mlb_simulator.simulation.Batter - INFO - Starting init for Brice Turang\n",
      "2024-07-20 21:45:08,992 - mlb_simulator.simulation.Batter - INFO - Starting init for William Contreras\n",
      "2024-07-20 21:45:12,274 - mlb_simulator.simulation.Batter - INFO - Starting init for Christian Yelich\n",
      "2024-07-20 21:45:19,579 - mlb_simulator.simulation.Batter - INFO - Starting init for Willy Adames\n",
      "2024-07-20 21:45:32,345 - mlb_simulator.simulation.Batter - INFO - Starting init for Sal Frelick\n",
      "2024-07-20 21:45:33,904 - mlb_simulator.simulation.Batter - INFO - Starting init for Rhys Hoskins\n",
      "2024-07-20 21:45:40,310 - mlb_simulator.simulation.Batter - INFO - Starting init for Garrett Mitchell\n",
      "2024-07-20 21:45:40,847 - mlb_simulator.simulation.Batter - INFO - Starting init for Joey Ortiz\n",
      "2024-07-20 21:45:41,631 - mlb_simulator.simulation.Batter - INFO - Starting init for Jackson Chourio\n",
      "2024-07-20 21:46:00,050 - mlb_simulator.models.model_utils - INFO - No hyperparams found for 3312, hit_classifier: finding and saving optimal hyperparams...\n"
     ]
    }
   ],
   "source": [
    "game_simulator = Simulator(g)"
   ]
  },
  {
   "cell_type": "code",
   "execution_count": null,
   "id": "20850d32-dce2-46ab-bcc0-58eea292ceeb",
   "metadata": {},
   "outputs": [],
   "source": [
    "class OddsMaker:\n",
    "    def __init__(self, scores):\n",
    "        self.scores = scores\n",
    "        self.process_scores(self.scores)\n",
    "\n",
    "    def make_totals_market(self):\n",
    "        print('      o / u')\n",
    "        for i in range(10):\n",
    "            total = i + 0.5\n",
    "            print(f'{total}: {self.p_to_odds((self.game_scores['total'] > total).mean())}/{self.p_to_odds((self.game_scores['total'] < total).mean())}')\n",
    "\n",
    "    def make_spread_market(self):\n",
    "        print(f'home_team -0.5: {self.p_to_odds((self.game_scores['home_wins']).mean())} ({(self.game_scores['home_wins']).mean():.2f})')\n",
    "        print(f'away_team -0.5: {self.p_to_odds((self.game_scores['away_wins']).mean())} ({(self.game_scores['away_wins']).mean():.2f})')\n",
    "        print(f'home_team +0.5: {self.p_to_odds((self.game_scores['home_covers']).mean())} ({(self.game_scores['home_covers']).mean():.2f})')\n",
    "        print(f'away_team +0.5: {self.p_to_odds((self.game_scores['away_covers']).mean())} ({(self.game_scores['home_wins']).mean():.2f})')\n",
    "    \n",
    "    def make_markets(self):\n",
    "        print('totals')\n",
    "        self.make_totals_market()\n",
    "        print('\\nspreads')\n",
    "        self.make_spread_market()\n",
    "\n",
    "    def process_scores(self, scores):\n",
    "    \n",
    "        total_scores = []\n",
    "        for score in scores:\n",
    "            total_scores.append(score.sum(axis=1))\n",
    "        \n",
    "        game_scores = pd.concat(total_scores, axis=1).T\n",
    "        game_scores['total'] = game_scores[game_scores.columns[0]] + game_scores[game_scores.columns[1]]\n",
    "        game_scores['away_wins'] = game_scores[game_scores.columns[0]] > game_scores[game_scores.columns[1]]\n",
    "        game_scores['home_wins'] = game_scores[game_scores.columns[0]] < game_scores[game_scores.columns[1]]\n",
    "        game_scores['home_covers'] = game_scores[game_scores.columns[0]] <= game_scores[game_scores.columns[1]]\n",
    "        game_scores['away_covers'] = game_scores[game_scores.columns[0]] >= game_scores[game_scores.columns[1]]\n",
    "\n",
    "        self.game_scores = game_scores\n",
    "        \n",
    "    def p_to_odds(self, probability):\n",
    "        if probability <= 0 or probability >= 1:\n",
    "            raise ValueError(\"Probability must be between 0 and 1 (exclusive).\")\n",
    "    \n",
    "        if probability > 0.5:\n",
    "            american_odds = -(probability / (1 - probability)) * 100\n",
    "        else:\n",
    "            american_odds = (100 / probability) - 100\n",
    "        \n",
    "        return round(american_odds)\n",
    "\n",
    "odds = OddsMaker(scores)\n",
    "odds.make_markets()"
   ]
  },
  {
   "cell_type": "code",
   "execution_count": 5,
   "id": "caeb6b2e-e0cd-4582-bceb-cf97a1376acf",
   "metadata": {},
   "outputs": [
    {
     "name": "stdout",
     "output_type": "stream",
     "text": [
      "MIL (Confirmed Lineup: False) @ MIN (Confirmed Lineup: False), 2024-07-21 13:05:00 at Target Field\n"
     ]
    }
   ],
   "source": [
    "print(g)"
   ]
  },
  {
   "cell_type": "code",
   "execution_count": null,
   "id": "5955c245-4c1a-4070-bcfb-f3e2a5c476f2",
   "metadata": {
    "scrolled": true
   },
   "outputs": [
    {
     "name": "stderr",
     "output_type": "stream",
     "text": [
      "  0%|                                                                                                                                                                                    | 0/250 [00:00<?, ?it/s]"
     ]
    },
    {
     "name": "stdout",
     "output_type": "stream",
     "text": [
      "swing.pitch_outcome is none: Hit(pitch_outcome=None, hit_outcome=None)\n",
      "unknown count event: None\n"
     ]
    },
    {
     "name": "stderr",
     "output_type": "stream",
     "text": [
      "  2%|███▍                                                                                                                                                                        | 5/250 [00:11<10:02,  2.46s/it]"
     ]
    },
    {
     "name": "stdout",
     "output_type": "stream",
     "text": [
      "swing.pitch_outcome is none: Hit(pitch_outcome=None, hit_outcome=None)\n",
      "unknown count event: None\n"
     ]
    },
    {
     "name": "stderr",
     "output_type": "stream",
     "text": [
      "  3%|████▊                                                                                                                                                                       | 7/250 [00:15<08:43,  2.15s/it]"
     ]
    },
    {
     "name": "stdout",
     "output_type": "stream",
     "text": [
      "swing.pitch_outcome is none: Hit(pitch_outcome=None, hit_outcome=None)\n",
      "unknown count event: None\n"
     ]
    },
    {
     "name": "stderr",
     "output_type": "stream",
     "text": [
      "  5%|████████▉                                                                                                                                                                  | 13/250 [00:27<07:50,  1.98s/it]"
     ]
    },
    {
     "name": "stdout",
     "output_type": "stream",
     "text": [
      "swing.pitch_outcome is none: Hit(pitch_outcome=None, hit_outcome=None)\n",
      "unknown count event: None\n"
     ]
    },
    {
     "name": "stderr",
     "output_type": "stream",
     "text": [
      "  6%|██████████▎                                                                                                                                                                | 15/250 [00:31<07:35,  1.94s/it]"
     ]
    },
    {
     "name": "stdout",
     "output_type": "stream",
     "text": [
      "swing.pitch_outcome is none: Hit(pitch_outcome=None, hit_outcome=None)\n",
      "unknown count event: None\n"
     ]
    },
    {
     "name": "stderr",
     "output_type": "stream",
     "text": [
      "  7%|███████████▋                                                                                                                                                               | 17/250 [00:34<07:31,  1.94s/it]"
     ]
    },
    {
     "name": "stdout",
     "output_type": "stream",
     "text": [
      "swing.pitch_outcome is none: Hit(pitch_outcome=None, hit_outcome=None)\n",
      "unknown count event: None\n"
     ]
    },
    {
     "name": "stderr",
     "output_type": "stream",
     "text": [
      "  8%|████████████▉                                                                                                                                                              | 19/250 [00:39<08:06,  2.11s/it]"
     ]
    },
    {
     "name": "stdout",
     "output_type": "stream",
     "text": [
      "swing.pitch_outcome is none: Hit(pitch_outcome=None, hit_outcome=None)\n",
      "unknown count event: None\n"
     ]
    },
    {
     "name": "stderr",
     "output_type": "stream",
     "text": [
      "  8%|█████████████▋                                                                                                                                                             | 20/250 [00:40<06:46,  1.77s/it]"
     ]
    },
    {
     "name": "stdout",
     "output_type": "stream",
     "text": [
      "('double_play', 'R', TransitionState(outs=0, on_1b=False, on_2b=False, on_3b=False))\n"
     ]
    },
    {
     "name": "stderr",
     "output_type": "stream",
     "text": [
      "  9%|███████████████▋                                                                                                                                                           | 23/250 [00:45<06:16,  1.66s/it]"
     ]
    },
    {
     "name": "stdout",
     "output_type": "stream",
     "text": [
      "swing.pitch_outcome is none: Hit(pitch_outcome=None, hit_outcome=None)\n",
      "unknown count event: None\n"
     ]
    },
    {
     "name": "stderr",
     "output_type": "stream",
     "text": [
      " 12%|█████████████████████▏                                                                                                                                                     | 31/250 [01:01<07:21,  2.02s/it]"
     ]
    },
    {
     "name": "stdout",
     "output_type": "stream",
     "text": [
      "swing.pitch_outcome is none: Hit(pitch_outcome=None, hit_outcome=None)\n",
      "unknown count event: None\n"
     ]
    },
    {
     "name": "stderr",
     "output_type": "stream",
     "text": [
      " 14%|███████████████████████▉                                                                                                                                                   | 35/250 [01:09<07:08,  1.99s/it]"
     ]
    },
    {
     "name": "stdout",
     "output_type": "stream",
     "text": [
      "swing.pitch_outcome is none: Hit(pitch_outcome=None, hit_outcome=None)\n",
      "unknown count event: None\n"
     ]
    },
    {
     "name": "stderr",
     "output_type": "stream",
     "text": [
      " 16%|██████████████████████████▋                                                                                                                                                | 39/250 [01:16<06:04,  1.73s/it]"
     ]
    },
    {
     "name": "stdout",
     "output_type": "stream",
     "text": [
      "swing.pitch_outcome is none: Hit(pitch_outcome=None, hit_outcome=None)\n",
      "unknown count event: None\n"
     ]
    },
    {
     "name": "stderr",
     "output_type": "stream",
     "text": [
      " 20%|█████████████████████████████████▌                                                                                                                                         | 49/250 [01:36<06:31,  1.95s/it]"
     ]
    },
    {
     "name": "stdout",
     "output_type": "stream",
     "text": [
      "swing.pitch_outcome is none: Hit(pitch_outcome=None, hit_outcome=None)\n",
      "unknown count event: None\n"
     ]
    },
    {
     "name": "stderr",
     "output_type": "stream",
     "text": [
      " 20%|██████████████████████████████████▉                                                                                                                                        | 51/250 [01:40<06:32,  1.97s/it]"
     ]
    },
    {
     "name": "stdout",
     "output_type": "stream",
     "text": [
      "swing.pitch_outcome is none: Hit(pitch_outcome=None, hit_outcome=None)\n",
      "unknown count event: None\n"
     ]
    },
    {
     "name": "stderr",
     "output_type": "stream",
     "text": [
      " 21%|███████████████████████████████████▌                                                                                                                                       | 52/250 [01:42<06:29,  1.97s/it]"
     ]
    },
    {
     "name": "stdout",
     "output_type": "stream",
     "text": [
      "swing.pitch_outcome is none: Hit(pitch_outcome=None, hit_outcome=None)\n",
      "unknown count event: None\n"
     ]
    },
    {
     "name": "stderr",
     "output_type": "stream",
     "text": [
      " 21%|████████████████████████████████████▎                                                                                                                                      | 53/250 [01:43<06:12,  1.89s/it]"
     ]
    },
    {
     "name": "stdout",
     "output_type": "stream",
     "text": [
      "swing.pitch_outcome is none: Hit(pitch_outcome=None, hit_outcome=None)\n",
      "unknown count event: None\n"
     ]
    },
    {
     "name": "stderr",
     "output_type": "stream",
     "text": [
      " 22%|█████████████████████████████████████▌                                                                                                                                     | 55/250 [01:47<05:43,  1.76s/it]"
     ]
    },
    {
     "name": "stdout",
     "output_type": "stream",
     "text": [
      "('double_play', 'L', TransitionState(outs=1, on_1b=False, on_2b=False, on_3b=False))\n",
      "swing.pitch_outcome is none: Hit(pitch_outcome=None, hit_outcome=None)\n",
      "unknown count event: None\n"
     ]
    },
    {
     "name": "stderr",
     "output_type": "stream",
     "text": [
      " 23%|███████████████████████████████████████▋                                                                                                                                   | 58/250 [01:53<06:21,  1.99s/it]"
     ]
    },
    {
     "name": "stdout",
     "output_type": "stream",
     "text": [
      "swing.pitch_outcome is none: Hit(pitch_outcome=None, hit_outcome=None)\n",
      "unknown count event: None\n"
     ]
    },
    {
     "name": "stderr",
     "output_type": "stream",
     "text": [
      " 24%|█████████████████████████████████████████▋                                                                                                                                 | 61/250 [01:59<06:44,  2.14s/it]"
     ]
    },
    {
     "name": "stdout",
     "output_type": "stream",
     "text": [
      "swing.pitch_outcome is none: Hit(pitch_outcome=None, hit_outcome=None)\n",
      "unknown count event: None\n"
     ]
    },
    {
     "name": "stderr",
     "output_type": "stream",
     "text": [
      " 29%|█████████████████████████████████████████████████▏                                                                                                                         | 72/250 [02:23<07:07,  2.40s/it]"
     ]
    },
    {
     "name": "stdout",
     "output_type": "stream",
     "text": [
      "swing.pitch_outcome is none: Hit(pitch_outcome=None, hit_outcome=None)\n",
      "unknown count event: None\n"
     ]
    },
    {
     "name": "stderr",
     "output_type": "stream",
     "text": [
      " 32%|██████████████████████████████████████████████████████                                                                                                                     | 79/250 [02:36<05:09,  1.81s/it]"
     ]
    },
    {
     "name": "stdout",
     "output_type": "stream",
     "text": [
      "swing.pitch_outcome is none: Hit(pitch_outcome=None, hit_outcome=None)\n",
      "unknown count event: None\n"
     ]
    },
    {
     "name": "stderr",
     "output_type": "stream",
     "text": [
      " 34%|██████████████████████████████████████████████████████████▊                                                                                                                | 86/250 [02:50<05:39,  2.07s/it]"
     ]
    },
    {
     "name": "stdout",
     "output_type": "stream",
     "text": [
      "swing.pitch_outcome is none: Hit(pitch_outcome=None, hit_outcome=None)\n",
      "unknown count event: None\n",
      "swing.pitch_outcome is none: Hit(pitch_outcome=None, hit_outcome=None)\n",
      "unknown count event: None\n"
     ]
    },
    {
     "name": "stderr",
     "output_type": "stream",
     "text": [
      " 39%|███████████████████████████████████████████████████████████████████                                                                                                        | 98/250 [03:14<05:13,  2.06s/it]"
     ]
    },
    {
     "name": "stdout",
     "output_type": "stream",
     "text": [
      "swing.pitch_outcome is none: Hit(pitch_outcome=None, hit_outcome=None)\n",
      "unknown count event: None\n"
     ]
    },
    {
     "name": "stderr",
     "output_type": "stream",
     "text": [
      " 40%|████████████████████████████████████████████████████████████████████▋                                                                                                     | 101/250 [03:20<05:01,  2.02s/it]"
     ]
    },
    {
     "name": "stdout",
     "output_type": "stream",
     "text": [
      "swing.pitch_outcome is none: Hit(pitch_outcome=None, hit_outcome=None)\n",
      "unknown count event: None\n"
     ]
    },
    {
     "name": "stderr",
     "output_type": "stream",
     "text": [
      " 42%|██████████████████████████████████████████████████████████████████████▋                                                                                                   | 104/250 [03:28<05:56,  2.44s/it]"
     ]
    },
    {
     "name": "stdout",
     "output_type": "stream",
     "text": [
      "swing.pitch_outcome is none: Hit(pitch_outcome=None, hit_outcome=None)\n",
      "unknown count event: None\n"
     ]
    },
    {
     "name": "stderr",
     "output_type": "stream",
     "text": [
      " 43%|████████████████████████████████████████████████████████████████████████▊                                                                                                 | 107/250 [03:35<05:28,  2.30s/it]"
     ]
    },
    {
     "name": "stdout",
     "output_type": "stream",
     "text": [
      "swing.pitch_outcome is none: Hit(pitch_outcome=None, hit_outcome=None)\n",
      "unknown count event: None\n"
     ]
    },
    {
     "name": "stderr",
     "output_type": "stream",
     "text": [
      " 44%|██████████████████████████████████████████████████████████████████████████                                                                                                | 109/250 [03:39<05:13,  2.22s/it]"
     ]
    },
    {
     "name": "stdout",
     "output_type": "stream",
     "text": [
      "swing.pitch_outcome is none: Hit(pitch_outcome=None, hit_outcome=None)\n",
      "unknown count event: None\n"
     ]
    },
    {
     "name": "stderr",
     "output_type": "stream",
     "text": [
      " 46%|██████████████████████████████████████████████████████████████████████████████▏                                                                                           | 115/250 [03:49<04:03,  1.81s/it]"
     ]
    },
    {
     "name": "stdout",
     "output_type": "stream",
     "text": [
      "swing.pitch_outcome is none: Hit(pitch_outcome=None, hit_outcome=None)\n",
      "unknown count event: None\n",
      "swing.pitch_outcome is none: Hit(pitch_outcome=None, hit_outcome=None)\n",
      "unknown count event: None\n",
      "swing.pitch_outcome is none: Hit(pitch_outcome=None, hit_outcome=None)\n",
      "unknown count event: None\n"
     ]
    },
    {
     "name": "stderr",
     "output_type": "stream",
     "text": [
      " 47%|███████████████████████████████████████████████████████████████████████████████▌                                                                                          | 117/250 [03:54<04:29,  2.03s/it]"
     ]
    },
    {
     "name": "stdout",
     "output_type": "stream",
     "text": [
      "swing.pitch_outcome is none: Hit(pitch_outcome=None, hit_outcome=None)\n",
      "unknown count event: None\n"
     ]
    },
    {
     "name": "stderr",
     "output_type": "stream",
     "text": [
      " 47%|████████████████████████████████████████████████████████████████████████████████▏                                                                                         | 118/250 [03:56<04:27,  2.02s/it]"
     ]
    },
    {
     "name": "stdout",
     "output_type": "stream",
     "text": [
      "swing.pitch_outcome is none: Hit(pitch_outcome=None, hit_outcome=None)\n",
      "unknown count event: None\n"
     ]
    },
    {
     "name": "stderr",
     "output_type": "stream",
     "text": [
      " 48%|████████████████████████████████████████████████████████████████████████████████▉                                                                                         | 119/250 [03:57<04:13,  1.94s/it]"
     ]
    },
    {
     "name": "stdout",
     "output_type": "stream",
     "text": [
      "swing.pitch_outcome is none: Hit(pitch_outcome=None, hit_outcome=None)\n",
      "unknown count event: None\n"
     ]
    },
    {
     "name": "stderr",
     "output_type": "stream",
     "text": [
      " 49%|██████████████████████████████████████████████████████████████████████████████████▉                                                                                       | 122/250 [04:04<04:20,  2.03s/it]"
     ]
    },
    {
     "name": "stdout",
     "output_type": "stream",
     "text": [
      "swing.pitch_outcome is none: Hit(pitch_outcome=None, hit_outcome=None)\n",
      "unknown count event: None\n"
     ]
    },
    {
     "name": "stderr",
     "output_type": "stream",
     "text": [
      " 54%|████████████████████████████████████████████████████████████████████████████████████████████▍                                                                             | 136/250 [04:42<04:07,  2.18s/it]"
     ]
    },
    {
     "name": "stdout",
     "output_type": "stream",
     "text": [
      "swing.pitch_outcome is none: Hit(pitch_outcome=None, hit_outcome=None)\n",
      "unknown count event: None\n"
     ]
    },
    {
     "name": "stderr",
     "output_type": "stream",
     "text": [
      " 57%|████████████████████████████████████████████████████████████████████████████████████████████████▌                                                                         | 142/250 [04:55<04:03,  2.25s/it]"
     ]
    },
    {
     "name": "stdout",
     "output_type": "stream",
     "text": [
      "swing.pitch_outcome is none: Hit(pitch_outcome=None, hit_outcome=None)\n",
      "unknown count event: None\n"
     ]
    },
    {
     "name": "stderr",
     "output_type": "stream",
     "text": [
      " 58%|█████████████████████████████████████████████████████████████████████████████████████████████████▉                                                                        | 144/250 [05:02<05:03,  2.86s/it]"
     ]
    }
   ],
   "source": [
    "scores = game_simulator(num_simulations=250)"
   ]
  }
 ],
 "metadata": {
  "kernelspec": {
   "display_name": "Python 3 (ipykernel)",
   "language": "python",
   "name": "python3"
  },
  "language_info": {
   "codemirror_mode": {
    "name": "ipython",
    "version": 3
   },
   "file_extension": ".py",
   "mimetype": "text/x-python",
   "name": "python",
   "nbconvert_exporter": "python",
   "pygments_lexer": "ipython3",
   "version": "3.12.3"
  }
 },
 "nbformat": 4,
 "nbformat_minor": 5
}
