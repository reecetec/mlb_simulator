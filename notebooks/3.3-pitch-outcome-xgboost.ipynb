{
 "cells": [
  {
   "cell_type": "code",
   "execution_count": 1,
   "id": "0c7713aa-4402-42ea-97df-35d1b7e46dbe",
   "metadata": {},
   "outputs": [],
   "source": [
    "import xgboost as xgb\n",
    "import pandas as pd\n",
    "import numpy as np"
   ]
  },
  {
   "cell_type": "code",
   "execution_count": null,
   "id": "cf9ad50f-f178-4dbd-875d-d69ab7afe3da",
   "metadata": {},
   "outputs": [],
   "source": [
    "X, y, encoders, pitch_arsenal = get_sequencing_dataset(self.mlb_id, self.backtest_date)\n",
    "self.pitch_arsenal = pitch_arsenal\n",
    "params = {\n",
    "    'objective' : 'multi:softprob',\n",
    "    'eval_metric': 'mlogloss',      \n",
    "    'learning_rate': 0.01,\n",
    "    'max_depth': 2, \n",
    "    'n_estimators': 500 \n",
    "}\n",
    "self.pitch_sequencer = xgb.XGBClassifier(**params)\n",
    "self.pitch_sequencer.fit(X, y)\n",
    "self.pitch_sequencer_encoders = encoders\n",
    "self.pitch_sequencer_vars = self.pitch_sequencer.get_booster().feature_names"
   ]
  },
  {
   "cell_type": "code",
   "execution_count": 2,
   "id": "a7dd5056-513e-4a6a-a77a-ff03ea09d019",
   "metadata": {},
   "outputs": [],
   "source": [
    "from src.features.build_features import get_pitch_outcome_dataset"
   ]
  },
  {
   "cell_type": "code",
   "execution_count": 3,
   "id": "d6f8e54f-57ba-4cdd-a9ba-55ef0a8500e0",
   "metadata": {},
   "outputs": [],
   "source": [
    "vladdy = 665489\n",
    "soto = 665742\n",
    "schneider = 676914\n",
    "batter = soto"
   ]
  },
  {
   "cell_type": "code",
   "execution_count": null,
   "id": "d59f7a82-8e29-4ae9-beb9-3bf52a34227f",
   "metadata": {},
   "outputs": [],
   "source": []
  }
 ],
 "metadata": {
  "kernelspec": {
   "display_name": "Python 3 (ipykernel)",
   "language": "python",
   "name": "python3"
  },
  "language_info": {
   "codemirror_mode": {
    "name": "ipython",
    "version": 3
   },
   "file_extension": ".py",
   "mimetype": "text/x-python",
   "name": "python",
   "nbconvert_exporter": "python",
   "pygments_lexer": "ipython3",
   "version": "3.12.3"
  }
 },
 "nbformat": 4,
 "nbformat_minor": 5
}
