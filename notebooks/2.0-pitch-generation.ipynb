{
 "cells": [
  {
   "cell_type": "markdown",
   "id": "6e2f4c14-39f7-454f-923e-19398f02ad9e",
   "metadata": {},
   "source": [
    "# Generate a Pitch\n",
    " - Given the current pitcher, game state, num pitches thrown, opposing batter characteristics, and pitcher characteristics\n",
    " - What will the next pitch look like?\n",
    "## Answers 2 questions:\n",
    " - Next pitch type to be thrown?\n",
    " - What are the characteristics of the pitch (speed, release pos, zone, etc.)?\n",
    " - Will be used as input to the batter\n",
    "## Potential Difficulties:\n",
    " - How do you quantify the change in pitch type distribution based on opposing batters statistics?\n",
    " - How do you factor the correlation between pitch characteristics like release pos, etc. to generate realistic pithces?\n",
    " - How do you adjust factors based on the opposing batter's zone?\n",
    " - How do you adjust based on pitch sequencing?"
   ]
  }
 ],
 "metadata": {
  "kernelspec": {
   "display_name": "Python 3 (ipykernel)",
   "language": "python",
   "name": "python3"
  },
  "language_info": {
   "codemirror_mode": {
    "name": "ipython",
    "version": 3
   },
   "file_extension": ".py",
   "mimetype": "text/x-python",
   "name": "python",
   "nbconvert_exporter": "python",
   "pygments_lexer": "ipython3",
   "version": "3.12.3"
  }
 },
 "nbformat": 4,
 "nbformat_minor": 5
}
