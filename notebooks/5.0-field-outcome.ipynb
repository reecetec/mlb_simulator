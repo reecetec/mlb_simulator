{
 "cells": [
  {
   "cell_type": "markdown",
   "id": "34059b8b-81fe-491a-9d6f-581760829a12",
   "metadata": {},
   "source": [
    "# Generate Field Outcome\n",
    " - Given the batter has made contact, and the hit characteristics are given, what happens on the field?\n",
    " - Is the ball caught, do runners advance, is it a home run?\n",
    " - Model must factor in current game state, i.e., bases, etc.\n",
    "\n",
    "## Potential Difficulties:\n",
    " - Maybe need to adjust for outfielders?\n",
    " - How to factor stealing in, this also needs to be worked on in the bat outcome as it can happen on strikes/balls?"
   ]
  }
 ],
 "metadata": {
  "kernelspec": {
   "display_name": "Python 3 (ipykernel)",
   "language": "python",
   "name": "python3"
  },
  "language_info": {
   "codemirror_mode": {
    "name": "ipython",
    "version": 3
   },
   "file_extension": ".py",
   "mimetype": "text/x-python",
   "name": "python",
   "nbconvert_exporter": "python",
   "pygments_lexer": "ipython3",
   "version": "3.12.3"
  }
 },
 "nbformat": 4,
 "nbformat_minor": 5
}
