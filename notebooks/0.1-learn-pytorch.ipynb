{
 "cells": [
  {
   "cell_type": "code",
   "execution_count": 2,
   "id": "d3e07769-cdda-4526-9b98-0fa6e2469f9e",
   "metadata": {},
   "outputs": [],
   "source": [
    "import pandas as pd\n",
    "import numpy as np\n",
    "import torch"
   ]
  },
  {
   "cell_type": "markdown",
   "id": "9890ee40-623e-4f8f-9c27-b21366bd3bf8",
   "metadata": {},
   "source": [
    "# Basic Torch"
   ]
  },
  {
   "cell_type": "code",
   "execution_count": 3,
   "id": "9b25a991-fb05-4d55-8cbe-e524c959dd0a",
   "metadata": {},
   "outputs": [
    {
     "data": {
      "text/plain": [
       "tensor([ 0.,  1.,  2.,  3.,  4.,  5.,  6.,  7.,  8.,  9., 10., 11.])"
      ]
     },
     "execution_count": 3,
     "metadata": {},
     "output_type": "execute_result"
    }
   ],
   "source": [
    "x = torch.arange(12, dtype=torch.float32)\n",
    "x"
   ]
  },
  {
   "cell_type": "code",
   "execution_count": 4,
   "id": "a5810806-1376-4a52-bfdf-f7ee260268a3",
   "metadata": {},
   "outputs": [
    {
     "data": {
      "text/plain": [
       "12"
      ]
     },
     "execution_count": 4,
     "metadata": {},
     "output_type": "execute_result"
    }
   ],
   "source": [
    "x.numel()"
   ]
  },
  {
   "cell_type": "code",
   "execution_count": 5,
   "id": "b81e2847-fb3d-4789-8b11-9ba5aeaa94ed",
   "metadata": {},
   "outputs": [
    {
     "data": {
      "text/plain": [
       "torch.Size([12])"
      ]
     },
     "execution_count": 5,
     "metadata": {},
     "output_type": "execute_result"
    }
   ],
   "source": [
    "x.shape"
   ]
  },
  {
   "cell_type": "code",
   "execution_count": 6,
   "id": "e1ccaad2-1ccb-40b2-b062-063efbb7ecb4",
   "metadata": {},
   "outputs": [
    {
     "data": {
      "text/plain": [
       "tensor([[ 0.,  1.,  2.,  3.],\n",
       "        [ 4.,  5.,  6.,  7.],\n",
       "        [ 8.,  9., 10., 11.]])"
      ]
     },
     "execution_count": 6,
     "metadata": {},
     "output_type": "execute_result"
    }
   ],
   "source": [
    "x.reshape(3,4)"
   ]
  },
  {
   "cell_type": "markdown",
   "id": "b09f0d6d-0543-4f1c-a120-48e4e58e4fde",
   "metadata": {},
   "source": [
    "# Basic Models"
   ]
  },
  {
   "cell_type": "code",
   "execution_count": 13,
   "id": "56c34f77-0871-4b78-9472-e7446d3e36e6",
   "metadata": {},
   "outputs": [],
   "source": [
    "class TinyModel(torch.nn.Module):\n",
    "\n",
    "    def __init__(self):\n",
    "        super(TinyModel, self).__init__()\n",
    "        self.linear1 = torch.nn.Linear(100,200)\n",
    "        self.activation = torch.nn.ReLU()\n",
    "        self.linear2 = torch.nn.Linear(200,10)\n",
    "        self.softmax = torch.nn.Softmax()\n",
    "\n",
    "\n",
    "    def forward(self, x):\n",
    "        x = self.linear1(x)\n",
    "        x = self.activation(x)\n",
    "        x = self.linear2(x)\n",
    "        x = self.softmax(x)\n",
    "        return x\n",
    "\n",
    "tinymodel = TinyModel()"
   ]
  },
  {
   "cell_type": "code",
   "execution_count": 14,
   "id": "6ad80f2a-0c75-4887-8042-fe0eee49f0fc",
   "metadata": {},
   "outputs": [
    {
     "name": "stdout",
     "output_type": "stream",
     "text": [
      "Parameter containing:\n",
      "tensor([[-0.0972, -0.0833, -0.0983,  ..., -0.0519, -0.0410, -0.0499],\n",
      "        [-0.0218, -0.0049, -0.0595,  ...,  0.0935, -0.0551,  0.0573],\n",
      "        [-0.0312, -0.0028, -0.0481,  ..., -0.0994, -0.0108,  0.0202],\n",
      "        ...,\n",
      "        [-0.0916, -0.0232,  0.0560,  ..., -0.0131,  0.0760,  0.0813],\n",
      "        [-0.0796,  0.0861,  0.0575,  ..., -0.0889,  0.0810,  0.0418],\n",
      "        [ 0.0020, -0.0650, -0.0403,  ...,  0.0639, -0.0066, -0.0419]],\n",
      "       requires_grad=True)\n",
      "Parameter containing:\n",
      "tensor([ 0.0439, -0.0848,  0.0391, -0.0723,  0.0371, -0.0551, -0.0248,  0.0969,\n",
      "         0.0765,  0.0820,  0.0057, -0.0484,  0.0003,  0.0422, -0.0093, -0.0434,\n",
      "        -0.0638, -0.0013, -0.0043,  0.0794,  0.0599,  0.0648,  0.0757,  0.0987,\n",
      "        -0.0801, -0.0880, -0.0520,  0.0602, -0.0116, -0.0963, -0.0283, -0.0708,\n",
      "         0.0517, -0.0940,  0.0721,  0.0321, -0.0806, -0.0123, -0.0389,  0.0085,\n",
      "        -0.0340,  0.0133, -0.0301,  0.0483,  0.0543,  0.0701, -0.0457, -0.0182,\n",
      "        -0.0138,  0.0965, -0.0554,  0.0476, -0.0720, -0.0823,  0.0576,  0.0049,\n",
      "         0.0518, -0.0949,  0.0280, -0.0179, -0.0239, -0.0586,  0.0110, -0.0338,\n",
      "        -0.0351, -0.0538, -0.0287,  0.0525,  0.0505,  0.0841,  0.0673, -0.0561,\n",
      "        -0.0120, -0.0777, -0.0840, -0.0890,  0.0213, -0.0303, -0.0495, -0.0017,\n",
      "         0.0292,  0.0250,  0.0642,  0.0382,  0.0331, -0.0106,  0.0980,  0.0219,\n",
      "        -0.0648,  0.0387, -0.0742, -0.0239,  0.0347, -0.0410,  0.0206,  0.0639,\n",
      "        -0.0178, -0.0269,  0.0397,  0.0648, -0.0038, -0.0708, -0.0799, -0.0047,\n",
      "         0.0019, -0.0622,  0.0683,  0.0845, -0.0455,  0.0110,  0.0854, -0.0579,\n",
      "        -0.0535, -0.0985, -0.0920, -0.0085, -0.0410, -0.0782, -0.0341,  0.0004,\n",
      "        -0.0145,  0.0349,  0.0876,  0.0309, -0.0860,  0.0588,  0.0561, -0.0786,\n",
      "        -0.0684,  0.0423,  0.0796,  0.0831,  0.0518,  0.0930, -0.0006, -0.0256,\n",
      "         0.0203,  0.0208, -0.0368,  0.0610,  0.0755, -0.0893,  0.0738,  0.0585,\n",
      "        -0.0309, -0.0524, -0.0592, -0.0204,  0.0712, -0.0208,  0.0288,  0.0759,\n",
      "        -0.0668,  0.0428, -0.0361, -0.0088, -0.0740,  0.0167,  0.0679,  0.0343,\n",
      "        -0.0820, -0.0802,  0.0944, -0.0451,  0.0171,  0.0576,  0.0535,  0.0333,\n",
      "        -0.0978, -0.0940,  0.0102, -0.0192,  0.0654,  0.0337, -0.0496, -0.0503,\n",
      "        -0.0680, -0.0268, -0.0569,  0.0855, -0.0432,  0.0369, -0.0009,  0.0312,\n",
      "        -0.0554,  0.0850, -0.0647, -0.0391,  0.0486, -0.0773,  0.0026,  0.0059,\n",
      "         0.0493,  0.0582,  0.0460, -0.0433, -0.0754,  0.0372, -0.0318, -0.0988],\n",
      "       requires_grad=True)\n",
      "Parameter containing:\n",
      "tensor([[-0.0168, -0.0504,  0.0104,  ..., -0.0182,  0.0096,  0.0615],\n",
      "        [-0.0623, -0.0624, -0.0346,  ...,  0.0593,  0.0186, -0.0098],\n",
      "        [-0.0077, -0.0467,  0.0650,  ...,  0.0509,  0.0126,  0.0146],\n",
      "        ...,\n",
      "        [-0.0498, -0.0532,  0.0263,  ...,  0.0683, -0.0530,  0.0495],\n",
      "        [-0.0549,  0.0482, -0.0197,  ..., -0.0008,  0.0450, -0.0556],\n",
      "        [ 0.0349,  0.0286,  0.0381,  ...,  0.0278, -0.0294,  0.0109]],\n",
      "       requires_grad=True)\n",
      "Parameter containing:\n",
      "tensor([-0.0352, -0.0219,  0.0089,  0.0082, -0.0509, -0.0035, -0.0136, -0.0447,\n",
      "         0.0376,  0.0670], requires_grad=True)\n"
     ]
    }
   ],
   "source": [
    "for param in tinymodel.parameters():\n",
    "    print(param)"
   ]
  },
  {
   "cell_type": "code",
   "execution_count": 22,
   "id": "45545230-593c-467f-b215-7dd042be120e",
   "metadata": {},
   "outputs": [
    {
     "name": "stdout",
     "output_type": "stream",
     "text": [
      "True\n"
     ]
    },
    {
     "data": {
      "text/plain": [
       "False"
      ]
     },
     "execution_count": 22,
     "metadata": {},
     "output_type": "execute_result"
    }
   ],
   "source": [
    "def is_prime(n):\n",
    "    for j in range(2,int(np.floor(np.sqrt(n)))+1):\n",
    "        if n % j == 0:\n",
    "            return False\n",
    "    return True\n",
    "\n",
    "#for n in range(1,10000):\n",
    "\n",
    "print(is_prime(13))\n",
    "\n",
    "is_prime(6)\n",
    "\n",
    "    "
   ]
  },
  {
   "cell_type": "code",
   "execution_count": 24,
   "id": "5b57bfba-d2d3-4c59-8cac-841c3c6a8514",
   "metadata": {},
   "outputs": [
    {
     "name": "stdout",
     "output_type": "stream",
     "text": [
      "13 is a prime number.\n"
     ]
    }
   ],
   "source": [
    "import math\n",
    "def is_prime_with_math(number):\n",
    "    if number <= 1:\n",
    "        return False\n",
    "    if number <= 3:\n",
    "        return True\n",
    "    if number % 2 == 0 or number % 3 == 0:\n",
    "        return False\n",
    "    for i in range(5, int(math.sqrt(number)) + 1, 6):\n",
    "        if number % i == 0 or number % (i + 2) == 0:\n",
    "            return False\n",
    "    return True\n",
    "\n",
    "# Test the function\n",
    "num = 13\n",
    "if is_prime_with_math(num):\n",
    "    print(f\"{num} is a prime number.\")\n",
    "else:\n",
    "    print(f\"{num} is not a prime number.\")"
   ]
  },
  {
   "cell_type": "code",
   "execution_count": 20,
   "id": "47d35513-eb15-4265-bdc6-c7b96532d0cd",
   "metadata": {},
   "outputs": [
    {
     "data": {
      "text/plain": [
       "3"
      ]
     },
     "execution_count": 20,
     "metadata": {},
     "output_type": "execute_result"
    }
   ],
   "source": [
    "int(np.floor(np.sqrt(13)))"
   ]
  },
  {
   "cell_type": "code",
   "execution_count": 29,
   "id": "8d480dba-d06b-4fef-8c1b-98c2e1aa6ba6",
   "metadata": {},
   "outputs": [],
   "source": [
    "for n in range(2,1000000):\n",
    "    if is_prime_with_math(n) != is_prime(n):\n",
    "        print(n)\n",
    "        break"
   ]
  },
  {
   "cell_type": "code",
   "execution_count": 30,
   "id": "a2dd0fe4-dfe1-40bf-929e-0274b4b6cb74",
   "metadata": {},
   "outputs": [
    {
     "name": "stdout",
     "output_type": "stream",
     "text": [
      "{5: 1, 4: 1, 3: 1, 2: 1, 1: 1}\n"
     ]
    }
   ],
   "source": [
    "def digit_frequency(n):\n",
    "    # Initialize an empty dictionary to store the frequency of each digit\n",
    "    frequency_map = {}\n",
    "\n",
    "    # While n is greater than 0\n",
    "    while n > 0:\n",
    "        # Extract the last digit of n\n",
    "        digit = n % 10\n",
    "\n",
    "        # If the digit is not already a key in frequency_map\n",
    "        if digit not in frequency_map:\n",
    "            # Add the digit to frequency_map with an initial value of 1\n",
    "            frequency_map[digit] = 1\n",
    "        else:\n",
    "            # If the digit is already in frequency_map, increment its value by 1\n",
    "            frequency_map[digit] += 1\n",
    "\n",
    "        # Reduce n by removing the last digit\n",
    "        n = n // 10\n",
    "\n",
    "    # Return the frequency map\n",
    "    return frequency_map\n",
    "\n",
    "# Example usage\n",
    "n = 12345\n",
    "frequency_map = digit_frequency(n)\n",
    "print(frequency_map)"
   ]
  },
  {
   "cell_type": "code",
   "execution_count": 35,
   "id": "be0ff834-9ccb-4ffe-b2e7-62058deefa63",
   "metadata": {},
   "outputs": [
    {
     "data": {
      "text/plain": [
       "False"
      ]
     },
     "execution_count": 35,
     "metadata": {},
     "output_type": "execute_result"
    }
   ],
   "source": [
    "def create_staircase(nums):\n",
    "  step = 1\n",
    "  subsets = []\n",
    "  while len(nums) != 0:\n",
    "    if len(nums) >= step:\n",
    "      subsets.append(nums[0:step])\n",
    "      nums = nums[step:]\n",
    "      step += 1\n",
    "    else:\n",
    "      return False\n",
    "      \n",
    "  return subsets\n",
    "\n",
    "create_staircase([1,2,3,4,5])"
   ]
  }
 ],
 "metadata": {
  "kernelspec": {
   "display_name": "Python 3 (ipykernel)",
   "language": "python",
   "name": "python3"
  },
  "language_info": {
   "codemirror_mode": {
    "name": "ipython",
    "version": 3
   },
   "file_extension": ".py",
   "mimetype": "text/x-python",
   "name": "python",
   "nbconvert_exporter": "python",
   "pygments_lexer": "ipython3",
   "version": "3.12.3"
  }
 },
 "nbformat": 4,
 "nbformat_minor": 5
}
