{
 "cells": [
  {
   "cell_type": "code",
   "execution_count": 8,
   "id": "d9880250-73b4-4a46-8cae-f5e3f7fead1e",
   "metadata": {},
   "outputs": [
    {
     "name": "stderr",
     "output_type": "stream",
     "text": [
      "2024-05-25 15:14:20,816 - src.simulation.Game - INFO - Running init for TOR @ DET starting at 1:10 PM ET in Comerica Park\n",
      "2024-05-25 15:14:20,817 - src.simulation.Game - INFO - Fitting hit classification model for Comerica Park\n",
      "2024-05-25 15:14:30,825 - src.simulation.Game - INFO - Loading game state transition probs\n",
      "2024-05-25 15:14:30,827 - src.simulation.Game - INFO - Fitting home team models\n",
      "2024-05-25 15:14:30,869 - simulation.Pitcher - INFO - Starting init for Reese Olson\n",
      "2024-05-25 15:14:35,888 - features.build_features - WARNING - low pitch count (17) for L SI\n",
      "2024-05-25 15:14:46,134 - features.build_features - WARNING - low pitch count (28) for R CU\n",
      "2024-05-25 15:14:47,506 - simulation.Pitcher - INFO - Reese Olson throws R with arsenal ['SI' 'FF' 'SL' 'CU' 'CH']\n",
      "2024-05-25 15:14:47,507 - simulation.Pitcher - INFO - Init complete for Reese Olson\n",
      "2024-05-25 15:14:47,542 - simulation.Batter - INFO - Starting init for Wenceel Perez\n",
      "2024-05-25 15:14:51,962 - simulation.Batter - INFO - Init complete for Wenceel Perez\n",
      "2024-05-25 15:14:51,963 - src.simulation.Game - INFO - Fitting away team models\n",
      "2024-05-25 15:14:52,000 - simulation.Pitcher - INFO - Starting init for Jose Berrios\n",
      "2024-05-25 15:15:14,203 - features.build_features - WARNING - low pitch count (24) for L FC\n",
      "2024-05-25 15:15:34,753 - features.build_features - WARNING - low pitch count (3) for R FC\n",
      "2024-05-25 15:15:34,902 - simulation.Pitcher - INFO - Jose Berrios throws R with arsenal ['FF' 'SI' 'SV' 'CH' 'FC']\n",
      "2024-05-25 15:15:34,902 - simulation.Pitcher - INFO - Init complete for Jose Berrios\n",
      "2024-05-25 15:15:34,940 - simulation.Batter - INFO - Starting init for Davis Schneider\n",
      "2024-05-25 15:15:40,112 - simulation.Batter - INFO - Init complete for Davis Schneider\n",
      "2024-05-25 15:15:40,113 - src.simulation.Game - INFO - Initializing Game State\n",
      "2024-05-25 15:15:40,113 - src.simulation.Game - INFO - Init complete for TOR @ DET starting at 1:10 PM ET in Comerica Park\n"
     ]
    }
   ],
   "source": [
    "import requests\n",
    "from bs4 import BeautifulSoup\n",
    "\n",
    "def get_rotowire_schedule(today=True):\n",
    "    if today:\n",
    "        url = \"https://www.rotowire.com/baseball/daily-lineups.php\"\n",
    "    else:\n",
    "        url = \"https://www.rotowire.com/baseball/daily-lineups.php?date=tomorrow\"\n",
    "\n",
    "    response = requests.get(url)\n",
    "    \n",
    "    if response.status_code == 200:\n",
    "        html_content = response.text\n",
    "        soup = BeautifulSoup(html_content, 'html.parser')\n",
    "        lineup_boxes = soup.find_all(\"div\", class_=\"lineup__box\")\n",
    "        game_times = soup.find_all(\"div\", class_=\"lineup__time\")\n",
    "        return lineup_boxes, game_times\n",
    "        #for box in lineup_boxes:\n",
    "        #    content = box.get_text(strip=True)\n",
    "        #    print(content)\n",
    "    else:\n",
    "        print(f\"Failed to fetch webpage. Status code: {response.status_code}\")\n",
    "\n",
    "\n",
    "games, game_times = get_rotowire_schedule()\n",
    "\n",
    "\n",
    "from importlib import reload\n",
    "from src.simulation import Game as g\n",
    "from src.simulation import Team as t\n",
    "reload(g)\n",
    "reload(t)\n",
    "\n",
    "game = g.Game(games[0], game_times[0].get_text(strip=True) )"
   ]
  },
  {
   "cell_type": "code",
   "execution_count": 65,
   "id": "36ebbcef-12c0-435c-9cf6-2453c06852ea",
   "metadata": {},
   "outputs": [],
   "source": [
    "from pprint import pprint\n",
    "\n",
    "def check_for_ab_event():\n",
    "    if game.game_state.balls > 3:\n",
    "        return 'walk'\n",
    "    elif game.game_state.strikes > 2:\n",
    "        return 'K'\n",
    "    return None\n",
    "    \n",
    "def simulate_pitch(fielding_team, batting_team):\n",
    "    \n",
    "    cur_batter = batting_team.batting_lineup[game.game_state.home_cur_batter]\n",
    "    cur_pitcher = fielding_team.starting_pitcher\n",
    "    \n",
    "    cur_game_state = game.game_state.get_game_state()\n",
    "\n",
    "    pitch_type, pitch_chars = cur_pitcher.generate_pitch(cur_game_state, cur_batter.stats, cur_pitcher.get_pitcher_state())\n",
    "    pitch_outcome = cur_batter.generate_pitch_outcome(cur_game_state, pitch_chars)\n",
    "\n",
    "    print(f'{cur_pitcher.name} threw a {pitch_type} and {cur_batter.name} got a {pitch_outcome}')\n",
    "\n",
    "    cur_pitcher.cumulative_pitch_number += 1\n",
    "    cur_pitcher.prev_pitch = pitch_type\n",
    "    game.game_state.pitch_number += 1\n",
    "\n",
    "    #process pitch outcome\n",
    "    if pitch_outcome == 'hit_into_play':\n",
    "        hit_chars = cur_batter.generate_hit_outcome()\n",
    "        #game_state, fielding_team_name, batter_speed, hit_stats, fielding_oaa\n",
    "        hit_class = game.classify_hit(game.game_state.get_game_state(),\n",
    "                                      fielding_team.name,\n",
    "                                      cur_batter.speed,\n",
    "                                      cur_batter.stand,\n",
    "                                      hit_chars,\n",
    "                                      0 #TODO ADD FIELDING OAA\n",
    "                                     )\n",
    "        return hit_class\n",
    "        \n",
    "    elif pitch_outcome == 'strike':\n",
    "        game.game_state.strikes += 1\n",
    "    elif pitch_outcome == 'ball':\n",
    "        game.game_state.balls += 1\n",
    "    elif pitch_outcome == 'foul':\n",
    "        if game.game_state.strikes < 2:\n",
    "            game.game_state.strikes += 1\n",
    "    elif pitch_outcome == 'hit_by_pitch':\n",
    "        game.game_state.balls = 4\n",
    "\n",
    "    return check_for_ab_event()"
   ]
  },
  {
   "cell_type": "code",
   "execution_count": 137,
   "id": "acc01165-de5f-444e-bb49-297ec291319e",
   "metadata": {},
   "outputs": [],
   "source": [
    "def process_event(event, cur_batter):\n",
    "\n",
    "    cur_game_state = game.game_state.encode_cur_state()\n",
    "    \n",
    "    if event in ('K', 'walk'):\n",
    "        new_state = game.deterministic_transitions[event][cur_state]\n",
    "    else:\n",
    "        new_state = game.sample_next_state(event, cur_batter.stand, cur_game_state)\n",
    "\n",
    "    print('Current game state:')\n",
    "    print(cur_game_state)\n",
    "    print(f'{cur_batter.name} hit a {hit_class}')\n",
    "    print('After game state:')\n",
    "    print(game.game_state.encode_cur_state())\n",
    "    game.game_state.process_state_change(new_state, cur_batter)\n"
   ]
  },
  {
   "cell_type": "code",
   "execution_count": 138,
   "id": "820fed80-7f5b-4a41-b313-55d2279f113d",
   "metadata": {},
   "outputs": [
    {
     "name": "stderr",
     "output_type": "stream",
     "text": [
      "Sampling remaining columns: 100%|███████████████████████████████████████████████████████| 1/1 [00:00<00:00,  6.31it/s]\n"
     ]
    },
    {
     "name": "stdout",
     "output_type": "stream",
     "text": [
      "Reese Olson threw a SI and Davis Schneider got a ball\n"
     ]
    },
    {
     "name": "stderr",
     "output_type": "stream",
     "text": [
      "Sampling remaining columns: 100%|███████████████████████████████████████████████████████| 1/1 [00:00<00:00,  6.05it/s]\n"
     ]
    },
    {
     "name": "stdout",
     "output_type": "stream",
     "text": [
      "Reese Olson threw a SI and Davis Schneider got a strike\n"
     ]
    },
    {
     "name": "stderr",
     "output_type": "stream",
     "text": [
      "Sampling remaining columns: 100%|███████████████████████████████████████████████████████| 1/1 [00:00<00:00,  6.77it/s]\n"
     ]
    },
    {
     "name": "stdout",
     "output_type": "stream",
     "text": [
      "Reese Olson threw a SL and Davis Schneider got a strike\n"
     ]
    },
    {
     "name": "stderr",
     "output_type": "stream",
     "text": [
      "Sampling remaining columns: 100%|███████████████████████████████████████████████████████| 1/1 [00:00<00:00,  5.94it/s]\n"
     ]
    },
    {
     "name": "stdout",
     "output_type": "stream",
     "text": [
      "Reese Olson threw a SI and Davis Schneider got a strike\n"
     ]
    },
    {
     "ename": "AttributeError",
     "evalue": "'Game' object has no attribute 'deterministic_transitions'",
     "output_type": "error",
     "traceback": [
      "\u001b[0;31m---------------------------------------------------------------------------\u001b[0m",
      "\u001b[0;31mAttributeError\u001b[0m                            Traceback (most recent call last)",
      "Cell \u001b[0;32mIn[138], line 13\u001b[0m\n\u001b[1;32m     10\u001b[0m     process_event(outcome, batting_team\u001b[38;5;241m.\u001b[39mbatting_lineup[game\u001b[38;5;241m.\u001b[39mgame_state\u001b[38;5;241m.\u001b[39mhome_cur_batter])\n\u001b[1;32m     11\u001b[0m     \u001b[38;5;28mprint\u001b[39m(game\u001b[38;5;241m.\u001b[39mgame_state\u001b[38;5;241m.\u001b[39mget_game_state())\n\u001b[0;32m---> 13\u001b[0m \u001b[43msimulate_ab\u001b[49m\u001b[43m(\u001b[49m\u001b[43mgame\u001b[49m\u001b[38;5;241;43m.\u001b[39;49m\u001b[43mhome_team\u001b[49m\u001b[43m,\u001b[49m\u001b[43m \u001b[49m\u001b[43mgame\u001b[49m\u001b[38;5;241;43m.\u001b[39;49m\u001b[43maway_team\u001b[49m\u001b[43m)\u001b[49m\n",
      "Cell \u001b[0;32mIn[138], line 10\u001b[0m, in \u001b[0;36msimulate_ab\u001b[0;34m(fielding_team, batting_team)\u001b[0m\n\u001b[1;32m      7\u001b[0m     \u001b[38;5;28;01mexcept\u001b[39;00m:\n\u001b[1;32m      8\u001b[0m         \u001b[38;5;28mprint\u001b[39m(\u001b[38;5;124m'\u001b[39m\u001b[38;5;124mPitch sampling error\u001b[39m\u001b[38;5;124m'\u001b[39m)\n\u001b[0;32m---> 10\u001b[0m \u001b[43mprocess_event\u001b[49m\u001b[43m(\u001b[49m\u001b[43moutcome\u001b[49m\u001b[43m,\u001b[49m\u001b[43m \u001b[49m\u001b[43mbatting_team\u001b[49m\u001b[38;5;241;43m.\u001b[39;49m\u001b[43mbatting_lineup\u001b[49m\u001b[43m[\u001b[49m\u001b[43mgame\u001b[49m\u001b[38;5;241;43m.\u001b[39;49m\u001b[43mgame_state\u001b[49m\u001b[38;5;241;43m.\u001b[39;49m\u001b[43mhome_cur_batter\u001b[49m\u001b[43m]\u001b[49m\u001b[43m)\u001b[49m\n\u001b[1;32m     11\u001b[0m \u001b[38;5;28mprint\u001b[39m(game\u001b[38;5;241m.\u001b[39mgame_state\u001b[38;5;241m.\u001b[39mget_game_state())\n",
      "Cell \u001b[0;32mIn[137], line 6\u001b[0m, in \u001b[0;36mprocess_event\u001b[0;34m(event, cur_batter)\u001b[0m\n\u001b[1;32m      3\u001b[0m cur_game_state \u001b[38;5;241m=\u001b[39m game\u001b[38;5;241m.\u001b[39mgame_state\u001b[38;5;241m.\u001b[39mencode_cur_state()\n\u001b[1;32m      5\u001b[0m \u001b[38;5;28;01mif\u001b[39;00m event \u001b[38;5;129;01min\u001b[39;00m (\u001b[38;5;124m'\u001b[39m\u001b[38;5;124mK\u001b[39m\u001b[38;5;124m'\u001b[39m, \u001b[38;5;124m'\u001b[39m\u001b[38;5;124mwalk\u001b[39m\u001b[38;5;124m'\u001b[39m):\n\u001b[0;32m----> 6\u001b[0m     new_state \u001b[38;5;241m=\u001b[39m \u001b[43mgame\u001b[49m\u001b[38;5;241;43m.\u001b[39;49m\u001b[43mdeterministic_transitions\u001b[49m[event][cur_state]\n\u001b[1;32m      7\u001b[0m \u001b[38;5;28;01melse\u001b[39;00m:\n\u001b[1;32m      8\u001b[0m     new_state \u001b[38;5;241m=\u001b[39m game\u001b[38;5;241m.\u001b[39msample_next_state(event, cur_batter\u001b[38;5;241m.\u001b[39mstand, cur_game_state)\n",
      "\u001b[0;31mAttributeError\u001b[0m: 'Game' object has no attribute 'deterministic_transitions'"
     ]
    }
   ],
   "source": [
    "def simulate_ab(fielding_team, batting_team):\n",
    "    game.game_state.reset_count()\n",
    "    outcome = None\n",
    "    while outcome is None:\n",
    "        try:\n",
    "            outcome = simulate_pitch(fielding_team, batting_team)\n",
    "        except:\n",
    "            print('Pitch sampling error')\n",
    "\n",
    "    process_event(outcome, batting_team.batting_lineup[game.game_state.home_cur_batter])\n",
    "    print(game.game_state.get_game_state())\n",
    "\n",
    "simulate_ab(game.home_team, game.away_team)"
   ]
  },
  {
   "cell_type": "code",
   "execution_count": 98,
   "id": "f67c6a69-390b-4515-bc97-2cedcf2e6db5",
   "metadata": {},
   "outputs": [
    {
     "data": {
      "text/plain": [
       "(3, (False, False, False))"
      ]
     },
     "execution_count": 98,
     "metadata": {},
     "output_type": "execute_result"
    }
   ],
   "source": [
    "game.game_state.bases\n",
    "game.game_state.encode_cur_state()"
   ]
  },
  {
   "cell_type": "code",
   "execution_count": 94,
   "id": "80f6cd84-d9e0-4cbd-80c8-4f760c987aa6",
   "metadata": {},
   "outputs": [
    {
     "data": {
      "text/plain": [
       "{'game_year': 2024,\n",
       " 'strikes': 2,\n",
       " 'balls': 4,\n",
       " 'pitch_number': 10,\n",
       " 'outs_when_up': 3,\n",
       " 'on_1b': 0,\n",
       " 'on_2b': 0,\n",
       " 'on_3b': 0}"
      ]
     },
     "execution_count": 94,
     "metadata": {},
     "output_type": "execute_result"
    }
   ],
   "source": [
    "game.game_state.get_game_state()"
   ]
  },
  {
   "cell_type": "code",
   "execution_count": 64,
   "id": "ae1f55e5-087d-4f31-8734-73802feac2f8",
   "metadata": {},
   "outputs": [
    {
     "name": "stderr",
     "output_type": "stream",
     "text": [
      "Sampling remaining columns: 100%|███████████████████████████████████████████████████████| 1/1 [00:00<00:00,  6.95it/s]"
     ]
    },
    {
     "name": "stdout",
     "output_type": "stream",
     "text": [
      "Reese Olson threw a SI and Davis Schneider got a hit_into_play\n",
      "Current game state:\n",
      "(0, (False, False, False))\n",
      "Davis Schneider hit a single\n",
      "After game state:\n",
      "(0, (True, False, False))\n",
      "{'game_year': 2024, 'strikes': 1, 'balls': 0, 'pitch_number': 3, 'outs_when_up': 0, 'on_1b': 1, 'on_2b': 0, 'on_3b': 0}\n",
      "(0, (True, False, False))\n"
     ]
    },
    {
     "name": "stderr",
     "output_type": "stream",
     "text": [
      "\n"
     ]
    }
   ],
   "source": [
    "simulate_pitch(game.home_team, game.away_team)\n",
    "if (event := check_for_ab_event()) is not None:\n",
    "    print(f'{event} occured')\n",
    "    #game.game_state.ab_change()\n",
    "    \n",
    "print(game.game_state.get_game_state())\n",
    "print(game.game_state.encode_cur_state())"
   ]
  },
  {
   "cell_type": "code",
   "execution_count": 106,
   "id": "f59514b9-8f28-47ca-a312-7f4d5402a00a",
   "metadata": {},
   "outputs": [],
   "source": [
    "import pickle\n",
    "with open('game_state_t_probs.pkl', 'rb') as f:\n",
    "    mp = pickle.load(f)"
   ]
  },
  {
   "cell_type": "code",
   "execution_count": 135,
   "id": "d16a126f-4dcf-4b55-8ca7-02c2fcdee8e5",
   "metadata": {},
   "outputs": [
    {
     "data": {
      "text/plain": [
       "{'K': {(0, (False, False, False)): (1, (False, False, False), 0),\n",
       "  (0, (True, False, False)): (1, (True, False, False), 0),\n",
       "  (0, (False, True, False)): (1, (False, True, False), 0),\n",
       "  (0, (False, False, True)): (1, (False, False, True), 0),\n",
       "  (0, (True, True, False)): (1, (True, True, False), 0),\n",
       "  (0, (False, True, True)): (1, (False, True, True), 0),\n",
       "  (0, (True, False, True)): (1, (True, False, True), 0),\n",
       "  (0, (True, True, True)): (1, (True, True, True), 0),\n",
       "  (1, (False, False, False)): (2, (False, False, False), 0),\n",
       "  (1, (True, False, False)): (2, (True, False, False), 0),\n",
       "  (1, (False, True, False)): (2, (False, True, False), 0),\n",
       "  (1, (False, False, True)): (2, (False, False, True), 0),\n",
       "  (1, (True, True, False)): (2, (True, True, False), 0),\n",
       "  (1, (False, True, True)): (2, (False, True, True), 0),\n",
       "  (1, (True, False, True)): (2, (True, False, True), 0),\n",
       "  (1, (True, True, True)): (2, (True, True, True), 0),\n",
       "  (2, (False, False, False)): (3, (False, False, False), 0),\n",
       "  (2, (True, False, False)): (3, (True, False, False), 0),\n",
       "  (2, (False, True, False)): (3, (False, True, False), 0),\n",
       "  (2, (False, False, True)): (3, (False, False, True), 0),\n",
       "  (2, (True, True, False)): (3, (True, True, False), 0),\n",
       "  (2, (False, True, True)): (3, (False, True, True), 0),\n",
       "  (2, (True, False, True)): (3, (True, False, True), 0),\n",
       "  (2, (True, True, True)): (3, (True, True, True), 0)},\n",
       " 'walk': {(0, (False, False, False)): (0, ('batter', False, False), 0),\n",
       "  (0, (True, False, False)): (0, ('batter', '1b', False), 0),\n",
       "  (0, (False, True, False)): (0, ('batter', '2b', False), 0),\n",
       "  (0, (False, False, True)): (0, ('batter', False, '3b'), 0),\n",
       "  (0, (True, True, False)): (0, ('batter', '1b', '2b'), 0),\n",
       "  (0, (False, True, True)): (0, ('batter', '2b', '3b'), 0),\n",
       "  (0, (True, False, True)): (0, ('batter', '1b', '3b'), 0),\n",
       "  (0, (True, True, True)): (0, ('batter', '1b', '2b'), 1),\n",
       "  (1, (False, False, False)): (1, ('batter', False, False), 0),\n",
       "  (1, (True, False, False)): (1, ('batter', '1b', False), 0),\n",
       "  (1, (False, True, False)): (1, ('batter', '2b', False), 0),\n",
       "  (1, (False, False, True)): (1, ('batter', False, '3b'), 0),\n",
       "  (1, (True, True, False)): (1, ('batter', '1b', '2b'), 0),\n",
       "  (1, (False, True, True)): (1, ('batter', '2b', '3b'), 0),\n",
       "  (1, (True, False, True)): (1, ('batter', '1b', '3b'), 0),\n",
       "  (1, (True, True, True)): (1, ('batter', '1b', '2b'), 1),\n",
       "  (2, (False, False, False)): (2, ('batter', False, False), 0),\n",
       "  (2, (True, False, False)): (2, ('batter', '1b', False), 0),\n",
       "  (2, (False, True, False)): (2, ('batter', '2b', False), 0),\n",
       "  (2, (False, False, True)): (2, ('batter', False, '3b'), 0),\n",
       "  (2, (True, True, False)): (2, ('batter', '1b', '2b'), 0),\n",
       "  (2, (False, True, True)): (2, ('batter', '2b', '3b'), 0),\n",
       "  (2, (True, False, True)): (2, ('batter', '1b', '3b'), 0),\n",
       "  (2, (True, True, True)): (2, ('batter', '1b', '2b'), 1)}}"
      ]
     },
     "execution_count": 135,
     "metadata": {},
     "output_type": "execute_result"
    }
   ],
   "source": [
    "from itertools import product\n",
    "\n",
    "def get_deterministic_transition_map():\n",
    "    deterministic_transitions = {}\n",
    "    deterministic_transitions['K'] = {}\n",
    "    deterministic_transitions['walk'] = {}\n",
    "    \n",
    "    # Generate all permutations\n",
    "    permutations = list(product(range(3), [(False, False, False), (True, False, False), (False, True, False), (False, False, True),\n",
    "                                          (True, True, False), (False, True, True), (True, False, True), (True, True, True)]))\n",
    "    for state in permutations:\n",
    "        deterministic_transitions['K'][state] = (state[0] + 1, state[1], 0)\n",
    "    \n",
    "        first, second, third = state[1]\n",
    "    \n",
    "        new_first, new_second, new_third = 'batter', False, False\n",
    "        runs_scored = 0\n",
    "        if first and second and third:\n",
    "            new_second = '1b'\n",
    "            new_third = '2b'\n",
    "            runs_scored = 1\n",
    "        elif first and not second and not third:\n",
    "            new_second = '1b'\n",
    "        elif first and second:\n",
    "            new_second = '1b'\n",
    "            new_third = '2b'\n",
    "        elif first and third:\n",
    "            new_second = '1b'\n",
    "            new_third = '3b'\n",
    "        else:\n",
    "            if second:\n",
    "                new_second = '2b'\n",
    "            if third:\n",
    "                new_third = '3b'\n",
    "    \n",
    "        deterministic_transitions['walk'][state] = (state[0], (new_first, new_second, new_third), runs_scored)\n",
    "    return deterministic_transitions\n",
    "\n",
    "    \n",
    "get_deterministic_transition_map()"
   ]
  },
  {
   "cell_type": "code",
   "execution_count": null,
   "id": "b10cbbb3-139d-46ba-9d26-281aeb5a57dd",
   "metadata": {},
   "outputs": [],
   "source": []
  },
  {
   "cell_type": "code",
   "execution_count": 126,
   "id": "dc8f5d08-5105-4bb5-876f-581de0165786",
   "metadata": {},
   "outputs": [
    {
     "data": {
      "text/plain": [
       "{(1, ('batter', '1b', False), 0): 0.6493975903614457,\n",
       " (1, ('batter', False, '1b'), 0): 0.2927710843373494,\n",
       " (2, (False, 'batter', False), 0): 0.004417670682730923,\n",
       " (1, (False, 'batter', '1b'), 0): 0.014457831325301205,\n",
       " (1, (False, '1b', False), 0): 0.00642570281124498,\n",
       " (2, (False, False, False), 1): 0.0012048192771084338,\n",
       " (2, (False, False, '1b'), 0): 0.006827309236947791,\n",
       " (2, ('batter', False, False), 0): 0.011244979919678716,\n",
       " (1, ('batter', False, False), 1): 0.0008032128514056225,\n",
       " (1, (False, False, '1b'), 0): 0.004016064257028112,\n",
       " (1, ('batter', False, False), 0): 0.001606425702811245,\n",
       " (1, (False, False, 'batter'), 1): 0.0024096385542168677,\n",
       " (3, (False, False, False), 0): 0.0008032128514056225,\n",
       " (2, (False, '1b', False), 0): 0.00040160642570281126,\n",
       " (1, (False, False, False), 0): 0.00040160642570281126,\n",
       " (1, (False, 'batter', False), 1): 0.001606425702811245,\n",
       " (1, (False, False, False), 1): 0.00040160642570281126,\n",
       " (1, (False, False, False), 2): 0.00040160642570281126,\n",
       " (1, (False, 'batter', False), 0): 0.00040160642570281126}"
      ]
     },
     "execution_count": 126,
     "metadata": {},
     "output_type": "execute_result"
    }
   ],
   "source": [
    "mp['single']['L'][list(mp['single']['L'].keys())[2]]"
   ]
  }
 ],
 "metadata": {
  "kernelspec": {
   "display_name": "Python 3 (ipykernel)",
   "language": "python",
   "name": "python3"
  },
  "language_info": {
   "codemirror_mode": {
    "name": "ipython",
    "version": 3
   },
   "file_extension": ".py",
   "mimetype": "text/x-python",
   "name": "python",
   "nbconvert_exporter": "python",
   "pygments_lexer": "ipython3",
   "version": "3.12.3"
  }
 },
 "nbformat": 4,
 "nbformat_minor": 5
}
