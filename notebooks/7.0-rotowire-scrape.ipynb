{
 "cells": [
  {
   "cell_type": "code",
   "execution_count": 1,
   "id": "d9880250-73b4-4a46-8cae-f5e3f7fead1e",
   "metadata": {},
   "outputs": [
    {
     "name": "stderr",
     "output_type": "stream",
     "text": [
      "2024-05-24 16:08:14,841 - src.simulation.Game - INFO - Fitting home team models\n",
      "2024-05-24 16:08:14,844 - src.simulation.Game - INFO - Fitting away team models\n",
      "2024-05-24 16:08:14,846 - src.simulation.Game - INFO - Init complete for TOR @ DET starting at 6:40 PM ET\n"
     ]
    },
    {
     "name": "stdout",
     "output_type": "stream",
     "text": [
      "6:40 PM ET\n",
      "Comerica Park 2394\n",
      "TOR DET\n"
     ]
    },
    {
     "data": {
      "text/plain": [
       "<src.simulation.Game.Game at 0x791ab3592630>"
      ]
     },
     "execution_count": 1,
     "metadata": {},
     "output_type": "execute_result"
    }
   ],
   "source": [
    "import requests\n",
    "from bs4 import BeautifulSoup\n",
    "\n",
    "def get_rotowire_schedule(today=True):\n",
    "    if today:\n",
    "        url = \"https://www.rotowire.com/baseball/daily-lineups.php\"\n",
    "    else:\n",
    "        url = \"https://www.rotowire.com/baseball/daily-lineups.php?date=tomorrow\"\n",
    "\n",
    "    response = requests.get(url)\n",
    "    \n",
    "    if response.status_code == 200:\n",
    "        html_content = response.text\n",
    "        soup = BeautifulSoup(html_content, 'html.parser')\n",
    "        lineup_boxes = soup.find_all(\"div\", class_=\"lineup__box\")\n",
    "        game_times = soup.find_all(\"div\", class_=\"lineup__time\")\n",
    "        return lineup_boxes, game_times\n",
    "        #for box in lineup_boxes:\n",
    "        #    content = box.get_text(strip=True)\n",
    "        #    print(content)\n",
    "    else:\n",
    "        print(f\"Failed to fetch webpage. Status code: {response.status_code}\")\n",
    "\n",
    "\n",
    "games, game_times = get_rotowire_schedule()\n",
    "\n",
    "\n",
    "from importlib import reload\n",
    "from src.simulation import Game as g\n",
    "from src.simulation import Team as t\n",
    "reload(g)\n",
    "reload(t)\n",
    "\n",
    "g.Game(games[0], game_times[0].get_text(strip=True) )"
   ]
  },
  {
   "cell_type": "code",
   "execution_count": 7,
   "id": "5d86b177-1369-49a2-b8a4-ad7167ac6793",
   "metadata": {},
   "outputs": [
    {
     "data": {
      "text/plain": [
       "'12:35 PM ET'"
      ]
     },
     "execution_count": 7,
     "metadata": {},
     "output_type": "execute_result"
    }
   ],
   "source": [
    "game_times[0].get_text(strip=True)"
   ]
  },
  {
   "cell_type": "code",
   "execution_count": 2,
   "id": "caf6b31c-4e57-4934-81c1-98beb0209c1f",
   "metadata": {},
   "outputs": [
    {
     "data": {
      "text/plain": [
       "<module 'src.simulation.Team' from '/home/reece/miniconda3/envs/mlb/lib/python3.12/site-packages/src/simulation/Team.py'>"
      ]
     },
     "execution_count": 2,
     "metadata": {},
     "output_type": "execute_result"
    }
   ],
   "source": [
    "from importlib import reload\n",
    "from src.simulation import Game as g\n",
    "from src.simulation import Team as t\n",
    "reload(g)\n",
    "reload(t)"
   ]
  },
  {
   "cell_type": "code",
   "execution_count": 3,
   "id": "e1c43fc6-52aa-4381-a21a-17f72e9afd70",
   "metadata": {},
   "outputs": [
    {
     "name": "stderr",
     "output_type": "stream",
     "text": [
      "2024-05-23 13:59:36,421 - src.simulation.Game - INFO - Fitting home team models\n",
      "2024-05-23 13:59:36,422 - src.simulation.Game - INFO - Fitting away team models\n",
      "2024-05-23 13:59:36,422 - src.simulation.Game - INFO - Init complete for SEA @ NYY starting at 12:35 PM ET\n"
     ]
    },
    {
     "name": "stdout",
     "output_type": "stream",
     "text": [
      "12:35 PM ET\n",
      "None None\n",
      "SEA NYY\n"
     ]
    },
    {
     "data": {
      "text/plain": [
       "<src.simulation.Game.Game at 0x792108110590>"
      ]
     },
     "execution_count": 3,
     "metadata": {},
     "output_type": "execute_result"
    }
   ],
   "source": [
    "\n",
    "games[0]\n",
    "game_times[0]\n",
    "g.Game(games[0], game_times[0].get_text(strip=True) )"
   ]
  },
  {
   "cell_type": "code",
   "execution_count": 6,
   "id": "beead681-8b40-4ca7-97e1-cf159139262c",
   "metadata": {},
   "outputs": [
    {
     "name": "stdout",
     "output_type": "stream",
     "text": [
      "147\n",
      "NYY\n"
     ]
    },
    {
     "data": {
      "text/plain": [
       "<src.simulation.Team.Team at 0x74ecb0971310>"
      ]
     },
     "execution_count": 6,
     "metadata": {},
     "output_type": "execute_result"
    }
   ],
   "source": [
    "t.Team(games[0], True)"
   ]
  },
  {
   "cell_type": "code",
   "execution_count": 6,
   "id": "18ebcb40-6523-4f3a-8545-df07c892faeb",
   "metadata": {},
   "outputs": [],
   "source": [
    "home_team = t.Team(games[0], is_home=True)\n",
    "away_team = t.Team(games[0], is_home=False)"
   ]
  },
  {
   "cell_type": "code",
   "execution_count": 13,
   "id": "a9a1919e-06ae-4b40-a884-e371afecd51d",
   "metadata": {},
   "outputs": [
    {
     "data": {
      "text/plain": [
       "'https://content.rotowire.com/images/teamlogo/baseball/100SEA.png?v=6'"
      ]
     },
     "execution_count": 13,
     "metadata": {},
     "output_type": "execute_result"
    }
   ],
   "source": [
    "#home_team.print_team_info()\n",
    "home_team.name\n",
    "away_team.logo"
   ]
  },
  {
   "cell_type": "code",
   "execution_count": 17,
   "id": "1715e981-b117-43ec-929e-43a8fd959091",
   "metadata": {},
   "outputs": [
    {
     "name": "stdout",
     "output_type": "stream",
     "text": [
      "None\n",
      "<li class=\"lineup__status is-expected\">\n",
      "<div class=\"dot is-medium is-yellow\" style=\"margin-right:5px;\"></div>Expected Lineup\n",
      "            </li>\n"
     ]
    }
   ],
   "source": [
    "def get_rotowrite_info(game, team='home'):\n",
    "\n",
    "    # get lineup boxes\n",
    "    lineup_soup = game.find(\"div\", class_=f\"lineup__team is-{team}\")\n",
    "    lineup_list_soup = game.find(\"ul\", class_=f\"lineup__list is-{team}\")\n",
    "\n",
    "    # get team name, logo, and pitcher\n",
    "    team_name = lineup_soup.find(\"div\", class_=\"lineup__abbr\").get_text(strip=True)\n",
    "    team_logo = lineup_soup.find(\"img\")[\"src\"]\n",
    "    pitcher = lineup_list_soup.find(\"li\", class_=\"lineup__player-highlight\").find(\"a\")[\"href\"].split(\"-\")[-1]\n",
    "\n",
    "    #get see if lineup is expected or confirmed\n",
    "    is_confirmed = lineup_list_soup.find(\"li\", class_='lineup__status is-confirmed') \n",
    "    is_expected = lineup_list_soup.find(\"li\", class_='lineup__status is-expected')\n",
    "    if is_confirmed:\n",
    "        lineup_confirmed = True\n",
    "    else:\n",
    "        lineup_confirmed = False\n",
    "\n",
    "    # get batters\n",
    "    batters = []\n",
    "    batters_soup = game.find(\"ul\", class_=f\"lineup__list is-{team}\").find_all(\"li\", class_=\"lineup__player\")\n",
    "    for batter in batters_soup:\n",
    "        batter_rotowireid = batter.find(\"a\")[\"href\"].split(\"-\")[-1]\n",
    "        batters.append(batter_rotowireid)\n",
    "        \n",
    "    return team_name, team_logo, pitcher, batters\n",
    "    \n",
    "team_name, team_logo, pitcher, batters, lineup_confirmed = get_rotowrite_info(boxes[5], team='visit')"
   ]
  },
  {
   "cell_type": "code",
   "execution_count": 21,
   "id": "138022c8-4b01-46f3-a534-afd1d3406a5d",
   "metadata": {},
   "outputs": [
    {
     "name": "stdout",
     "output_type": "stream",
     "text": [
      "Luis Castillo, SEA, P (mlbid: 622491, rotowireid: 14495.0)\n",
      "J.P. Crawford, SEA, SS (mlbid: 641487, rotowireid: 12954.0)\n",
      "Julio Rodriguez, SEA, OF (mlbid: 677594, rotowireid: 15064.0)\n",
      "Jorge Polanco, SEA, 2B (mlbid: 593871, rotowireid: 11359.0)\n",
      "Luke Raley, SEA, OF (mlbid: 670042, rotowireid: 15646.0)\n",
      "Cal Raleigh, SEA, C (mlbid: 663728, rotowireid: 15518.0)\n",
      "Mitch Haniger, SEA, OF (mlbid: 571745, rotowireid: 12491.0)\n",
      "Dominic Canzone, SEA, OF (mlbid: 686527, rotowireid: 16173.0)\n",
      "Ty France, SEA, 1B (mlbid: 664034, rotowireid: 15038.0)\n",
      "Josh Rojas, SEA, 2B (mlbid: 668942, rotowireid: 15913.0)\n"
     ]
    }
   ],
   "source": [
    "from importlib import reload\n",
    "from src.simulation import Player as p\n",
    "reload(p)\n",
    "\n",
    "pitch = p.Player(rotowire_id=float(pitcher))\n",
    "pitch.print_info()\n",
    "\n",
    "batters_cl = []\n",
    "for batter in batters:\n",
    "    batters_cl.append(p.Player(rotowire_id=float(batter)))\n",
    "\n",
    "for batter in batters_cl:\n",
    "    batter.print_info()"
   ]
  },
  {
   "cell_type": "code",
   "execution_count": 5,
   "id": "6f17a33a-9ea6-4708-8f8d-de2ddb9a1d49",
   "metadata": {},
   "outputs": [
    {
     "data": {
      "text/plain": [
       "<div class=\"lineup__box\">\n",
       "<div class=\"lineup__top has-bad-weather\">\n",
       "<div class=\"lineup__teams\">\n",
       "<div class=\"lineup__team is-visit\">\n",
       "<img alt=\"SEA\" class=\"lineup__logo\" src=\"https://content.rotowire.com/images/teamlogo/baseball/100SEA.png?v=6\"/>\n",
       "<div class=\"lineup__abbr\">SEA</div>\n",
       "</div>\n",
       "<div class=\"lineup__team is-home\">\n",
       "<img alt=\"NYY\" class=\"lineup__logo\" src=\"https://content.rotowire.com/images/teamlogo/baseball/100NYY.png?v=6\"/>\n",
       "<div class=\"lineup__abbr\">NYY</div>\n",
       "</div>\n",
       "</div>\n",
       "</div>\n",
       "<a class=\"lineup__matchup\" href=\"/baseball/box-score/yankees-vs-mariners-2024-05-23-2618430\">\n",
       "<div class=\"lineup__mteam is-visit\">\n",
       "                                        Mariners                                        <span class=\"lineup__wl\">(27-23)</span>\n",
       "</div>\n",
       "<div class=\"lineup__mteam is-home\">\n",
       "                                        Yankees                                        <span class=\"lineup__wl\">(34-17)</span>\n",
       "</div>\n",
       "</a>\n",
       "<div class=\"lineup__main\">\n",
       "<ul class=\"lineup__list is-visit\">\n",
       "<li class=\"lineup__player-highlight mb-0\">\n",
       "<div class=\"lineup__player-highlight-name\">\n",
       "<a href=\"/baseball/player/luis-castillo-14495\">Luis Castillo</a>\n",
       "<span class=\"lineup__throws\">R</span>\n",
       "</div>\n",
       "<div class=\"lineup__player-highlight-stats\">\n",
       "                4-5 3.28 ERA             </div>\n",
       "</li>\n",
       "<li class=\"lineup__status is-expected\">\n",
       "<div class=\"dot is-medium is-yellow\" style=\"margin-right:5px;\"></div>Expected Lineup\n",
       "            </li>\n",
       "<li class=\"lineup__player\">\n",
       "<div class=\"lineup__pos\">SS</div>\n",
       "<a href=\"/baseball/player/jp-crawford-12954\" title=\"J.P. Crawford\">J. Crawford</a>\n",
       "<span class=\"lineup__bats\">L</span>\n",
       "</li>\n",
       "<li class=\"salaries hide\" style=\"color: #888;font-size: 11px;margin-left: 42px;\">$3,300</li> <li class=\"lineup__player\">\n",
       "<div class=\"lineup__pos\">CF</div>\n",
       "<a href=\"/baseball/player/julio-rodriguez-15064\" title=\"Julio Rodriguez\">J. Rodriguez</a>\n",
       "<span class=\"lineup__bats\">R</span>\n",
       "</li>\n",
       "<li class=\"salaries hide\" style=\"color: #888;font-size: 11px;margin-left: 42px;\">$4,800</li> <li class=\"lineup__player\">\n",
       "<div class=\"lineup__pos\">2B</div>\n",
       "<a href=\"/baseball/player/jorge-polanco-11359\" title=\"Jorge Polanco\">J. Polanco</a>\n",
       "<span class=\"lineup__bats\">S</span>\n",
       "</li>\n",
       "<li class=\"salaries hide\" style=\"color: #888;font-size: 11px;margin-left: 42px;\">$3,300</li> <li class=\"lineup__player\">\n",
       "<div class=\"lineup__pos\">LF</div>\n",
       "<a href=\"/baseball/player/luke-raley-15646\" title=\"Luke Raley\">Luke Raley</a>\n",
       "<span class=\"lineup__bats\">L</span>\n",
       "</li>\n",
       "<li class=\"salaries hide\" style=\"color: #888;font-size: 11px;margin-left: 42px;\">$3,400</li> <li class=\"lineup__player\">\n",
       "<div class=\"lineup__pos\">C</div>\n",
       "<a href=\"/baseball/player/cal-raleigh-15518\" title=\"Cal Raleigh\">Cal Raleigh</a>\n",
       "<span class=\"lineup__bats\">S</span>\n",
       "</li>\n",
       "<li class=\"salaries hide\" style=\"color: #888;font-size: 11px;margin-left: 42px;\">$4,300</li> <li class=\"lineup__player\">\n",
       "<div class=\"lineup__pos\">DH</div>\n",
       "<a href=\"/baseball/player/mitch-haniger-12491\" title=\"Mitch Haniger\">M. Haniger</a>\n",
       "<span class=\"lineup__bats\">R</span>\n",
       "</li>\n",
       "<li class=\"salaries hide\" style=\"color: #888;font-size: 11px;margin-left: 42px;\">$3,500</li> <li class=\"lineup__player\">\n",
       "<div class=\"lineup__pos\">RF</div>\n",
       "<a href=\"/baseball/player/dominic-canzone-16173\" title=\"Dominic Canzone\">D. Canzone</a>\n",
       "<span class=\"lineup__bats\">L</span>\n",
       "</li>\n",
       "<li class=\"salaries hide\" style=\"color: #888;font-size: 11px;margin-left: 42px;\">$2,900</li> <li class=\"lineup__player\">\n",
       "<div class=\"lineup__pos\">1B</div>\n",
       "<a href=\"/baseball/player/ty-france-15038\" title=\"Ty France\">Ty France</a>\n",
       "<span class=\"lineup__bats\">R</span>\n",
       "</li>\n",
       "<li class=\"salaries hide\" style=\"color: #888;font-size: 11px;margin-left: 42px;\">$3,100</li> <li class=\"lineup__player\">\n",
       "<div class=\"lineup__pos\">3B</div>\n",
       "<a href=\"/baseball/player/josh-rojas-15913\" title=\"Josh Rojas\">Josh Rojas</a>\n",
       "<span class=\"lineup__bats\">L</span>\n",
       "</li>\n",
       "<li class=\"salaries hide\" style=\"color: #888;font-size: 11px;margin-left: 42px;\">$4,000</li>\n",
       "<li>\n",
       "<button class=\"see-pitcher-intel\" data-gid=\"2618430\" data-home=\"0\" data-nickname=\"Mariners\" data-pid=\"14495\" data-started=\"0\" data-team=\"SEA\">\n",
       "            Starting Pitcher Intel\n",
       "            </button>\n",
       "</li>\n",
       "</ul>\n",
       "<ul class=\"lineup__list is-home\">\n",
       "<li class=\"lineup__player-highlight mb-0\">\n",
       "<div class=\"lineup__player-highlight-name\">\n",
       "<a href=\"/baseball/player/luis-gil-15814\">Luis Gil</a>\n",
       "<span class=\"lineup__throws\">R</span>\n",
       "</div>\n",
       "<div class=\"lineup__player-highlight-stats\">\n",
       "                5-1 2.39 ERA             </div>\n",
       "</li>\n",
       "<li class=\"lineup__status is-expected\">\n",
       "<div class=\"dot is-medium is-yellow\" style=\"margin-right:5px;\"></div>Expected Lineup\n",
       "            </li>\n",
       "<li class=\"lineup__player\">\n",
       "<div class=\"lineup__pos\">SS</div>\n",
       "<a href=\"/baseball/player/anthony-volpe-16103\" title=\"Anthony Volpe\">A. Volpe</a>\n",
       "<span class=\"lineup__bats\">R</span>\n",
       "</li>\n",
       "<li class=\"salaries hide\" style=\"color: #888;font-size: 11px;margin-left: 42px;\">$4,800</li> <li class=\"lineup__player\">\n",
       "<div class=\"lineup__pos\">RF</div>\n",
       "<a href=\"/baseball/player/juan-soto-13960\" title=\"Juan Soto\">Juan Soto</a>\n",
       "<span class=\"lineup__bats\">L</span>\n",
       "</li>\n",
       "<li class=\"salaries hide\" style=\"color: #888;font-size: 11px;margin-left: 42px;\">$6,400</li> <li class=\"lineup__player\">\n",
       "<div class=\"lineup__pos\">CF</div>\n",
       "<a href=\"/baseball/player/aaron-judge-12959\" title=\"Aaron Judge\">Aaron Judge</a>\n",
       "<span class=\"lineup__bats\">R</span>\n",
       "</li>\n",
       "<li class=\"salaries hide\" style=\"color: #888;font-size: 11px;margin-left: 42px;\">$6,200</li> <li class=\"lineup__player\">\n",
       "<div class=\"lineup__pos\">LF</div>\n",
       "<a href=\"/baseball/player/alex-verdugo-13417\" title=\"Alex Verdugo\">Alex Verdugo</a>\n",
       "<span class=\"lineup__bats\">L</span>\n",
       "</li>\n",
       "<li class=\"salaries hide\" style=\"color: #888;font-size: 11px;margin-left: 42px;\">$4,200</li> <li class=\"lineup__player\">\n",
       "<div class=\"lineup__pos\">DH</div>\n",
       "<a href=\"/baseball/player/giancarlo-stanton-9901\" title=\"Giancarlo Stanton\">G. Stanton</a>\n",
       "<span class=\"lineup__bats\">R</span>\n",
       "</li>\n",
       "<li class=\"salaries hide\" style=\"color: #888;font-size: 11px;margin-left: 42px;\">$4,900</li> <li class=\"lineup__player\">\n",
       "<div class=\"lineup__pos\">1B</div>\n",
       "<a href=\"/baseball/player/anthony-rizzo-10174\" title=\"Anthony Rizzo\">A. Rizzo</a>\n",
       "<span class=\"lineup__bats\">L</span>\n",
       "</li>\n",
       "<li class=\"salaries hide\" style=\"color: #888;font-size: 11px;margin-left: 42px;\">$4,400</li> <li class=\"lineup__player\">\n",
       "<div class=\"lineup__pos\">2B</div>\n",
       "<a href=\"/baseball/player/gleyber-torres-13137\" title=\"Gleyber Torres\">G. Torres</a>\n",
       "<span class=\"lineup__bats\">R</span>\n",
       "</li>\n",
       "<li class=\"salaries hide\" style=\"color: #888;font-size: 11px;margin-left: 42px;\">$3,700</li> <li class=\"lineup__player\">\n",
       "<div class=\"lineup__pos\">C</div>\n",
       "<a href=\"/baseball/player/jose-trevino-14733\" title=\"Jose Trevino\">Jose Trevino</a>\n",
       "<span class=\"lineup__bats\">R</span>\n",
       "</li>\n",
       "<li class=\"salaries hide\" style=\"color: #888;font-size: 11px;margin-left: 42px;\">$3,300</li> <li class=\"lineup__player\">\n",
       "<div class=\"lineup__pos\">3B</div>\n",
       "<a href=\"/baseball/player/oswaldo-cabrera-17675\" title=\"Oswaldo Cabrera\">O. Cabrera</a>\n",
       "<span class=\"lineup__bats\">S</span>\n",
       "</li>\n",
       "<li class=\"salaries hide\" style=\"color: #888;font-size: 11px;margin-left: 42px;\">$3,400</li>\n",
       "<li>\n",
       "<button class=\"see-pitcher-intel\" data-gid=\"2618430\" data-home=\"1\" data-nickname=\"Yankees\" data-pid=\"15814\" data-started=\"0\" data-team=\"NYY\">\n",
       "            Starting Pitcher Intel\n",
       "            </button>\n",
       "</li>\n",
       "</ul>\n",
       "</div>\n",
       "<div class=\"lineup__bottom\">\n",
       "<div class=\"lineup__umpire\">\n",
       "<b>Umpire:</b> \n",
       "                                                                                    Not announced yet\n",
       "                                                                                </div>\n",
       "<div class=\"lineup__extra\">\n",
       "<div class=\"lineup__weather\">\n",
       "<img alt=\"rain\" class=\"lineup__weather-icon\" src=\"https://content.rotowire.com/images/weather/rain.png\"/>\n",
       "<div class=\"lineup__weather-text\">\n",
       "<b><span class=\"red\">53% Rain</span></b>79°  Wind 7 mph Out        </div>\n",
       "</div>\n",
       "<div class=\"lineup__odds\">\n",
       "<div class=\"lineup__odds-item\">\n",
       "<b>LINE</b> \n",
       "                                                <span class=\"composite hide\">NYY -137</span>\n",
       "<span class=\"fanduel\">NYY -138</span>\n",
       "<span class=\"draftkings hide\">NYY -135</span>\n",
       "<span class=\"betmgm hide\">NYY -140</span>\n",
       "<span class=\"pointsbet hide\">–</span>\n",
       "</div>\n",
       "<div class=\"lineup__odds-item\">\n",
       "<b>O/U</b> \n",
       "                                                <span class=\"composite hide\">8.0 Runs</span>\n",
       "<span class=\"fanduel\">8.0 Runs</span>\n",
       "<span class=\"draftkings hide\">8.0 Runs</span>\n",
       "<span class=\"betmgm hide\">8.0 Runs</span>\n",
       "<span class=\"pointsbet hide\">–</span>\n",
       "</div>\n",
       "</div>\n",
       "</div>\n",
       "</div>\n",
       "</div>"
      ]
     },
     "execution_count": 5,
     "metadata": {},
     "output_type": "execute_result"
    }
   ],
   "source": [
    "lineup_boxes[0]"
   ]
  }
 ],
 "metadata": {
  "kernelspec": {
   "display_name": "Python 3 (ipykernel)",
   "language": "python",
   "name": "python3"
  },
  "language_info": {
   "codemirror_mode": {
    "name": "ipython",
    "version": 3
   },
   "file_extension": ".py",
   "mimetype": "text/x-python",
   "name": "python",
   "nbconvert_exporter": "python",
   "pygments_lexer": "ipython3",
   "version": "3.12.3"
  }
 },
 "nbformat": 4,
 "nbformat_minor": 5
}
