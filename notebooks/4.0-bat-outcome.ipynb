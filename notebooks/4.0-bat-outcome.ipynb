{
 "cells": [
  {
   "cell_type": "markdown",
   "id": "1db2abde-1118-42e8-a624-d42bb5014ebf",
   "metadata": {},
   "source": [
    "# Generate Bat Outcome\n",
    " - Given the batter has made contact on the given pitch characteristics, what is the batting outcome?\n",
    " - I.e., what is the launch_speed_angle, and what is the hit_location\n",
    "\n",
    "## Potential Difficulties:\n",
    " - How to factor in bunting?"
   ]
  }
 ],
 "metadata": {
  "kernelspec": {
   "display_name": "Python 3 (ipykernel)",
   "language": "python",
   "name": "python3"
  },
  "language_info": {
   "codemirror_mode": {
    "name": "ipython",
    "version": 3
   },
   "file_extension": ".py",
   "mimetype": "text/x-python",
   "name": "python",
   "nbconvert_exporter": "python",
   "pygments_lexer": "ipython3",
   "version": "3.12.3"
  }
 },
 "nbformat": 4,
 "nbformat_minor": 5
}
