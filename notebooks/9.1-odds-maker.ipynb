{
 "cells": [
  {
   "cell_type": "code",
   "execution_count": 1,
   "id": "22bc4abb-cdb5-48e9-b4f0-5b65b67acb66",
   "metadata": {},
   "outputs": [],
   "source": [
    "from mlb_simulator.simulation.Schedule import Schedule\n",
    "from mlb_simulator.simulation.Simulator import Simulator"
   ]
  },
  {
   "cell_type": "code",
   "execution_count": 2,
   "id": "c46f266c-9559-49d4-83e5-01baf1addec8",
   "metadata": {},
   "outputs": [
    {
     "name": "stdout",
     "output_type": "stream",
     "text": [
      "TB (Confirmed Lineup: False) @ NYY (Confirmed Lineup: False), 2024-07-22 13:05:00 at Yankee Stadium\n",
      "DET (Confirmed Lineup: False) @ CLE (Confirmed Lineup: False), 2024-07-22 18:40:00 at Progressive Field\n",
      "STL (Confirmed Lineup: False) @ PIT (Confirmed Lineup: False), 2024-07-22 18:40:00 at PNC Park\n",
      "NYM (Confirmed Lineup: False) @ MIA (Confirmed Lineup: False), 2024-07-22 18:40:00 at loanDepot park\n",
      "CIN (Confirmed Lineup: False) @ ATL (Confirmed Lineup: False), 2024-07-22 19:20:00 at Truist Park\n",
      "PHI (Confirmed Lineup: False) @ MIN (Confirmed Lineup: False), 2024-07-22 19:40:00 at Target Field\n",
      "CWS (Confirmed Lineup: False) @ TEX (Confirmed Lineup: False), 2024-07-22 20:05:00 at Globe Life Field\n",
      "MIL (Confirmed Lineup: False) @ CHC (Confirmed Lineup: False), 2024-07-22 20:05:00 at Wrigley Field\n",
      "AZ (Confirmed Lineup: False) @ KC (Confirmed Lineup: False), 2024-07-22 20:10:00 at Kauffman Stadium\n",
      "BOS (Confirmed Lineup: False) @ COL (Confirmed Lineup: False), 2024-07-22 20:40:00 at Coors Field\n",
      "HOU (Confirmed Lineup: False) @ OAK (Confirmed Lineup: False), 2024-07-22 21:40:00 at Oakland Coliseum\n",
      "LAA (Confirmed Lineup: False) @ SEA (Confirmed Lineup: False), 2024-07-22 21:40:00 at T-Mobile Park\n",
      "SF (Confirmed Lineup: False) @ LAD (Confirmed Lineup: False), 2024-07-22 22:10:00 at Dodger Stadium\n"
     ]
    }
   ],
   "source": [
    "s = Schedule(for_today=False)\n",
    "for game in s:\n",
    "    print(game)"
   ]
  },
  {
   "cell_type": "code",
   "execution_count": 5,
   "id": "8bd143f0-a1d6-4cfa-aec8-95f2ae766cf9",
   "metadata": {
    "scrolled": true
   },
   "outputs": [
    {
     "name": "stderr",
     "output_type": "stream",
     "text": [
      "2024-07-21 16:29:31,647 - mlb_simulator.simulation.Pitcher - INFO - Starting init for Carlos Rodon\n",
      "2024-07-21 16:29:36,577 - mlb_simulator.simulation.Batter - INFO - Fitting default models...\n"
     ]
    },
    {
     "name": "stdout",
     "output_type": "stream",
     "text": [
      "Error fitting 18769.0, fitting default model\n",
      "\"None of [Index([18769.0], dtype='object', name='ROTOWIREID')] are in the [index]\"\n"
     ]
    },
    {
     "name": "stderr",
     "output_type": "stream",
     "text": [
      "2024-07-21 16:33:07,932 - mlb_simulator.simulation.Batter - INFO - Starting init for Juan Soto\n",
      "2024-07-21 16:33:19,089 - mlb_simulator.simulation.Batter - INFO - Starting init for Aaron Judge\n",
      "2024-07-21 16:33:31,265 - mlb_simulator.simulation.Batter - INFO - Starting init for Austin Wells\n",
      "2024-07-21 16:33:33,549 - mlb_simulator.simulation.Batter - INFO - Starting init for Gleyber Torres\n",
      "2024-07-21 16:33:44,104 - mlb_simulator.simulation.Batter - INFO - Starting init for Alex Verdugo\n",
      "2024-07-21 16:33:54,024 - mlb_simulator.simulation.Batter - INFO - Starting init for Anthony Volpe\n",
      "2024-07-21 16:33:58,560 - mlb_simulator.simulation.Batter - INFO - Starting init for Trent Grisham\n",
      "2024-07-21 16:34:06,658 - mlb_simulator.simulation.Batter - INFO - Starting init for DJ LeMahieu\n",
      "2024-07-21 16:34:19,665 - mlb_simulator.simulation.Pitcher - INFO - Starting init for Zack Littell\n",
      "2024-07-21 16:34:24,070 - mlb_simulator.simulation.Batter - INFO - Starting init for Isaac Paredes\n",
      "2024-07-21 16:34:31,265 - mlb_simulator.simulation.Batter - INFO - Starting init for Randy Arozarena\n",
      "2024-07-21 16:34:39,785 - mlb_simulator.simulation.Batter - INFO - Starting init for Amed Rosario\n",
      "2024-07-21 16:34:52,059 - mlb_simulator.simulation.Batter - INFO - Starting init for Jose Siri\n",
      "2024-07-21 16:34:55,364 - mlb_simulator.simulation.Batter - INFO - Starting init for Jonny Deluca\n",
      "2024-07-21 16:34:56,080 - mlb_simulator.simulation.Batter - INFO - Starting init for Jose Caballero\n",
      "2024-07-21 16:34:58,867 - mlb_simulator.simulation.Batter - INFO - Starting init for Curtis Mead\n",
      "2024-07-21 16:34:59,851 - mlb_simulator.simulation.Batter - INFO - Starting init for Taylor Walls\n",
      "2024-07-21 16:35:04,121 - mlb_simulator.simulation.Batter - INFO - Starting init for Alex Jackson\n",
      "2024-07-21 16:35:47,897 - mlb_simulator.simulation.Pitcher - INFO - Starting init for Carlos Carrasco\n",
      "2024-07-21 16:35:48,857 - mlb_simulator.models.model_utils - INFO - No hyperparams found for 471911, pitch_sequencer: finding and saving optimal hyperparams...\n",
      "2024-07-21 16:37:00,084 - mlb_simulator.simulation.Batter - INFO - Starting init for Steven Kwan\n",
      "2024-07-21 16:37:11,638 - mlb_simulator.simulation.Batter - INFO - Fitting default models...\n"
     ]
    },
    {
     "name": "stdout",
     "output_type": "stream",
     "text": [
      "Error fitting 16272.0, fitting default model\n",
      "\"None of [Index([16272.0], dtype='object', name='ROTOWIREID')] are in the [index]\"\n"
     ]
    },
    {
     "name": "stderr",
     "output_type": "stream",
     "text": [
      "2024-07-21 16:40:54,231 - mlb_simulator.simulation.Batter - INFO - Starting init for Jose Ramirez\n",
      "2024-07-21 16:41:06,606 - mlb_simulator.simulation.Batter - INFO - Starting init for Josh Naylor\n",
      "2024-07-21 16:41:14,378 - mlb_simulator.simulation.Batter - INFO - Fitting default models...\n"
     ]
    },
    {
     "name": "stdout",
     "output_type": "stream",
     "text": [
      "Error fitting 15991.0, fitting default model\n",
      "\"None of [Index([15991.0], dtype='object', name='ROTOWIREID')] are in the [index]\"\n"
     ]
    },
    {
     "name": "stderr",
     "output_type": "stream",
     "text": [
      "2024-07-21 16:45:08,732 - mlb_simulator.simulation.Batter - INFO - Fitting default models...\n"
     ]
    },
    {
     "name": "stdout",
     "output_type": "stream",
     "text": [
      "Error fitting 16470.0, fitting default model\n",
      "\"None of [Index([16470.0], dtype='object', name='ROTOWIREID')] are in the [index]\"\n"
     ]
    },
    {
     "name": "stderr",
     "output_type": "stream",
     "text": [
      "2024-07-21 16:50:07,527 - mlb_simulator.simulation.Batter - INFO - Starting init for Andres Gimenez\n",
      "2024-07-21 16:50:13,871 - mlb_simulator.simulation.Batter - INFO - Starting init for Tyler Freeman\n",
      "2024-07-21 16:50:14,114 - mlb_simulator.models.model_utils - INFO - No hyperparams found for 671289, pitch_outcome: finding and saving optimal hyperparams...\n",
      "2024-07-21 16:50:43,475 - mlb_simulator.simulation.Batter - INFO - Starting init for Bo Naylor\n",
      "2024-07-21 16:50:46,306 - mlb_simulator.simulation.Pitcher - INFO - Starting init for Tarik Skubal\n",
      "2024-07-21 16:50:46,957 - mlb_simulator.models.model_utils - INFO - No hyperparams found for 669373, pitch_sequencer: finding and saving optimal hyperparams...\n",
      "2024-07-21 16:53:07,919 - mlb_simulator.simulation.Batter - INFO - Fitting default models...\n"
     ]
    },
    {
     "name": "stdout",
     "output_type": "stream",
     "text": [
      "Error fitting 15090.0, fitting default model\n",
      "\"None of [Index([15090.0], dtype='object', name='ROTOWIREID')] are in the [index]\"\n"
     ]
    },
    {
     "name": "stderr",
     "output_type": "stream",
     "text": [
      "2024-07-21 16:56:53,773 - mlb_simulator.simulation.Batter - INFO - Starting init for Colt Keith\n",
      "2024-07-21 16:56:55,209 - mlb_simulator.simulation.Batter - INFO - Starting init for Matt Vierling\n",
      "2024-07-21 16:57:01,178 - mlb_simulator.simulation.Batter - INFO - Starting init for Riley Greene\n",
      "2024-07-21 16:57:06,291 - mlb_simulator.simulation.Batter - INFO - Starting init for Mark Canha\n",
      "2024-07-21 16:57:17,590 - mlb_simulator.simulation.Batter - INFO - Starting init for Carson Kelly\n",
      "2024-07-21 16:57:27,270 - mlb_simulator.simulation.Batter - INFO - Starting init for Bligh Madris\n",
      "2024-07-21 16:57:27,308 - mlb_simulator.simulation.Batter - INFO - Fitting default models...\n"
     ]
    },
    {
     "name": "stdout",
     "output_type": "stream",
     "text": [
      "Error fitting 15990.0, fitting default model\n",
      "0\n"
     ]
    },
    {
     "name": "stderr",
     "output_type": "stream",
     "text": [
      "2024-07-21 17:01:18,335 - mlb_simulator.simulation.Batter - INFO - Starting init for Javier Baez\n",
      "2024-07-21 17:01:31,077 - mlb_simulator.simulation.Batter - INFO - Starting init for Giovanny Urshela\n",
      "2024-07-21 17:02:26,663 - mlb_simulator.simulation.Pitcher - INFO - Starting init for Mitch Keller\n",
      "2024-07-21 17:02:27,508 - mlb_simulator.models.model_utils - INFO - No hyperparams found for 656605, pitch_sequencer: finding and saving optimal hyperparams...\n",
      "2024-07-21 17:04:18,215 - mlb_simulator.simulation.Batter - INFO - Starting init for Andrew McCutchen\n",
      "2024-07-21 17:04:28,433 - mlb_simulator.simulation.Batter - INFO - Starting init for Bryan Reynolds\n",
      "2024-07-21 17:04:39,087 - mlb_simulator.simulation.Batter - INFO - Starting init for Oneil Cruz\n",
      "2024-07-21 17:04:44,350 - mlb_simulator.simulation.Batter - INFO - Starting init for Rowdy Tellez\n",
      "2024-07-21 17:04:45,104 - mlb_simulator.models.model_utils - INFO - No hyperparams found for 642133, pitch_outcome: finding and saving optimal hyperparams...\n",
      "2024-07-21 17:05:38,527 - mlb_simulator.simulation.Batter - INFO - Starting init for Nick Gonzales\n",
      "2024-07-21 17:05:41,523 - mlb_simulator.simulation.Batter - INFO - Starting init for Josh Palacios\n",
      "2024-07-21 17:05:44,275 - mlb_simulator.simulation.Batter - INFO - Starting init for Ke'Bryan Hayes\n",
      "2024-07-21 17:05:51,762 - mlb_simulator.simulation.Batter - INFO - Starting init for Joey Bart\n",
      "2024-07-21 17:05:52,020 - mlb_simulator.models.model_utils - INFO - No hyperparams found for 663698, pitch_outcome: finding and saving optimal hyperparams...\n",
      "2024-07-21 17:06:29,293 - mlb_simulator.simulation.Batter - INFO - Starting init for Jack Suwinski\n",
      "2024-07-21 17:06:29,663 - mlb_simulator.models.model_utils - INFO - No hyperparams found for 669261, pitch_outcome: finding and saving optimal hyperparams...\n",
      "2024-07-21 17:07:14,202 - mlb_simulator.simulation.Pitcher - INFO - Starting init for Andre Pallante\n",
      "2024-07-21 17:07:14,569 - mlb_simulator.models.model_utils - INFO - No hyperparams found for 669467, pitch_sequencer: finding and saving optimal hyperparams...\n",
      "2024-07-21 17:08:08,122 - mlb_simulator.simulation.Batter - INFO - Starting init for Masyn Winn\n",
      "2024-07-21 17:08:11,173 - mlb_simulator.simulation.Batter - INFO - Starting init for Alec Burleson\n",
      "2024-07-21 17:08:15,512 - mlb_simulator.simulation.Batter - INFO - Starting init for Willson Contreras\n",
      "2024-07-21 17:08:26,606 - mlb_simulator.simulation.Batter - INFO - Starting init for Brendan Donovan\n",
      "2024-07-21 17:08:32,110 - mlb_simulator.simulation.Batter - INFO - Starting init for Nolan Arenado\n",
      "2024-07-21 17:08:42,441 - mlb_simulator.simulation.Batter - INFO - Starting init for Lars Nootbaar\n",
      "2024-07-21 17:08:48,046 - mlb_simulator.simulation.Batter - INFO - Starting init for Paul Goldschmidt\n",
      "2024-07-21 17:09:02,969 - mlb_simulator.simulation.Batter - INFO - Starting init for Nolan Gorman\n",
      "2024-07-21 17:09:08,147 - mlb_simulator.simulation.Batter - INFO - Starting init for Michael Siani\n",
      "2024-07-21 17:09:27,595 - mlb_simulator.models.model_utils - INFO - No hyperparams found for 31, hit_classifier: finding and saving optimal hyperparams...\n",
      "2024-07-21 17:11:39,157 - mlb_simulator.simulation.Pitcher - INFO - Starting init for Yonny Chirinos\n",
      "2024-07-21 17:11:39,693 - mlb_simulator.models.model_utils - INFO - No hyperparams found for 630023, pitch_sequencer: finding and saving optimal hyperparams...\n",
      "2024-07-21 17:12:18,701 - mlb_simulator.simulation.Batter - INFO - Starting init for Jazz Chisholm\n",
      "2024-07-21 17:12:25,529 - mlb_simulator.simulation.Batter - INFO - Starting init for Bryan De La Cruz\n",
      "2024-07-21 17:12:32,013 - mlb_simulator.simulation.Batter - INFO - Starting init for Jake Burger\n",
      "2024-07-21 17:12:36,067 - mlb_simulator.simulation.Batter - INFO - Starting init for Josh Bell\n",
      "2024-07-21 17:12:49,128 - mlb_simulator.simulation.Batter - INFO - Starting init for Otto Lopez\n",
      "2024-07-21 17:12:51,369 - mlb_simulator.simulation.Batter - INFO - Starting init for Jesus Sanchez\n",
      "2024-07-21 17:12:56,956 - mlb_simulator.simulation.Batter - INFO - Starting init for Xavier Edwards\n",
      "2024-07-21 17:12:58,105 - mlb_simulator.simulation.Batter - INFO - Starting init for Emmanuel Rivera\n",
      "2024-07-21 17:13:01,819 - mlb_simulator.simulation.Batter - INFO - Fitting default models...\n"
     ]
    },
    {
     "name": "stdout",
     "output_type": "stream",
     "text": [
      "Error fitting 13993.0, fitting default model\n",
      "\"None of [Index([13993.0], dtype='object', name='ROTOWIREID')] are in the [index]\"\n"
     ]
    },
    {
     "name": "stderr",
     "output_type": "stream",
     "text": [
      "2024-07-21 17:16:53,228 - mlb_simulator.simulation.Pitcher - INFO - Starting init for David Peterson\n",
      "2024-07-21 17:16:53,853 - mlb_simulator.models.model_utils - INFO - No hyperparams found for 656849, pitch_sequencer: finding and saving optimal hyperparams...\n",
      "2024-07-21 17:17:56,769 - mlb_simulator.simulation.Batter - INFO - Starting init for Francisco Lindor\n",
      "2024-07-21 17:17:58,100 - mlb_simulator.models.model_utils - INFO - No hyperparams found for 596019, pitch_outcome: finding and saving optimal hyperparams...\n",
      "2024-07-21 17:19:14,946 - mlb_simulator.simulation.Batter - INFO - Starting init for Brandon Nimmo\n",
      "2024-07-21 17:19:15,828 - mlb_simulator.models.model_utils - INFO - No hyperparams found for 607043, pitch_outcome: finding and saving optimal hyperparams...\n",
      "2024-07-21 17:20:39,150 - mlb_simulator.simulation.Batter - INFO - Starting init for J.D. Martinez\n",
      "2024-07-21 17:20:40,282 - mlb_simulator.models.model_utils - INFO - No hyperparams found for 502110, pitch_outcome: finding and saving optimal hyperparams...\n",
      "2024-07-21 17:21:56,425 - mlb_simulator.simulation.Batter - INFO - Starting init for Pete Alonso\n",
      "2024-07-21 17:21:57,514 - mlb_simulator.models.model_utils - INFO - No hyperparams found for 624413, pitch_outcome: finding and saving optimal hyperparams...\n",
      "2024-07-21 17:23:03,046 - mlb_simulator.simulation.Batter - INFO - Starting init for Francisco Alvarez\n",
      "2024-07-21 17:23:03,365 - mlb_simulator.models.model_utils - INFO - No hyperparams found for 682626, pitch_outcome: finding and saving optimal hyperparams...\n",
      "2024-07-21 17:23:28,297 - mlb_simulator.simulation.Batter - INFO - Starting init for Mark Vientos\n",
      "2024-07-21 17:23:28,473 - mlb_simulator.models.model_utils - INFO - No hyperparams found for 668901, pitch_outcome: finding and saving optimal hyperparams...\n",
      "2024-07-21 17:23:53,901 - mlb_simulator.simulation.Batter - INFO - Starting init for Jose Iglesias\n",
      "2024-07-21 17:23:54,575 - mlb_simulator.models.model_utils - INFO - No hyperparams found for 578428, pitch_outcome: finding and saving optimal hyperparams...\n",
      "2024-07-21 17:24:44,616 - mlb_simulator.simulation.Batter - INFO - Starting init for Jeff McNeil\n",
      "2024-07-21 17:24:45,727 - mlb_simulator.models.model_utils - INFO - No hyperparams found for 643446, pitch_outcome: finding and saving optimal hyperparams...\n",
      "2024-07-21 17:26:01,229 - mlb_simulator.simulation.Batter - INFO - Starting init for Harrison Bader\n",
      "2024-07-21 17:26:02,161 - mlb_simulator.models.model_utils - INFO - No hyperparams found for 664056, pitch_outcome: finding and saving optimal hyperparams...\n",
      "2024-07-21 17:27:38,082 - mlb_simulator.models.model_utils - INFO - No hyperparams found for 4169, hit_classifier: finding and saving optimal hyperparams...\n",
      "2024-07-21 17:29:23,968 - mlb_simulator.simulation.Pitcher - INFO - Starting init for Dylan Dodd\n",
      "2024-07-21 17:29:24,089 - mlb_simulator.models.model_utils - INFO - No hyperparams found for 689266, pitch_sequencer: finding and saving optimal hyperparams...\n",
      "2024-07-21 17:29:45,431 - mlb_simulator.simulation.Batter - INFO - Starting init for Jarred Kelenic\n",
      "2024-07-21 17:29:50,898 - mlb_simulator.simulation.Batter - INFO - Starting init for Ozzie Albies\n",
      "2024-07-21 17:30:05,765 - mlb_simulator.simulation.Batter - INFO - Starting init for Austin Riley\n",
      "2024-07-21 17:30:16,157 - mlb_simulator.simulation.Batter - INFO - Starting init for Matt Olson\n",
      "2024-07-21 17:30:28,767 - mlb_simulator.simulation.Batter - INFO - Starting init for Marcell Ozuna\n",
      "2024-07-21 17:30:39,529 - mlb_simulator.simulation.Batter - INFO - Starting init for Eddie Rosario\n",
      "2024-07-21 17:30:48,698 - mlb_simulator.simulation.Batter - INFO - Starting init for Adam Duvall\n",
      "2024-07-21 17:31:01,568 - mlb_simulator.simulation.Batter - INFO - Starting init for Sean Murphy\n",
      "2024-07-21 17:31:09,763 - mlb_simulator.simulation.Batter - INFO - Starting init for Orlando Arcia\n",
      "2024-07-21 17:31:19,639 - mlb_simulator.simulation.Pitcher - INFO - Starting init for Hunter Greene\n",
      "2024-07-21 17:31:20,150 - mlb_simulator.models.model_utils - INFO - No hyperparams found for 668881, pitch_sequencer: finding and saving optimal hyperparams...\n",
      "2024-07-21 17:32:49,912 - mlb_simulator.simulation.Batter - INFO - Starting init for Jonathan India\n",
      "2024-07-21 17:32:50,795 - mlb_simulator.models.model_utils - INFO - No hyperparams found for 663697, pitch_outcome: finding and saving optimal hyperparams...\n",
      "2024-07-21 17:34:21,168 - mlb_simulator.simulation.Batter - INFO - Starting init for Elly De La Cruz\n",
      "2024-07-21 17:34:21,532 - mlb_simulator.models.model_utils - INFO - No hyperparams found for 682829, pitch_outcome: finding and saving optimal hyperparams...\n",
      "2024-07-21 17:35:00,732 - mlb_simulator.simulation.Batter - INFO - Starting init for Jeimer Candelario\n",
      "2024-07-21 17:35:02,250 - mlb_simulator.models.model_utils - INFO - No hyperparams found for 600869, pitch_outcome: finding and saving optimal hyperparams...\n",
      "2024-07-21 17:36:04,271 - mlb_simulator.simulation.Batter - INFO - Starting init for Spencer Steer\n",
      "2024-07-21 17:36:04,705 - mlb_simulator.models.model_utils - INFO - No hyperparams found for 668715, pitch_outcome: finding and saving optimal hyperparams...\n",
      "2024-07-21 17:37:07,624 - mlb_simulator.simulation.Batter - INFO - Starting init for Tyler Stephenson\n",
      "2024-07-21 17:37:08,249 - mlb_simulator.models.model_utils - INFO - No hyperparams found for 663886, pitch_outcome: finding and saving optimal hyperparams...\n",
      "2024-07-21 17:37:54,743 - mlb_simulator.simulation.Batter - INFO - Starting init for Noelvi Marte\n",
      "2024-07-21 17:37:54,871 - mlb_simulator.models.model_utils - INFO - No hyperparams found for 682622, pitch_outcome: finding and saving optimal hyperparams...\n",
      "2024-07-21 17:38:22,339 - mlb_simulator.simulation.Batter - INFO - Starting init for Stuart Fairchild\n",
      "2024-07-21 17:38:22,635 - mlb_simulator.models.model_utils - INFO - No hyperparams found for 656413, pitch_outcome: finding and saving optimal hyperparams...\n",
      "2024-07-21 17:38:54,958 - mlb_simulator.simulation.Batter - INFO - Starting init for Rece Hinds\n",
      "2024-07-21 17:38:54,988 - mlb_simulator.simulation.Batter - INFO - Fitting default models...\n"
     ]
    },
    {
     "name": "stdout",
     "output_type": "stream",
     "text": [
      "Error fitting 16072.0, fitting default model\n",
      "single positional indexer is out-of-bounds\n"
     ]
    },
    {
     "name": "stderr",
     "output_type": "stream",
     "text": [
      "2024-07-21 17:44:12,603 - mlb_simulator.simulation.Batter - INFO - Starting init for Santiago Espinal\n",
      "2024-07-21 17:44:13,077 - mlb_simulator.models.model_utils - INFO - No hyperparams found for 669289, pitch_outcome: finding and saving optimal hyperparams...\n",
      "2024-07-21 17:45:05,262 - mlb_simulator.models.model_utils - INFO - No hyperparams found for 4705, hit_classifier: finding and saving optimal hyperparams...\n",
      "2024-07-21 17:47:22,293 - mlb_simulator.simulation.Pitcher - INFO - Starting init for Bailey Ober\n",
      "2024-07-21 17:47:22,772 - mlb_simulator.models.model_utils - INFO - No hyperparams found for 641927, pitch_sequencer: finding and saving optimal hyperparams...\n",
      "2024-07-21 17:48:34,232 - mlb_simulator.simulation.Batter - INFO - Starting init for Willi Castro\n",
      "2024-07-21 17:48:44,591 - mlb_simulator.simulation.Batter - INFO - Starting init for Trevor Larnach\n",
      "2024-07-21 17:48:47,620 - mlb_simulator.simulation.Batter - INFO - Starting init for Byron Buxton\n",
      "2024-07-21 17:48:51,878 - mlb_simulator.simulation.Batter - INFO - Starting init for Matt Wallner\n",
      "2024-07-21 17:48:53,816 - mlb_simulator.simulation.Batter - INFO - Starting init for Brooks Lee\n",
      "2024-07-21 17:48:56,237 - mlb_simulator.simulation.Batter - INFO - Starting init for Max Kepler\n",
      "2024-07-21 17:49:06,075 - mlb_simulator.simulation.Batter - INFO - Starting init for Carlos Santana\n",
      "2024-07-21 17:49:40,236 - mlb_simulator.simulation.Batter - INFO - Starting init for Ryan Jeffers\n",
      "2024-07-21 17:49:45,734 - mlb_simulator.simulation.Batter - INFO - Starting init for Edouard Julien\n",
      "2024-07-21 17:49:49,023 - mlb_simulator.simulation.Pitcher - INFO - Starting init for Ranger Suarez\n",
      "2024-07-21 17:49:49,849 - mlb_simulator.models.model_utils - INFO - No hyperparams found for 624133, pitch_sequencer: finding and saving optimal hyperparams...\n",
      "2024-07-21 17:51:16,024 - mlb_simulator.simulation.Batter - INFO - Starting init for Kyle Schwarber\n",
      "2024-07-21 17:51:30,843 - mlb_simulator.simulation.Batter - INFO - Starting init for Trea Turner\n",
      "2024-07-21 17:51:50,424 - mlb_simulator.simulation.Batter - INFO - Starting init for Bryce Harper\n",
      "2024-07-21 17:52:03,395 - mlb_simulator.simulation.Batter - INFO - Starting init for Alec Bohm\n",
      "2024-07-21 17:52:17,332 - mlb_simulator.simulation.Batter - INFO - Starting init for Bryson Stott\n",
      "2024-07-21 17:52:22,263 - mlb_simulator.simulation.Batter - INFO - Starting init for J.T. Realmuto\n",
      "2024-07-21 17:52:23,229 - mlb_simulator.models.model_utils - INFO - No hyperparams found for 592663, pitch_outcome: finding and saving optimal hyperparams...\n",
      "2024-07-21 17:53:34,003 - mlb_simulator.simulation.Batter - INFO - Starting init for Nick Castellanos\n",
      "2024-07-21 17:53:50,007 - mlb_simulator.simulation.Batter - INFO - Starting init for Brandon Marsh\n",
      "2024-07-21 17:53:50,570 - mlb_simulator.models.model_utils - INFO - No hyperparams found for 669016, pitch_outcome: finding and saving optimal hyperparams...\n",
      "2024-07-21 17:54:50,127 - mlb_simulator.simulation.Batter - INFO - Starting init for Johan Rojas\n",
      "2024-07-21 17:55:22,728 - mlb_simulator.simulation.Pitcher - INFO - Starting init for Michael Lorenzen\n",
      "2024-07-21 17:55:23,507 - mlb_simulator.models.model_utils - INFO - No hyperparams found for 547179, pitch_sequencer: finding and saving optimal hyperparams...\n",
      "2024-07-21 17:57:21,130 - mlb_simulator.simulation.Batter - INFO - Starting init for Marcus Semien\n",
      "2024-07-21 17:57:35,427 - mlb_simulator.simulation.Batter - INFO - Starting init for Corey Seager\n",
      "2024-07-21 17:57:56,922 - mlb_simulator.simulation.Batter - INFO - Starting init for Josh Smith\n",
      "2024-07-21 17:58:02,232 - mlb_simulator.simulation.Batter - INFO - Starting init for Wyatt Langford\n",
      "2024-07-21 17:58:04,732 - mlb_simulator.simulation.Batter - INFO - Starting init for Adolis Garcia\n",
      "2024-07-21 17:58:13,415 - mlb_simulator.simulation.Batter - INFO - Starting init for Nate Lowe\n",
      "2024-07-21 17:58:39,908 - mlb_simulator.simulation.Batter - INFO - Starting init for Jonah Heim\n",
      "2024-07-21 17:58:46,256 - mlb_simulator.simulation.Batter - INFO - Starting init for Justin Foscue\n",
      "2024-07-21 17:58:46,284 - mlb_simulator.simulation.Batter - INFO - Fitting default models...\n"
     ]
    },
    {
     "name": "stdout",
     "output_type": "stream",
     "text": [
      "Error fitting 16706.0, fitting default model\n",
      "single positional indexer is out-of-bounds\n"
     ]
    },
    {
     "name": "stderr",
     "output_type": "stream",
     "text": [
      "2024-07-21 18:02:37,923 - mlb_simulator.simulation.Batter - INFO - Starting init for Leody Taveras\n",
      "2024-07-21 18:02:42,288 - mlb_simulator.simulation.Pitcher - INFO - Starting init for Erick Fedde\n",
      "2024-07-21 18:02:42,999 - mlb_simulator.models.model_utils - INFO - No hyperparams found for 607200, pitch_sequencer: finding and saving optimal hyperparams...\n",
      "2024-07-21 18:03:12,622 - mlb_simulator.simulation.Batter - INFO - Starting init for Tommy Pham\n",
      "2024-07-21 18:03:13,587 - mlb_simulator.models.model_utils - INFO - No hyperparams found for 502054, pitch_outcome: finding and saving optimal hyperparams...\n",
      "2024-07-21 18:03:31,937 - mlb_simulator.simulation.Batter - INFO - Starting init for Andrew Benintendi\n",
      "2024-07-21 18:03:32,946 - mlb_simulator.models.model_utils - INFO - No hyperparams found for 643217, pitch_outcome: finding and saving optimal hyperparams...\n",
      "2024-07-21 18:03:51,982 - mlb_simulator.simulation.Batter - INFO - Starting init for Luis Robert\n",
      "2024-07-21 18:03:52,591 - mlb_simulator.models.model_utils - INFO - No hyperparams found for 673357, pitch_outcome: finding and saving optimal hyperparams...\n",
      "2024-07-21 18:04:04,383 - mlb_simulator.simulation.Batter - INFO - Starting init for Andrew Vaughn\n",
      "2024-07-21 18:04:04,960 - mlb_simulator.models.model_utils - INFO - No hyperparams found for 683734, pitch_outcome: finding and saving optimal hyperparams...\n",
      "2024-07-21 18:04:12,997 - mlb_simulator.simulation.Batter - INFO - Starting init for Eloy Jimenez\n",
      "2024-07-21 18:04:13,617 - mlb_simulator.models.model_utils - INFO - No hyperparams found for 650391, pitch_outcome: finding and saving optimal hyperparams...\n",
      "2024-07-21 18:04:22,437 - mlb_simulator.simulation.Batter - INFO - Starting init for Nick Senzel\n",
      "2024-07-21 18:04:23,000 - mlb_simulator.models.model_utils - INFO - No hyperparams found for 669222, pitch_outcome: finding and saving optimal hyperparams...\n",
      "2024-07-21 18:04:35,644 - mlb_simulator.simulation.Batter - INFO - Starting init for Paul DeJong\n",
      "2024-07-21 18:04:36,400 - mlb_simulator.models.model_utils - INFO - No hyperparams found for 657557, pitch_outcome: finding and saving optimal hyperparams...\n",
      "2024-07-21 18:04:50,529 - mlb_simulator.simulation.Batter - INFO - Fitting default models...\n"
     ]
    },
    {
     "name": "stdout",
     "output_type": "stream",
     "text": [
      "Error fitting 19480.0, fitting default model\n",
      "\"None of [Index([19480.0], dtype='object', name='ROTOWIREID')] are in the [index]\"\n"
     ]
    },
    {
     "name": "stderr",
     "output_type": "stream",
     "text": [
      "2024-07-21 18:08:17,681 - mlb_simulator.simulation.Batter - INFO - Starting init for Korey Lee\n",
      "2024-07-21 18:08:17,893 - mlb_simulator.models.model_utils - INFO - No hyperparams found for 686676, pitch_outcome: finding and saving optimal hyperparams...\n",
      "2024-07-21 18:08:38,655 - mlb_simulator.models.model_utils - INFO - No hyperparams found for 5325, hit_classifier: finding and saving optimal hyperparams...\n",
      "2024-07-21 18:09:01,323 - mlb_simulator.simulation.Pitcher - INFO - Starting init for Javier Assad\n",
      "2024-07-21 18:09:01,650 - mlb_simulator.models.model_utils - INFO - No hyperparams found for 665871, pitch_sequencer: finding and saving optimal hyperparams...\n",
      "2024-07-21 18:09:09,130 - mlb_simulator.simulation.Batter - INFO - Starting init for Nico Hoerner\n",
      "2024-07-21 18:09:13,078 - mlb_simulator.simulation.Batter - INFO - Starting init for Michael Busch\n",
      "2024-07-21 18:09:14,129 - mlb_simulator.simulation.Batter - INFO - Starting init for Seiya Suzuki\n",
      "2024-07-21 18:09:16,946 - mlb_simulator.simulation.Batter - INFO - Starting init for Ian Happ\n",
      "2024-07-21 18:09:23,873 - mlb_simulator.simulation.Batter - INFO - Starting init for Christopher Morel\n",
      "2024-07-21 18:09:26,734 - mlb_simulator.simulation.Batter - INFO - Starting init for Mike Tauchman\n",
      "2024-07-21 18:09:31,267 - mlb_simulator.simulation.Batter - INFO - Starting init for Dansby Swanson\n",
      "2024-07-21 18:09:41,034 - mlb_simulator.simulation.Batter - INFO - Starting init for Tomas Nido\n",
      "2024-07-21 18:09:43,785 - mlb_simulator.simulation.Batter - INFO - Starting init for Pete Crow-Armstrong\n",
      "2024-07-21 18:09:44,663 - mlb_simulator.simulation.Pitcher - INFO - Starting init for Cole Ragans\n"
     ]
    },
    {
     "name": "stdout",
     "output_type": "stream",
     "text": [
      "\"None of [Index([14720.0], dtype='object', name='ROTOWIREID')] are in the [index]\"\n"
     ]
    },
    {
     "name": "stderr",
     "output_type": "stream",
     "text": [
      "2024-07-21 18:09:44,998 - mlb_simulator.models.model_utils - INFO - No hyperparams found for 666142, pitch_sequencer: finding and saving optimal hyperparams...\n",
      "2024-07-21 18:09:52,748 - mlb_simulator.simulation.Batter - INFO - Starting init for Adam Frazier\n",
      "2024-07-21 18:10:01,652 - mlb_simulator.simulation.Batter - INFO - Starting init for Bobby Witt Jr.\n",
      "2024-07-21 18:10:05,440 - mlb_simulator.simulation.Batter - INFO - Starting init for Vinnie Pasquantino\n",
      "2024-07-21 18:10:08,139 - mlb_simulator.simulation.Batter - INFO - Starting init for Salvador Perez\n",
      "2024-07-21 18:10:14,042 - mlb_simulator.simulation.Batter - INFO - Starting init for Hunter Renfroe\n",
      "2024-07-21 18:10:19,672 - mlb_simulator.simulation.Batter - INFO - Starting init for Michael Massey\n",
      "2024-07-21 18:10:21,273 - mlb_simulator.simulation.Batter - INFO - Starting init for Freddy Fermin\n",
      "2024-07-21 18:10:22,395 - mlb_simulator.simulation.Batter - INFO - Starting init for Maikel Garcia\n",
      "2024-07-21 18:10:25,010 - mlb_simulator.simulation.Batter - INFO - Starting init for Kyle Isbel\n",
      "2024-07-21 18:10:28,127 - mlb_simulator.simulation.Pitcher - INFO - Starting init for Austin Gomber\n"
     ]
    },
    {
     "name": "stdout",
     "output_type": "stream",
     "text": [
      "\"None of [Index([18751.0], dtype='object', name='ROTOWIREID')] are in the [index]\"\n"
     ]
    },
    {
     "name": "stderr",
     "output_type": "stream",
     "text": [
      "2024-07-21 18:10:32,086 - mlb_simulator.simulation.Batter - INFO - Starting init for Charlie Blackmon\n",
      "2024-07-21 18:10:43,690 - mlb_simulator.simulation.Batter - INFO - Starting init for Ezequiel Tovar\n",
      "2024-07-21 18:10:47,136 - mlb_simulator.simulation.Batter - INFO - Starting init for Ryan McMahon\n",
      "2024-07-21 18:10:54,757 - mlb_simulator.simulation.Batter - INFO - Starting init for Elias Diaz\n",
      "2024-07-21 18:11:00,494 - mlb_simulator.simulation.Batter - INFO - Starting init for Brenton Doyle\n",
      "2024-07-21 18:11:03,197 - mlb_simulator.simulation.Batter - INFO - Starting init for Jake Cave\n",
      "2024-07-21 18:11:07,200 - mlb_simulator.simulation.Batter - INFO - Starting init for Brendan Rodgers\n",
      "2024-07-21 18:11:12,427 - mlb_simulator.simulation.Batter - INFO - Starting init for Michael Toglia\n",
      "2024-07-21 18:11:13,790 - mlb_simulator.simulation.Batter - INFO - Starting init for Sam Hilliard\n",
      "2024-07-21 18:11:15,518 - mlb_simulator.simulation.Pitcher - INFO - Starting init for Tanner Houck\n",
      "2024-07-21 18:11:15,989 - mlb_simulator.models.model_utils - INFO - No hyperparams found for 656557, pitch_sequencer: finding and saving optimal hyperparams...\n",
      "2024-07-21 18:11:25,112 - mlb_simulator.simulation.Batter - INFO - Starting init for Jarren Duran\n",
      "2024-07-21 18:11:28,760 - mlb_simulator.simulation.Batter - INFO - Starting init for David Hamilton\n",
      "2024-07-21 18:11:29,405 - mlb_simulator.simulation.Batter - INFO - Starting init for Masataka Yoshida\n",
      "2024-07-21 18:11:31,686 - mlb_simulator.simulation.Batter - INFO - Starting init for Rafael Devers\n",
      "2024-07-21 18:11:40,565 - mlb_simulator.simulation.Batter - INFO - Starting init for Tyler O'Neill\n",
      "2024-07-21 18:11:44,815 - mlb_simulator.simulation.Batter - INFO - Starting init for Connor Wong\n",
      "2024-07-21 18:11:46,692 - mlb_simulator.simulation.Batter - INFO - Starting init for Wilyer Abreu\n",
      "2024-07-21 18:11:47,725 - mlb_simulator.simulation.Batter - INFO - Starting init for Dominic Smith\n",
      "2024-07-21 18:11:51,096 - mlb_simulator.simulation.Batter - INFO - Starting init for Ceddanne Rafaela\n",
      "2024-07-21 18:12:08,495 - mlb_simulator.models.model_utils - INFO - No hyperparams found for 19, hit_classifier: finding and saving optimal hyperparams...\n",
      "2024-07-21 18:12:23,698 - mlb_simulator.simulation.Pitcher - INFO - Starting init for Hogan Harris\n",
      "2024-07-21 18:12:23,894 - mlb_simulator.models.model_utils - INFO - No hyperparams found for 663687, pitch_sequencer: finding and saving optimal hyperparams...\n",
      "2024-07-21 18:12:28,195 - mlb_simulator.simulation.Batter - INFO - Starting init for Lawrence Butler\n",
      "2024-07-21 18:12:28,356 - mlb_simulator.models.model_utils - INFO - No hyperparams found for 671732, pitch_outcome: finding and saving optimal hyperparams...\n",
      "2024-07-21 18:12:31,774 - mlb_simulator.simulation.Batter - INFO - Starting init for Miguel Andujar\n",
      "2024-07-21 18:12:32,215 - mlb_simulator.models.model_utils - INFO - No hyperparams found for 609280, pitch_outcome: finding and saving optimal hyperparams...\n",
      "2024-07-21 18:12:40,038 - mlb_simulator.simulation.Batter - INFO - Starting init for J.J. Bleday\n",
      "2024-07-21 18:12:40,370 - mlb_simulator.models.model_utils - INFO - No hyperparams found for 668709, pitch_outcome: finding and saving optimal hyperparams...\n",
      "2024-07-21 18:12:47,070 - mlb_simulator.simulation.Batter - INFO - Starting init for Brent Rooker\n",
      "2024-07-21 18:12:47,493 - mlb_simulator.models.model_utils - INFO - No hyperparams found for 667670, pitch_outcome: finding and saving optimal hyperparams...\n",
      "2024-07-21 18:12:53,281 - mlb_simulator.simulation.Batter - INFO - Starting init for Shea Langeliers\n",
      "2024-07-21 18:12:53,619 - mlb_simulator.models.model_utils - INFO - No hyperparams found for 669127, pitch_outcome: finding and saving optimal hyperparams...\n",
      "2024-07-21 18:12:58,965 - mlb_simulator.simulation.Batter - INFO - Starting init for Abraham Toro\n",
      "2024-07-21 18:12:59,368 - mlb_simulator.models.model_utils - INFO - No hyperparams found for 647351, pitch_outcome: finding and saving optimal hyperparams...\n",
      "2024-07-21 18:13:05,778 - mlb_simulator.simulation.Batter - INFO - Starting init for Seth Brown\n",
      "2024-07-21 18:13:06,322 - mlb_simulator.models.model_utils - INFO - No hyperparams found for 664913, pitch_outcome: finding and saving optimal hyperparams...\n",
      "2024-07-21 18:13:13,390 - mlb_simulator.simulation.Batter - INFO - Starting init for Zack Gelof\n",
      "2024-07-21 18:13:13,644 - mlb_simulator.models.model_utils - INFO - No hyperparams found for 680869, pitch_outcome: finding and saving optimal hyperparams...\n",
      "2024-07-21 18:13:18,056 - mlb_simulator.simulation.Batter - INFO - Fitting default models...\n"
     ]
    },
    {
     "name": "stdout",
     "output_type": "stream",
     "text": [
      "Error fitting 18107.0, fitting default model\n",
      "\"None of [Index([18107.0], dtype='object', name='ROTOWIREID')] are in the [index]\"\n"
     ]
    },
    {
     "name": "stderr",
     "output_type": "stream",
     "text": [
      "2024-07-21 18:16:35,509 - mlb_simulator.simulation.Pitcher - INFO - Starting init for Logan Gilbert\n"
     ]
    },
    {
     "name": "stdout",
     "output_type": "stream",
     "text": [
      "\"None of [Index([17672.0], dtype='object', name='ROTOWIREID')] are in the [index]\"\n"
     ]
    },
    {
     "name": "stderr",
     "output_type": "stream",
     "text": [
      "2024-07-21 18:16:36,296 - mlb_simulator.models.model_utils - INFO - No hyperparams found for 669302, pitch_sequencer: finding and saving optimal hyperparams...\n",
      "2024-07-21 18:16:58,743 - mlb_simulator.simulation.Batter - INFO - Starting init for J.P. Crawford\n",
      "2024-07-21 18:17:08,009 - mlb_simulator.simulation.Batter - INFO - Starting init for Victor Robles\n",
      "2024-07-21 18:17:13,090 - mlb_simulator.simulation.Batter - INFO - Starting init for Julio Rodriguez\n",
      "2024-07-21 18:17:17,872 - mlb_simulator.simulation.Batter - INFO - Starting init for Cal Raleigh\n",
      "2024-07-21 18:17:21,175 - mlb_simulator.simulation.Batter - INFO - Starting init for Mitch Garver\n",
      "2024-07-21 18:17:27,212 - mlb_simulator.simulation.Batter - INFO - Starting init for Jorge Polanco\n",
      "2024-07-21 18:17:46,780 - mlb_simulator.simulation.Batter - INFO - Starting init for Dylan Moore\n",
      "2024-07-21 18:17:47,300 - mlb_simulator.models.model_utils - INFO - No hyperparams found for 664238, pitch_outcome: finding and saving optimal hyperparams...\n",
      "2024-07-21 18:17:54,446 - mlb_simulator.simulation.Batter - INFO - Starting init for Mitch Haniger\n",
      "2024-07-21 18:17:55,153 - mlb_simulator.models.model_utils - INFO - No hyperparams found for 571745, pitch_outcome: finding and saving optimal hyperparams...\n",
      "2024-07-21 18:18:04,074 - mlb_simulator.simulation.Batter - INFO - Starting init for Ty France\n",
      "2024-07-21 18:18:09,408 - mlb_simulator.simulation.Pitcher - INFO - Starting init for Tyler Anderson\n",
      "2024-07-21 18:18:10,393 - mlb_simulator.models.model_utils - INFO - No hyperparams found for 542881, pitch_sequencer: finding and saving optimal hyperparams...\n",
      "2024-07-21 18:18:24,340 - mlb_simulator.simulation.Batter - INFO - Starting init for Anthony Rendon\n",
      "2024-07-21 18:18:25,050 - mlb_simulator.models.model_utils - INFO - No hyperparams found for 543685, pitch_outcome: finding and saving optimal hyperparams...\n",
      "2024-07-21 18:18:33,434 - mlb_simulator.simulation.Batter - INFO - Starting init for Nolan Schanuel\n",
      "2024-07-21 18:18:33,691 - mlb_simulator.models.model_utils - INFO - No hyperparams found for 694384, pitch_outcome: finding and saving optimal hyperparams...\n",
      "2024-07-21 18:18:37,666 - mlb_simulator.simulation.Batter - INFO - Starting init for Taylor Ward\n",
      "2024-07-21 18:18:38,205 - mlb_simulator.models.model_utils - INFO - No hyperparams found for 621493, pitch_outcome: finding and saving optimal hyperparams...\n",
      "2024-07-21 18:18:48,488 - mlb_simulator.simulation.Batter - INFO - Starting init for Brandon Drury\n",
      "2024-07-21 18:18:49,100 - mlb_simulator.models.model_utils - INFO - No hyperparams found for 592273, pitch_outcome: finding and saving optimal hyperparams...\n",
      "2024-07-21 18:18:56,769 - mlb_simulator.simulation.Batter - INFO - Starting init for Logan O'Hoppe\n",
      "2024-07-21 18:18:56,976 - mlb_simulator.models.model_utils - INFO - No hyperparams found for 681351, pitch_outcome: finding and saving optimal hyperparams...\n",
      "2024-07-21 18:19:00,445 - mlb_simulator.simulation.Batter - INFO - Starting init for Mickey Moniak\n",
      "2024-07-21 18:19:00,775 - mlb_simulator.models.model_utils - INFO - No hyperparams found for 666160, pitch_outcome: finding and saving optimal hyperparams...\n",
      "2024-07-21 18:19:05,803 - mlb_simulator.simulation.Batter - INFO - Starting init for Zach Neto\n",
      "2024-07-21 18:19:06,101 - mlb_simulator.models.model_utils - INFO - No hyperparams found for 687263, pitch_outcome: finding and saving optimal hyperparams...\n",
      "2024-07-21 18:19:11,005 - mlb_simulator.simulation.Batter - INFO - Starting init for Jo Adell\n",
      "2024-07-21 18:19:11,343 - mlb_simulator.models.model_utils - INFO - No hyperparams found for 666176, pitch_outcome: finding and saving optimal hyperparams...\n",
      "2024-07-21 18:19:17,617 - mlb_simulator.simulation.Batter - INFO - Starting init for Keston Hiura\n",
      "2024-07-21 18:19:17,978 - mlb_simulator.models.model_utils - INFO - No hyperparams found for 669374, pitch_outcome: finding and saving optimal hyperparams...\n"
     ]
    },
    {
     "name": "stdout",
     "output_type": "stream",
     "text": [
      "\"None of [Index([17815.0], dtype='object', name='ROTOWIREID')] are in the [index]\"\n"
     ]
    }
   ],
   "source": [
    "sims = []\n",
    "for game in s:\n",
    "    try:\n",
    "        sims.append(Simulator(game))\n",
    "    except Exception as e:\n",
    "        print(e)"
   ]
  },
  {
   "cell_type": "code",
   "execution_count": 6,
   "id": "83f498a4-78aa-42d0-b3ab-106c6ca14171",
   "metadata": {},
   "outputs": [
    {
     "name": "stdout",
     "output_type": "stream",
     "text": [
      "[Simulator(game=(TB (Confirmed Lineup: False) @ NYY (Confirmed Lineup: False), 2024-07-22 13:05:00 at Yankee Stadium), state=Top of the 1, 0 outs, 1 pitches in, with bases {'1b': None, '2b': None, '3b': None}), Simulator(game=(DET (Confirmed Lineup: False) @ CLE (Confirmed Lineup: False), 2024-07-22 18:40:00 at Progressive Field), state=Top of the 1, 0 outs, 1 pitches in, with bases {'1b': None, '2b': None, '3b': None}), Simulator(game=(STL (Confirmed Lineup: False) @ PIT (Confirmed Lineup: False), 2024-07-22 18:40:00 at PNC Park), state=Top of the 1, 0 outs, 1 pitches in, with bases {'1b': None, '2b': None, '3b': None}), Simulator(game=(NYM (Confirmed Lineup: False) @ MIA (Confirmed Lineup: False), 2024-07-22 18:40:00 at loanDepot park), state=Top of the 1, 0 outs, 1 pitches in, with bases {'1b': None, '2b': None, '3b': None}), Simulator(game=(CIN (Confirmed Lineup: False) @ ATL (Confirmed Lineup: False), 2024-07-22 19:20:00 at Truist Park), state=Top of the 1, 0 outs, 1 pitches in, with bases {'1b': None, '2b': None, '3b': None}), Simulator(game=(PHI (Confirmed Lineup: False) @ MIN (Confirmed Lineup: False), 2024-07-22 19:40:00 at Target Field), state=Top of the 1, 0 outs, 1 pitches in, with bases {'1b': None, '2b': None, '3b': None}), Simulator(game=(CWS (Confirmed Lineup: False) @ TEX (Confirmed Lineup: False), 2024-07-22 20:05:00 at Globe Life Field), state=Top of the 1, 0 outs, 1 pitches in, with bases {'1b': None, '2b': None, '3b': None}), Simulator(game=(BOS (Confirmed Lineup: False) @ COL (Confirmed Lineup: False), 2024-07-22 20:40:00 at Coors Field), state=Top of the 1, 0 outs, 1 pitches in, with bases {'1b': None, '2b': None, '3b': None}), Simulator(game=(LAA (Confirmed Lineup: False) @ SEA (Confirmed Lineup: False), 2024-07-22 21:40:00 at T-Mobile Park), state=Top of the 1, 0 outs, 1 pitches in, with bases {'1b': None, '2b': None, '3b': None})]\n"
     ]
    }
   ],
   "source": [
    "print(sims)"
   ]
  },
  {
   "cell_type": "code",
   "execution_count": 7,
   "id": "5736fcf2-aaa8-4e0e-ac26-b8dbbf867015",
   "metadata": {
    "scrolled": true
   },
   "outputs": [
    {
     "name": "stderr",
     "output_type": "stream",
     "text": [
      "  8%|████████████▉                                                                                                                                                              | 19/250 [00:35<05:54,  1.53s/it]"
     ]
    },
    {
     "name": "stdout",
     "output_type": "stream",
     "text": [
      "('fielders_choice', 'R', TransitionState(outs=0, on_1b=False, on_2b=False, on_3b=False))\n"
     ]
    },
    {
     "name": "stderr",
     "output_type": "stream",
     "text": [
      " 19%|████████████████████████████████▊                                                                                                                                          | 48/250 [01:29<05:49,  1.73s/it]"
     ]
    },
    {
     "name": "stdout",
     "output_type": "stream",
     "text": [
      "('fly_out', 'L', TransitionState(outs=2, on_1b=False, on_2b=True, on_3b=True))\n"
     ]
    },
    {
     "name": "stderr",
     "output_type": "stream",
     "text": [
      " 32%|███████████████████████████████████████████████████████▍                                                                                                                   | 81/250 [02:31<04:34,  1.63s/it]"
     ]
    },
    {
     "name": "stdout",
     "output_type": "stream",
     "text": [
      "('fly_out', 'R', TransitionState(outs=1, on_1b=True, on_2b=False, on_3b=False))\n"
     ]
    },
    {
     "name": "stderr",
     "output_type": "stream",
     "text": [
      " 37%|███████████████████████████████████████████████████████████████▌                                                                                                           | 93/250 [02:55<05:17,  2.03s/it]"
     ]
    },
    {
     "name": "stdout",
     "output_type": "stream",
     "text": [
      "('double_play', 'R', TransitionState(outs=1, on_1b=False, on_2b=False, on_3b=False))\n"
     ]
    },
    {
     "name": "stderr",
     "output_type": "stream",
     "text": [
      " 41%|█████████████████████████████████████████████████████████████████████▎                                                                                                    | 102/250 [03:09<04:38,  1.88s/it]"
     ]
    },
    {
     "name": "stdout",
     "output_type": "stream",
     "text": [
      "('fly_out', 'L', TransitionState(outs=1, on_1b=False, on_2b=False, on_3b=False))\n"
     ]
    },
    {
     "name": "stderr",
     "output_type": "stream",
     "text": [
      " 50%|████████████████████████████████████████████████████████████████████████████████████▎                                                                                     | 124/250 [03:57<04:04,  1.94s/it]"
     ]
    },
    {
     "name": "stdout",
     "output_type": "stream",
     "text": [
      "('fly_out', 'L', TransitionState(outs=2, on_1b=False, on_2b=False, on_3b=True))\n"
     ]
    },
    {
     "name": "stderr",
     "output_type": "stream",
     "text": [
      " 73%|████████████████████████████████████████████████████████████████████████████████████████████████████████████████████████████▍                                             | 183/250 [05:49<02:05,  1.87s/it]"
     ]
    },
    {
     "name": "stdout",
     "output_type": "stream",
     "text": [
      "('ground_out', 'R', TransitionState(outs=0, on_1b=False, on_2b=False, on_3b=False))\n"
     ]
    },
    {
     "name": "stderr",
     "output_type": "stream",
     "text": [
      " 86%|█████████████████████████████████████████████████████████████████████████████████████████████████████████████████████████████████████████████████▌                        | 214/250 [06:49<00:55,  1.55s/it]"
     ]
    },
    {
     "name": "stdout",
     "output_type": "stream",
     "text": [
      "('ground_out', 'R', TransitionState(outs=0, on_1b=False, on_2b=False, on_3b=False))\n"
     ]
    },
    {
     "name": "stderr",
     "output_type": "stream",
     "text": [
      "100%|██████████████████████████████████████████████████████████████████████████████████████████████████████████████████████████████████████████████████████████████████████████| 250/250 [08:01<00:00,  1.93s/it]\n",
      "  8%|█████████████▋                                                                                                                                                             | 20/250 [00:37<06:29,  1.69s/it]"
     ]
    },
    {
     "name": "stdout",
     "output_type": "stream",
     "text": [
      "('fielders_choice', 'L', TransitionState(outs=0, on_1b=False, on_2b=False, on_3b=False))\n"
     ]
    },
    {
     "name": "stderr",
     "output_type": "stream",
     "text": [
      " 14%|███████████████████████▎                                                                                                                                                   | 34/250 [01:02<04:56,  1.37s/it]"
     ]
    },
    {
     "name": "stdout",
     "output_type": "stream",
     "text": [
      "('double_play', 'L', TransitionState(outs=0, on_1b=False, on_2b=False, on_3b=False))\n"
     ]
    },
    {
     "name": "stderr",
     "output_type": "stream",
     "text": [
      " 32%|███████████████████████████████████████████████████████▍                                                                                                                   | 81/250 [02:26<04:31,  1.60s/it]"
     ]
    },
    {
     "name": "stdout",
     "output_type": "stream",
     "text": [
      "('double_play', 'L', TransitionState(outs=0, on_1b=False, on_2b=False, on_3b=False))\n"
     ]
    },
    {
     "name": "stderr",
     "output_type": "stream",
     "text": [
      " 34%|█████████████████████████████████████████████████████████▍                                                                                                                 | 84/250 [02:31<04:47,  1.73s/it]"
     ]
    },
    {
     "name": "stdout",
     "output_type": "stream",
     "text": [
      "('fielders_choice', 'R', TransitionState(outs=2, on_1b=False, on_2b=True, on_3b=True))\n"
     ]
    },
    {
     "name": "stderr",
     "output_type": "stream",
     "text": [
      " 42%|████████████████████████████████████████████████████████████████████████                                                                                                  | 106/250 [03:12<03:49,  1.59s/it]"
     ]
    },
    {
     "name": "stdout",
     "output_type": "stream",
     "text": [
      "('double_play', 'L', TransitionState(outs=0, on_1b=False, on_2b=False, on_3b=False))\n"
     ]
    },
    {
     "name": "stderr",
     "output_type": "stream",
     "text": [
      " 52%|███████████████████████████████████████████████████████████████████████████████████████▋                                                                                  | 129/250 [03:54<03:37,  1.79s/it]"
     ]
    },
    {
     "name": "stdout",
     "output_type": "stream",
     "text": [
      "('ground_out', 'R', TransitionState(outs=0, on_1b=False, on_2b=False, on_3b=False))\n"
     ]
    },
    {
     "name": "stderr",
     "output_type": "stream",
     "text": [
      " 52%|████████████████████████████████████████████████████████████████████████████████████████▍                                                                                 | 130/250 [03:55<02:48,  1.40s/it]"
     ]
    },
    {
     "name": "stdout",
     "output_type": "stream",
     "text": [
      "('ground_out', 'R', TransitionState(outs=1, on_1b=False, on_2b=False, on_3b=False))\n"
     ]
    },
    {
     "name": "stderr",
     "output_type": "stream",
     "text": [
      " 64%|█████████████████████████████████████████████████████████████████████████████████████████████████████████████▍                                                            | 161/250 [04:49<02:07,  1.43s/it]"
     ]
    },
    {
     "name": "stdout",
     "output_type": "stream",
     "text": [
      "('fly_out', 'R', TransitionState(outs=2, on_1b=True, on_2b=False, on_3b=True))\n"
     ]
    },
    {
     "name": "stderr",
     "output_type": "stream",
     "text": [
      " 71%|████████████████████████████████████████████████████████████████████████████████████████████████████████████████████████▎                                                 | 177/250 [05:17<01:45,  1.45s/it]"
     ]
    },
    {
     "name": "stdout",
     "output_type": "stream",
     "text": [
      "('double_play', 'R', TransitionState(outs=0, on_1b=False, on_2b=False, on_3b=False))\n"
     ]
    },
    {
     "name": "stderr",
     "output_type": "stream",
     "text": [
      " 72%|███████████████████████████████████████████████████████████████████████████████████████████████████████████████████████████                                               | 181/250 [05:23<01:37,  1.41s/it]"
     ]
    },
    {
     "name": "stdout",
     "output_type": "stream",
     "text": [
      "('fly_out', 'R', TransitionState(outs=2, on_1b=True, on_2b=False, on_3b=False))\n"
     ]
    },
    {
     "name": "stderr",
     "output_type": "stream",
     "text": [
      " 81%|█████████████████████████████████████████████████████████████████████████████████████████████████████████████████████████████████████████▎                                | 202/250 [06:03<01:22,  1.71s/it]"
     ]
    },
    {
     "name": "stdout",
     "output_type": "stream",
     "text": [
      "('double_play', 'R', TransitionState(outs=1, on_1b=False, on_2b=False, on_3b=False))\n"
     ]
    },
    {
     "name": "stderr",
     "output_type": "stream",
     "text": [
      " 84%|██████████████████████████████████████████████████████████████████████████████████████████████████████████████████████████████████████████████▊                           | 210/250 [06:17<01:12,  1.81s/it]"
     ]
    },
    {
     "name": "stdout",
     "output_type": "stream",
     "text": [
      "('fielders_choice', 'L', TransitionState(outs=1, on_1b=False, on_2b=False, on_3b=False))\n"
     ]
    },
    {
     "name": "stderr",
     "output_type": "stream",
     "text": [
      " 85%|████████████████████████████████████████████████████████████████████████████████████████████████████████████████████████████████████████████████▊                         | 213/250 [06:21<00:54,  1.48s/it]"
     ]
    },
    {
     "name": "stdout",
     "output_type": "stream",
     "text": [
      "('fly_out', 'R', TransitionState(outs=1, on_1b=False, on_2b=False, on_3b=False))\n"
     ]
    },
    {
     "name": "stderr",
     "output_type": "stream",
     "text": [
      "100%|██████████████████████████████████████████████████████████████████████████████████████████████████████████████████████████████████████████████████████████████████████████| 250/250 [07:31<00:00,  1.80s/it]\n",
      "  2%|████▏                                                                                                                                                                       | 6/250 [00:08<04:58,  1.22s/it]"
     ]
    },
    {
     "name": "stdout",
     "output_type": "stream",
     "text": [
      "('fielders_choice', 'L', TransitionState(outs=1, on_1b=False, on_2b=False, on_3b=False))\n"
     ]
    },
    {
     "name": "stderr",
     "output_type": "stream",
     "text": [
      " 16%|██████████████████████████▋                                                                                                                                                | 39/250 [01:08<04:53,  1.39s/it]"
     ]
    },
    {
     "name": "stdout",
     "output_type": "stream",
     "text": [
      "('double_play', 'L', TransitionState(outs=1, on_1b=False, on_2b=False, on_3b=False))\n"
     ]
    },
    {
     "name": "stderr",
     "output_type": "stream",
     "text": [
      " 16%|███████████████████████████▎                                                                                                                                               | 40/250 [01:10<05:13,  1.49s/it]"
     ]
    },
    {
     "name": "stdout",
     "output_type": "stream",
     "text": [
      "('double_play', 'L', TransitionState(outs=0, on_1b=False, on_2b=False, on_3b=False))\n"
     ]
    },
    {
     "name": "stderr",
     "output_type": "stream",
     "text": [
      " 28%|███████████████████████████████████████████████▏                                                                                                                           | 69/250 [02:02<04:16,  1.42s/it]"
     ]
    },
    {
     "name": "stdout",
     "output_type": "stream",
     "text": [
      "('double_play', 'L', TransitionState(outs=1, on_1b=False, on_2b=False, on_3b=False))\n"
     ]
    },
    {
     "name": "stderr",
     "output_type": "stream",
     "text": [
      " 64%|████████████████████████████████████████████████████████████████████████████████████████████████████████████▊                                                             | 160/250 [04:50<02:31,  1.68s/it]"
     ]
    },
    {
     "name": "stdout",
     "output_type": "stream",
     "text": [
      "('fielders_choice', 'R', TransitionState(outs=0, on_1b=False, on_2b=False, on_3b=False))\n"
     ]
    },
    {
     "name": "stderr",
     "output_type": "stream",
     "text": [
      " 78%|████████████████████████████████████████████████████████████████████████████████████████████████████████████████████████████████████▌                                     | 195/250 [05:54<01:14,  1.35s/it]"
     ]
    },
    {
     "name": "stdout",
     "output_type": "stream",
     "text": [
      "('fly_out', 'L', TransitionState(outs=1, on_1b=True, on_2b=False, on_3b=False))\n"
     ]
    },
    {
     "name": "stderr",
     "output_type": "stream",
     "text": [
      " 86%|██████████████████████████████████████████████████████████████████████████████████████████████████████████████████████████████████████████████████▏                       | 215/250 [06:31<00:58,  1.68s/it]"
     ]
    },
    {
     "name": "stdout",
     "output_type": "stream",
     "text": [
      "('fly_out', 'L', TransitionState(outs=2, on_1b=True, on_2b=True, on_3b=False))\n"
     ]
    },
    {
     "name": "stderr",
     "output_type": "stream",
     "text": [
      " 93%|█████████████████████████████████████████████████████████████████████████████████████████████████████████████████████████████████████████████████████████████▊            | 232/250 [07:02<00:29,  1.63s/it]"
     ]
    },
    {
     "name": "stdout",
     "output_type": "stream",
     "text": [
      "('fly_out', 'L', TransitionState(outs=2, on_1b=True, on_2b=True, on_3b=False))\n"
     ]
    },
    {
     "name": "stderr",
     "output_type": "stream",
     "text": [
      " 95%|█████████████████████████████████████████████████████████████████████████████████████████████████████████████████████████████████████████████████████████████████▏        | 237/250 [07:10<00:17,  1.35s/it]"
     ]
    },
    {
     "name": "stdout",
     "output_type": "stream",
     "text": [
      "('double_play', 'L', TransitionState(outs=1, on_1b=False, on_2b=False, on_3b=False))\n"
     ]
    },
    {
     "name": "stderr",
     "output_type": "stream",
     "text": [
      " 97%|████████████████████████████████████████████████████████████████████████████████████████████████████████████████████████████████████████████████████████████████████▌     | 242/250 [07:18<00:11,  1.50s/it]"
     ]
    },
    {
     "name": "stdout",
     "output_type": "stream",
     "text": [
      "('double_play', 'R', TransitionState(outs=2, on_1b=True, on_2b=False, on_3b=False))\n"
     ]
    },
    {
     "name": "stderr",
     "output_type": "stream",
     "text": [
      "100%|██████████████████████████████████████████████████████████████████████████████████████████████████████████████████████████████████████████████████████████████████████████| 250/250 [07:32<00:00,  1.81s/it]\n",
      "  6%|██████████▎                                                                                                                                                                | 15/250 [00:27<06:47,  1.73s/it]"
     ]
    },
    {
     "name": "stdout",
     "output_type": "stream",
     "text": [
      "('double_play', 'R', TransitionState(outs=2, on_1b=False, on_2b=True, on_3b=False))\n"
     ]
    },
    {
     "name": "stderr",
     "output_type": "stream",
     "text": [
      "  8%|██████████████▎                                                                                                                                                            | 21/250 [00:36<04:59,  1.31s/it]"
     ]
    },
    {
     "name": "stdout",
     "output_type": "stream",
     "text": [
      "('fielders_choice', 'L', TransitionState(outs=0, on_1b=False, on_2b=False, on_3b=False))\n"
     ]
    },
    {
     "name": "stderr",
     "output_type": "stream",
     "text": [
      " 10%|█████████████████▊                                                                                                                                                         | 26/250 [00:44<05:18,  1.42s/it]"
     ]
    },
    {
     "name": "stdout",
     "output_type": "stream",
     "text": [
      "('fly_out', 'L', TransitionState(outs=2, on_1b=False, on_2b=True, on_3b=True))\n"
     ]
    },
    {
     "name": "stderr",
     "output_type": "stream",
     "text": [
      " 11%|███████████████████▏                                                                                                                                                       | 28/250 [00:48<06:49,  1.84s/it]"
     ]
    },
    {
     "name": "stdout",
     "output_type": "stream",
     "text": [
      "('double_play', 'L', TransitionState(outs=0, on_1b=False, on_2b=False, on_3b=False))\n"
     ]
    },
    {
     "name": "stderr",
     "output_type": "stream",
     "text": [
      " 28%|███████████████████████████████████████████████▉                                                                                                                           | 70/250 [02:05<05:09,  1.72s/it]"
     ]
    },
    {
     "name": "stdout",
     "output_type": "stream",
     "text": [
      "('double_play', 'R', TransitionState(outs=0, on_1b=False, on_2b=False, on_3b=False))\n"
     ]
    },
    {
     "name": "stderr",
     "output_type": "stream",
     "text": [
      " 34%|█████████████████████████████████████████████████████████▍                                                                                                                 | 84/250 [02:29<03:38,  1.31s/it]"
     ]
    },
    {
     "name": "stdout",
     "output_type": "stream",
     "text": [
      "('fielders_choice', 'L', TransitionState(outs=0, on_1b=False, on_2b=False, on_3b=False))\n"
     ]
    },
    {
     "name": "stderr",
     "output_type": "stream",
     "text": [
      " 40%|████████████████████████████████████████████████████████████████████                                                                                                      | 100/250 [02:57<03:17,  1.32s/it]"
     ]
    },
    {
     "name": "stdout",
     "output_type": "stream",
     "text": [
      "('double_play', 'R', TransitionState(outs=2, on_1b=True, on_2b=True, on_3b=False))\n"
     ]
    },
    {
     "name": "stderr",
     "output_type": "stream",
     "text": [
      " 40%|████████████████████████████████████████████████████████████████████▋                                                                                                     | 101/250 [02:57<02:43,  1.10s/it]"
     ]
    },
    {
     "name": "stdout",
     "output_type": "stream",
     "text": [
      "('fielders_choice', 'L', TransitionState(outs=2, on_1b=False, on_2b=True, on_3b=False))\n"
     ]
    },
    {
     "name": "stderr",
     "output_type": "stream",
     "text": [
      " 42%|███████████████████████████████████████████████████████████████████████▍                                                                                                  | 105/250 [03:03<03:16,  1.35s/it]"
     ]
    },
    {
     "name": "stdout",
     "output_type": "stream",
     "text": [
      "('ground_out', 'R', TransitionState(outs=0, on_1b=False, on_2b=False, on_3b=False))\n"
     ]
    },
    {
     "name": "stderr",
     "output_type": "stream",
     "text": [
      " 72%|█████████████████████████████████████████████████████████████████████████████████████████████████████████████████████████▋                                                | 179/250 [05:18<01:56,  1.64s/it]"
     ]
    },
    {
     "name": "stdout",
     "output_type": "stream",
     "text": [
      "('double_play', 'R', TransitionState(outs=0, on_1b=False, on_2b=False, on_3b=False))\n"
     ]
    },
    {
     "name": "stderr",
     "output_type": "stream",
     "text": [
      "100%|██████████████████████████████████████████████████████████████████████████████████████████████████████████████████████████████████████████████████████████████████████████| 250/250 [07:28<00:00,  1.79s/it]\n",
      "  6%|██████████▉                                                                                                                                                                | 16/250 [00:28<06:45,  1.73s/it]"
     ]
    },
    {
     "name": "stdout",
     "output_type": "stream",
     "text": [
      "('fielders_choice', 'R', TransitionState(outs=0, on_1b=False, on_2b=False, on_3b=False))\n"
     ]
    },
    {
     "name": "stderr",
     "output_type": "stream",
     "text": [
      " 13%|█████████████████████▉                                                                                                                                                     | 32/250 [00:52<04:51,  1.34s/it]"
     ]
    },
    {
     "name": "stdout",
     "output_type": "stream",
     "text": [
      "('double_play', 'R', TransitionState(outs=0, on_1b=False, on_2b=False, on_3b=False))\n"
     ]
    },
    {
     "name": "stderr",
     "output_type": "stream",
     "text": [
      " 19%|████████████████████████████████▊                                                                                                                                          | 48/250 [01:21<06:09,  1.83s/it]"
     ]
    },
    {
     "name": "stdout",
     "output_type": "stream",
     "text": [
      "('fielders_choice', 'R', TransitionState(outs=0, on_1b=False, on_2b=False, on_3b=False))\n"
     ]
    },
    {
     "name": "stderr",
     "output_type": "stream",
     "text": [
      " 31%|█████████████████████████████████████████████████████▎                                                                                                                     | 78/250 [02:09<04:12,  1.47s/it]"
     ]
    },
    {
     "name": "stdout",
     "output_type": "stream",
     "text": [
      "('double_play', 'R', TransitionState(outs=2, on_1b=True, on_2b=False, on_3b=False))\n"
     ]
    },
    {
     "name": "stderr",
     "output_type": "stream",
     "text": [
      " 48%|█████████████████████████████████████████████████████████████████████████████████▌                                                                                        | 120/250 [03:22<03:10,  1.46s/it]"
     ]
    },
    {
     "name": "stdout",
     "output_type": "stream",
     "text": [
      "('fielders_choice', 'R', TransitionState(outs=2, on_1b=False, on_2b=False, on_3b=True))\n"
     ]
    },
    {
     "name": "stderr",
     "output_type": "stream",
     "text": [
      " 48%|██████████████████████████████████████████████████████████████████████████████████▎                                                                                       | 121/250 [03:23<03:18,  1.54s/it]"
     ]
    },
    {
     "name": "stdout",
     "output_type": "stream",
     "text": [
      "('fielders_choice', 'R', TransitionState(outs=2, on_1b=False, on_2b=True, on_3b=True))\n"
     ]
    },
    {
     "name": "stderr",
     "output_type": "stream",
     "text": [
      " 70%|██████████████████████████████████████████████████████████████████████████████████████████████████████████████████████▉                                                   | 175/250 [04:56<02:19,  1.86s/it]"
     ]
    },
    {
     "name": "stdout",
     "output_type": "stream",
     "text": [
      "('ground_out', 'L', TransitionState(outs=1, on_1b=False, on_2b=False, on_3b=False))\n"
     ]
    },
    {
     "name": "stderr",
     "output_type": "stream",
     "text": [
      " 87%|███████████████████████████████████████████████████████████████████████████████████████████████████████████████████████████████████████████████████▌                      | 217/250 [06:06<00:47,  1.43s/it]"
     ]
    },
    {
     "name": "stdout",
     "output_type": "stream",
     "text": [
      "('double_play', 'R', TransitionState(outs=1, on_1b=False, on_2b=False, on_3b=False))\n"
     ]
    },
    {
     "name": "stderr",
     "output_type": "stream",
     "text": [
      " 89%|███████████████████████████████████████████████████████████████████████████████████████████████████████████████████████████████████████████████████████▋                  | 223/250 [06:15<00:34,  1.27s/it]"
     ]
    },
    {
     "name": "stdout",
     "output_type": "stream",
     "text": [
      "('fly_out', 'R', TransitionState(outs=2, on_1b=False, on_2b=True, on_3b=True))\n"
     ]
    },
    {
     "name": "stderr",
     "output_type": "stream",
     "text": [
      " 92%|█████████████████████████████████████████████████████████████████████████████████████████████████████████████████████████████████████████████████████████████             | 231/250 [06:29<00:29,  1.56s/it]"
     ]
    },
    {
     "name": "stdout",
     "output_type": "stream",
     "text": [
      "('double_play', 'R', TransitionState(outs=2, on_1b=True, on_2b=False, on_3b=False))\n"
     ]
    },
    {
     "name": "stderr",
     "output_type": "stream",
     "text": [
      " 94%|███████████████████████████████████████████████████████████████████████████████████████████████████████████████████████████████████████████████████████████████▊          | 235/250 [06:36<00:24,  1.66s/it]"
     ]
    },
    {
     "name": "stdout",
     "output_type": "stream",
     "text": [
      "('fielders_choice', 'R', TransitionState(outs=1, on_1b=False, on_2b=False, on_3b=False))\n"
     ]
    },
    {
     "name": "stderr",
     "output_type": "stream",
     "text": [
      " 99%|███████████████████████████████████████████████████████████████████████████████████████████████████████████████████████████████████████████████████████████████████████▉  | 247/250 [06:56<00:04,  1.61s/it]"
     ]
    },
    {
     "name": "stdout",
     "output_type": "stream",
     "text": [
      "('double_play', 'L', TransitionState(outs=2, on_1b=False, on_2b=False, on_3b=False))\n"
     ]
    },
    {
     "name": "stderr",
     "output_type": "stream",
     "text": [
      "100%|██████████████████████████████████████████████████████████████████████████████████████████████████████████████████████████████████████████████████████████████████████████| 250/250 [07:01<00:00,  1.69s/it]\n",
      " 20%|█████████████████████████████████▌                                                                                                                                         | 49/250 [01:25<05:34,  1.67s/it]"
     ]
    },
    {
     "name": "stdout",
     "output_type": "stream",
     "text": [
      "('triple_play', 'R', TransitionState(outs=1, on_1b=True, on_2b=True, on_3b=False))\n"
     ]
    },
    {
     "name": "stderr",
     "output_type": "stream",
     "text": [
      " 48%|█████████████████████████████████████████████████████████████████████████████████▌                                                                                        | 120/250 [03:31<02:51,  1.32s/it]"
     ]
    },
    {
     "name": "stdout",
     "output_type": "stream",
     "text": [
      "('double_play', 'L', TransitionState(outs=2, on_1b=False, on_2b=True, on_3b=True))\n"
     ]
    },
    {
     "name": "stderr",
     "output_type": "stream",
     "text": [
      " 57%|████████████████████████████████████████████████████████████████████████████████████████████████▌                                                                         | 142/250 [04:11<02:34,  1.43s/it]"
     ]
    },
    {
     "name": "stdout",
     "output_type": "stream",
     "text": [
      "('fly_out', 'R', TransitionState(outs=2, on_1b=True, on_2b=True, on_3b=True))\n"
     ]
    },
    {
     "name": "stderr",
     "output_type": "stream",
     "text": [
      " 57%|█████████████████████████████████████████████████████████████████████████████████████████████████▏                                                                        | 143/250 [04:13<02:33,  1.44s/it]"
     ]
    },
    {
     "name": "stdout",
     "output_type": "stream",
     "text": [
      "('double_play', 'L', TransitionState(outs=1, on_1b=False, on_2b=False, on_3b=False))\n"
     ]
    },
    {
     "name": "stderr",
     "output_type": "stream",
     "text": [
      " 74%|█████████████████████████████████████████████████████████████████████████████████████████████████████████████████████████████                                             | 184/250 [05:27<01:46,  1.61s/it]"
     ]
    },
    {
     "name": "stdout",
     "output_type": "stream",
     "text": [
      "('fly_out', 'R', TransitionState(outs=0, on_1b=False, on_2b=False, on_3b=False))\n"
     ]
    },
    {
     "name": "stderr",
     "output_type": "stream",
     "text": [
      " 77%|███████████████████████████████████████████████████████████████████████████████████████████████████████████████████████████████████▏                                      | 193/250 [05:43<01:28,  1.54s/it]"
     ]
    },
    {
     "name": "stdout",
     "output_type": "stream",
     "text": [
      "('ground_out', 'L', TransitionState(outs=2, on_1b=False, on_2b=True, on_3b=False))\n"
     ]
    },
    {
     "name": "stderr",
     "output_type": "stream",
     "text": [
      " 88%|████████████████████████████████████████████████████████████████████████████████████████████████████████████████████████████████████████████████████▉                     | 219/250 [06:28<00:48,  1.57s/it]"
     ]
    },
    {
     "name": "stdout",
     "output_type": "stream",
     "text": [
      "('fly_out', 'R', TransitionState(outs=0, on_1b=False, on_2b=False, on_3b=False))\n"
     ]
    },
    {
     "name": "stderr",
     "output_type": "stream",
     "text": [
      " 94%|███████████████████████████████████████████████████████████████████████████████████████████████████████████████████████████████████████████████████████████████▊          | 235/250 [06:54<00:19,  1.32s/it]"
     ]
    },
    {
     "name": "stdout",
     "output_type": "stream",
     "text": [
      "('fly_out', 'L', TransitionState(outs=2, on_1b=False, on_2b=False, on_3b=True))\n"
     ]
    },
    {
     "name": "stderr",
     "output_type": "stream",
     "text": [
      " 94%|████████████████████████████████████████████████████████████████████████████████████████████████████████████████████████████████████████████████████████████████▍         | 236/250 [06:54<00:13,  1.01it/s]"
     ]
    },
    {
     "name": "stdout",
     "output_type": "stream",
     "text": [
      "('fielders_choice', 'R', TransitionState(outs=0, on_1b=False, on_2b=False, on_3b=False))\n"
     ]
    },
    {
     "name": "stderr",
     "output_type": "stream",
     "text": [
      "100%|██████████████████████████████████████████████████████████████████████████████████████████████████████████████████████████████████████████████████████████████████████████| 250/250 [07:19<00:00,  1.76s/it]\n",
      "  7%|███████████▋                                                                                                                                                               | 17/250 [00:29<05:39,  1.46s/it]"
     ]
    },
    {
     "name": "stdout",
     "output_type": "stream",
     "text": [
      "('double_play', 'R', TransitionState(outs=2, on_1b=True, on_2b=True, on_3b=False))\n"
     ]
    },
    {
     "name": "stderr",
     "output_type": "stream",
     "text": [
      " 12%|███████████████████▊                                                                                                                                                       | 29/250 [00:50<06:08,  1.67s/it]"
     ]
    },
    {
     "name": "stdout",
     "output_type": "stream",
     "text": [
      "('triple_play', 'R', TransitionState(outs=2, on_1b=True, on_2b=False, on_3b=False))\n"
     ]
    },
    {
     "name": "stderr",
     "output_type": "stream",
     "text": [
      " 13%|█████████████████████▉                                                                                                                                                     | 32/250 [00:56<06:16,  1.73s/it]"
     ]
    },
    {
     "name": "stdout",
     "output_type": "stream",
     "text": [
      "('fly_out', 'L', TransitionState(outs=2, on_1b=True, on_2b=True, on_3b=True))\n"
     ]
    },
    {
     "name": "stderr",
     "output_type": "stream",
     "text": [
      " 18%|██████████████████████████████                                                                                                                                             | 44/250 [01:17<05:18,  1.55s/it]"
     ]
    },
    {
     "name": "stdout",
     "output_type": "stream",
     "text": [
      "('ground_out', 'R', TransitionState(outs=1, on_1b=False, on_2b=False, on_3b=False))\n"
     ]
    },
    {
     "name": "stderr",
     "output_type": "stream",
     "text": [
      " 26%|█████████████████████████████████████████████▏                                                                                                                             | 66/250 [01:56<03:49,  1.25s/it]"
     ]
    },
    {
     "name": "stdout",
     "output_type": "stream",
     "text": [
      "('double_play', 'R', TransitionState(outs=2, on_1b=True, on_2b=True, on_3b=False))\n"
     ]
    },
    {
     "name": "stderr",
     "output_type": "stream",
     "text": [
      " 31%|████████████████████████████████████████████████████▋                                                                                                                      | 77/250 [02:14<04:14,  1.47s/it]"
     ]
    },
    {
     "name": "stdout",
     "output_type": "stream",
     "text": [
      "('triple_play', 'R', TransitionState(outs=2, on_1b=True, on_2b=False, on_3b=True))\n"
     ]
    },
    {
     "name": "stderr",
     "output_type": "stream",
     "text": [
      " 59%|███████████████████████████████████████████████████████████████████████████████████████████████████▉                                                                      | 147/250 [04:21<02:09,  1.26s/it]"
     ]
    },
    {
     "name": "stdout",
     "output_type": "stream",
     "text": [
      "('fly_out', 'R', TransitionState(outs=2, on_1b=True, on_2b=True, on_3b=False))\n"
     ]
    },
    {
     "name": "stderr",
     "output_type": "stream",
     "text": [
      " 61%|███████████████████████████████████████████████████████████████████████████████████████████████████████▎                                                                  | 152/250 [04:29<02:42,  1.66s/it]"
     ]
    },
    {
     "name": "stdout",
     "output_type": "stream",
     "text": [
      "('fly_out', 'L', TransitionState(outs=1, on_1b=False, on_2b=False, on_3b=False))\n"
     ]
    },
    {
     "name": "stderr",
     "output_type": "stream",
     "text": [
      "100%|██████████████████████████████████████████████████████████████████████████████████████████████████████████████████████████████████████████████████████████████████████████| 250/250 [07:27<00:00,  1.79s/it]\n",
      "  3%|█████▌                                                                                                                                                                      | 8/250 [00:12<05:11,  1.29s/it]"
     ]
    },
    {
     "name": "stdout",
     "output_type": "stream",
     "text": [
      "('fielders_choice', 'R', TransitionState(outs=0, on_1b=False, on_2b=False, on_3b=False))\n"
     ]
    },
    {
     "name": "stderr",
     "output_type": "stream",
     "text": [
      " 20%|██████████████████████████████████▉                                                                                                                                        | 51/250 [01:31<05:21,  1.61s/it]"
     ]
    },
    {
     "name": "stdout",
     "output_type": "stream",
     "text": [
      "('double_play', 'L', TransitionState(outs=2, on_1b=True, on_2b=True, on_3b=False))\n"
     ]
    },
    {
     "name": "stderr",
     "output_type": "stream",
     "text": [
      " 24%|████████████████████████████████████████▎                                                                                                                                  | 59/250 [01:43<04:21,  1.37s/it]"
     ]
    },
    {
     "name": "stdout",
     "output_type": "stream",
     "text": [
      "('double_play', 'L', TransitionState(outs=2, on_1b=True, on_2b=True, on_3b=False))\n"
     ]
    },
    {
     "name": "stderr",
     "output_type": "stream",
     "text": [
      " 24%|█████████████████████████████████████████                                                                                                                                  | 60/250 [01:45<04:12,  1.33s/it]"
     ]
    },
    {
     "name": "stdout",
     "output_type": "stream",
     "text": [
      "('double_play', 'L', TransitionState(outs=0, on_1b=False, on_2b=False, on_3b=False))\n"
     ]
    },
    {
     "name": "stderr",
     "output_type": "stream",
     "text": [
      " 32%|██████████████████████████████████████████████████████                                                                                                                     | 79/250 [02:15<04:16,  1.50s/it]"
     ]
    },
    {
     "name": "stdout",
     "output_type": "stream",
     "text": [
      "('ground_out', 'R', TransitionState(outs=1, on_1b=False, on_2b=False, on_3b=False))\n"
     ]
    },
    {
     "name": "stderr",
     "output_type": "stream",
     "text": [
      " 39%|███████████████████████████████████████████████████████████████████                                                                                                        | 98/250 [02:49<04:16,  1.69s/it]"
     ]
    },
    {
     "name": "stdout",
     "output_type": "stream",
     "text": [
      "('fly_out', 'L', TransitionState(outs=2, on_1b=True, on_2b=True, on_3b=True))\n"
     ]
    },
    {
     "name": "stderr",
     "output_type": "stream",
     "text": [
      " 55%|█████████████████████████████████████████████████████████████████████████████████████████████▏                                                                            | 137/250 [03:57<02:27,  1.31s/it]"
     ]
    },
    {
     "name": "stdout",
     "output_type": "stream",
     "text": [
      "('fly_out', 'L', TransitionState(outs=2, on_1b=False, on_2b=False, on_3b=False))\n"
     ]
    },
    {
     "name": "stderr",
     "output_type": "stream",
     "text": [
      " 69%|█████████████████████████████████████████████████████████████████████████████████████████████████████████████████████▋                                                    | 173/250 [05:00<02:17,  1.79s/it]"
     ]
    },
    {
     "name": "stdout",
     "output_type": "stream",
     "text": [
      "('fly_out', 'L', TransitionState(outs=1, on_1b=True, on_2b=False, on_3b=False))\n"
     ]
    },
    {
     "name": "stderr",
     "output_type": "stream",
     "text": [
      " 79%|██████████████████████████████████████████████████████████████████████████████████████████████████████████████████████████████████████▋                                   | 198/250 [05:45<01:20,  1.55s/it]"
     ]
    },
    {
     "name": "stdout",
     "output_type": "stream",
     "text": [
      "('double_play', 'L', TransitionState(outs=2, on_1b=True, on_2b=False, on_3b=False))\n"
     ]
    },
    {
     "name": "stderr",
     "output_type": "stream",
     "text": [
      " 84%|██████████████████████████████████████████████████████████████████████████████████████████████████████████████████████████████████████████████▊                           | 210/250 [06:05<01:00,  1.51s/it]"
     ]
    },
    {
     "name": "stdout",
     "output_type": "stream",
     "text": [
      "('fielders_choice', 'L', TransitionState(outs=2, on_1b=False, on_2b=False, on_3b=False))\n"
     ]
    },
    {
     "name": "stderr",
     "output_type": "stream",
     "text": [
      " 85%|████████████████████████████████████████████████████████████████████████████████████████████████████████████████████████████████████████████████▏                         | 212/250 [06:08<01:00,  1.59s/it]"
     ]
    },
    {
     "name": "stdout",
     "output_type": "stream",
     "text": [
      "('fielders_choice', 'R', TransitionState(outs=0, on_1b=False, on_2b=False, on_3b=False))\n"
     ]
    },
    {
     "name": "stderr",
     "output_type": "stream",
     "text": [
      " 95%|█████████████████████████████████████████████████████████████████████████████████████████████████████████████████████████████████████████████████████████████████▊        | 238/250 [06:55<00:20,  1.73s/it]"
     ]
    },
    {
     "name": "stdout",
     "output_type": "stream",
     "text": [
      "('fielders_choice', 'L', TransitionState(outs=1, on_1b=False, on_2b=False, on_3b=False))\n"
     ]
    },
    {
     "name": "stderr",
     "output_type": "stream",
     "text": [
      "100%|██████████████████████████████████████████████████████████████████████████████████████████████████████████████████████████████████████████████████████████████████████████| 250/250 [07:13<00:00,  1.73s/it]\n",
      "  4%|██████▏                                                                                                                                                                     | 9/250 [00:15<05:45,  1.43s/it]"
     ]
    },
    {
     "name": "stdout",
     "output_type": "stream",
     "text": [
      "('triple_play', 'R', TransitionState(outs=2, on_1b=False, on_2b=False, on_3b=False))\n"
     ]
    },
    {
     "name": "stderr",
     "output_type": "stream",
     "text": [
      " 15%|█████████████████████████▉                                                                                                                                                 | 38/250 [01:08<05:11,  1.47s/it]"
     ]
    },
    {
     "name": "stdout",
     "output_type": "stream",
     "text": [
      "('ground_out', 'R', TransitionState(outs=0, on_1b=False, on_2b=False, on_3b=False))\n"
     ]
    },
    {
     "name": "stderr",
     "output_type": "stream",
     "text": [
      " 17%|████████████████████████████▋                                                                                                                                              | 42/250 [01:14<05:11,  1.50s/it]"
     ]
    },
    {
     "name": "stdout",
     "output_type": "stream",
     "text": [
      "('double_play', 'R', TransitionState(outs=0, on_1b=False, on_2b=False, on_3b=False))\n"
     ]
    },
    {
     "name": "stderr",
     "output_type": "stream",
     "text": [
      " 22%|█████████████████████████████████████▌                                                                                                                                     | 55/250 [01:38<05:16,  1.62s/it]"
     ]
    },
    {
     "name": "stdout",
     "output_type": "stream",
     "text": [
      "('fly_out', 'R', TransitionState(outs=2, on_1b=True, on_2b=True, on_3b=True))\n"
     ]
    },
    {
     "name": "stderr",
     "output_type": "stream",
     "text": [
      " 40%|███████████████████████████████████████████████████████████████████▋                                                                                                       | 99/250 [02:57<03:45,  1.49s/it]"
     ]
    },
    {
     "name": "stdout",
     "output_type": "stream",
     "text": [
      "('ground_out', 'L', TransitionState(outs=0, on_1b=False, on_2b=False, on_3b=False))\n"
     ]
    },
    {
     "name": "stderr",
     "output_type": "stream",
     "text": [
      " 54%|████████████████████████████████████████████████████████████████████████████████████████████▍                                                                             | 136/250 [04:09<03:26,  1.82s/it]"
     ]
    },
    {
     "name": "stdout",
     "output_type": "stream",
     "text": [
      "('fly_out', 'R', TransitionState(outs=2, on_1b=True, on_2b=False, on_3b=True))\n"
     ]
    },
    {
     "name": "stderr",
     "output_type": "stream",
     "text": [
      " 60%|██████████████████████████████████████████████████████████████████████████████████████████████████████▋                                                                   | 151/250 [04:36<02:27,  1.49s/it]"
     ]
    },
    {
     "name": "stdout",
     "output_type": "stream",
     "text": [
      "('double_play', 'R', TransitionState(outs=1, on_1b=False, on_2b=False, on_3b=False))\n"
     ]
    },
    {
     "name": "stderr",
     "output_type": "stream",
     "text": [
      " 62%|████████████████████████████████████████████████████████████████████████████████████████████████████████▋                                                                 | 154/250 [04:40<02:09,  1.34s/it]"
     ]
    },
    {
     "name": "stdout",
     "output_type": "stream",
     "text": [
      "('fielders_choice', 'R', TransitionState(outs=0, on_1b=False, on_2b=False, on_3b=False))\n"
     ]
    },
    {
     "name": "stderr",
     "output_type": "stream",
     "text": [
      " 72%|██████████████████████████████████████████████████████████████████████████████████████████████████████████████████████████▍                                               | 180/250 [05:26<01:46,  1.52s/it]"
     ]
    },
    {
     "name": "stdout",
     "output_type": "stream",
     "text": [
      "('triple_play', 'R', TransitionState(outs=2, on_1b=False, on_2b=False, on_3b=False))\n"
     ]
    },
    {
     "name": "stderr",
     "output_type": "stream",
     "text": [
      " 76%|█████████████████████████████████████████████████████████████████████████████████████████████████████████████████████████████████▉                                        | 191/250 [05:44<01:33,  1.59s/it]"
     ]
    },
    {
     "name": "stdout",
     "output_type": "stream",
     "text": [
      "('ground_out', 'R', TransitionState(outs=1, on_1b=False, on_2b=False, on_3b=False))\n"
     ]
    },
    {
     "name": "stderr",
     "output_type": "stream",
     "text": [
      " 81%|██████████████████████████████████████████████████████████████████████████████████████████████████████████████████████████████████████████                                | 203/250 [06:06<01:26,  1.85s/it]"
     ]
    },
    {
     "name": "stdout",
     "output_type": "stream",
     "text": [
      "('double_play', 'R', TransitionState(outs=1, on_1b=False, on_2b=False, on_3b=False))\n"
     ]
    },
    {
     "name": "stderr",
     "output_type": "stream",
     "text": [
      " 82%|████████████████████████████████████████████████████████████████████████████████████████████████████████████████████████████████████████████                              | 206/250 [06:10<01:02,  1.43s/it]"
     ]
    },
    {
     "name": "stdout",
     "output_type": "stream",
     "text": [
      "('fly_out', 'R', TransitionState(outs=2, on_1b=False, on_2b=False, on_3b=True))\n"
     ]
    },
    {
     "name": "stderr",
     "output_type": "stream",
     "text": [
      " 84%|██████████████████████████████████████████████████████████████████████████████████████████████████████████████████████████████████████████████▊                           | 210/250 [06:18<01:18,  1.96s/it]"
     ]
    },
    {
     "name": "stdout",
     "output_type": "stream",
     "text": [
      "('fly_out', 'R', TransitionState(outs=2, on_1b=False, on_2b=False, on_3b=True))\n"
     ]
    },
    {
     "name": "stderr",
     "output_type": "stream",
     "text": [
      " 88%|████████████████████████████████████████████████████████████████████████████████████████████████████████████████████████████████████████████████████▉                     | 219/250 [06:32<00:42,  1.36s/it]"
     ]
    },
    {
     "name": "stdout",
     "output_type": "stream",
     "text": [
      "('fly_out', 'L', TransitionState(outs=1, on_1b=True, on_2b=False, on_3b=False))\n"
     ]
    },
    {
     "name": "stderr",
     "output_type": "stream",
     "text": [
      " 89%|██████████████████████████████████████████████████████████████████████████████████████████████████████████████████████████████████████████████████████▉                   | 222/250 [06:36<00:31,  1.12s/it]"
     ]
    },
    {
     "name": "stdout",
     "output_type": "stream",
     "text": [
      "('triple_play', 'R', TransitionState(outs=2, on_1b=True, on_2b=False, on_3b=False))\n"
     ]
    },
    {
     "name": "stderr",
     "output_type": "stream",
     "text": [
      " 93%|█████████████████████████████████████████████████████████████████████████████████████████████████████████████████████████████████████████████████████████████▊            | 232/250 [06:55<00:32,  1.81s/it]"
     ]
    },
    {
     "name": "stdout",
     "output_type": "stream",
     "text": [
      "('triple_play', 'L', TransitionState(outs=2, on_1b=False, on_2b=True, on_3b=False))\n"
     ]
    },
    {
     "name": "stderr",
     "output_type": "stream",
     "text": [
      "100%|██████████████████████████████████████████████████████████████████████████████████████████████████████████████████████████████████████████████████████████████████████████| 250/250 [07:27<00:00,  1.79s/it]\n"
     ]
    }
   ],
   "source": [
    "for sim in sims:\n",
    "    sim(num_simulations=250)"
   ]
  },
  {
   "cell_type": "code",
   "execution_count": 11,
   "id": "542ce856-896d-42b0-807b-d9322065a437",
   "metadata": {},
   "outputs": [],
   "source": [
    "markets = [OddsMaker(sim) for sim in sims]"
   ]
  },
  {
   "cell_type": "code",
   "execution_count": 14,
   "id": "43b89e0a-6a25-4248-9555-e4b4af3d7912",
   "metadata": {},
   "outputs": [
    {
     "name": "stdout",
     "output_type": "stream",
     "text": [
      "OddsMaker(TB (Confirmed Lineup: False) @ NYY (Confirmed Lineup: False), 2024-07-22 13:05:00 at Yankee Stadium)\n",
      "total             4.500000\n",
      "total_p_o         0.520661\n",
      "total_p_u         0.479339\n",
      "total_odds_o   -109.000000\n",
      "total_odds_u    109.000000\n",
      "Name: 4, dtype: float64\n",
      "  market     NYY_p      TB_p  NYY_odds  TB_odds\n",
      "0   -0.5  0.516529  0.355372      -107      181\n",
      "1   +0.5  0.644628  0.483471      -181      107\n",
      "market          -0.5\n",
      "NYY_p       0.516529\n",
      "TB_p        0.355372\n",
      "NYY_odds        -107\n",
      "TB_odds          181\n",
      "market          +0.5\n",
      "NYY_p       0.644628\n",
      "TB_p        0.483471\n",
      "NYY_odds        -181\n",
      "TB_odds          107\n",
      "dtype: object\n",
      "OddsMaker(DET (Confirmed Lineup: False) @ CLE (Confirmed Lineup: False), 2024-07-22 18:40:00 at Progressive Field)\n",
      "total             4.500000\n",
      "total_p_o         0.472574\n",
      "total_p_u         0.527426\n",
      "total_odds_o    112.000000\n",
      "total_odds_u   -112.000000\n",
      "Name: 4, dtype: float64\n",
      "  market     CLE_p     DET_p  CLE_odds  DET_odds\n",
      "0   -0.5  0.396624  0.451477       152       121\n",
      "1   +0.5  0.548523  0.603376      -121      -152\n",
      "market          +0.5\n",
      "CLE_p       0.548523\n",
      "DET_p       0.603376\n",
      "CLE_odds        -121\n",
      "DET_odds        -152\n",
      "market          -0.5\n",
      "CLE_p       0.396624\n",
      "DET_p       0.451477\n",
      "CLE_odds         152\n",
      "DET_odds         121\n",
      "dtype: object\n",
      "OddsMaker(STL (Confirmed Lineup: False) @ PIT (Confirmed Lineup: False), 2024-07-22 18:40:00 at PNC Park)\n",
      "total             4.500000\n",
      "total_p_o         0.541667\n",
      "total_p_u         0.458333\n",
      "total_odds_o   -118.000000\n",
      "total_odds_u    118.000000\n",
      "Name: 4, dtype: float64\n",
      "  market     PIT_p     STL_p  PIT_odds  STL_odds\n",
      "0   -0.5  0.487500  0.370833       105       170\n",
      "1   +0.5  0.629167  0.512500      -170      -105\n",
      "market          -0.5\n",
      "PIT_p         0.4875\n",
      "STL_p       0.370833\n",
      "PIT_odds         105\n",
      "STL_odds         170\n",
      "market          +0.5\n",
      "PIT_p       0.629167\n",
      "STL_p         0.5125\n",
      "PIT_odds        -170\n",
      "STL_odds        -105\n",
      "dtype: object\n",
      "OddsMaker(NYM (Confirmed Lineup: False) @ MIA (Confirmed Lineup: False), 2024-07-22 18:40:00 at loanDepot park)\n",
      "total             4.500000\n",
      "total_p_o         0.541667\n",
      "total_p_u         0.458333\n",
      "total_odds_o   -118.000000\n",
      "total_odds_u    118.000000\n",
      "Name: 4, dtype: float64\n",
      "  market     MIA_p     NYM_p  MIA_odds  NYM_odds\n",
      "0   -0.5  0.345833  0.545833       189      -120\n",
      "1   +0.5  0.454167  0.654167       120      -189\n",
      "market          +0.5\n",
      "MIA_p       0.454167\n",
      "NYM_p       0.654167\n",
      "MIA_odds         120\n",
      "NYM_odds        -189\n",
      "market          -0.5\n",
      "MIA_p       0.345833\n",
      "NYM_p       0.545833\n",
      "MIA_odds         189\n",
      "NYM_odds        -120\n",
      "dtype: object\n",
      "OddsMaker(CIN (Confirmed Lineup: False) @ ATL (Confirmed Lineup: False), 2024-07-22 19:20:00 at Truist Park)\n",
      "total             4.500000\n",
      "total_p_o         0.470588\n",
      "total_p_u         0.529412\n",
      "total_odds_o    112.000000\n",
      "total_odds_u   -112.000000\n",
      "Name: 4, dtype: float64\n",
      "  market     ATL_p     CIN_p  ATL_odds  CIN_odds\n",
      "0   -0.5  0.445378  0.373950       125       167\n",
      "1   +0.5  0.626050  0.554622      -167      -125\n",
      "market          -0.5\n",
      "ATL_p       0.445378\n",
      "CIN_p        0.37395\n",
      "ATL_odds         125\n",
      "CIN_odds         167\n",
      "market          +0.5\n",
      "ATL_p        0.62605\n",
      "CIN_p       0.554622\n",
      "ATL_odds        -167\n",
      "CIN_odds        -125\n",
      "dtype: object\n",
      "OddsMaker(PHI (Confirmed Lineup: False) @ MIN (Confirmed Lineup: False), 2024-07-22 19:40:00 at Target Field)\n",
      "total             5.500000\n",
      "total_p_o         0.481328\n",
      "total_p_u         0.518672\n",
      "total_odds_o    108.000000\n",
      "total_odds_u   -108.000000\n",
      "Name: 5, dtype: float64\n",
      "  market     MIN_p     PHI_p  MIN_odds  PHI_odds\n",
      "0   -0.5  0.394191  0.497925       154       101\n",
      "1   +0.5  0.502075  0.605809      -101      -154\n",
      "market          +0.5\n",
      "MIN_p       0.502075\n",
      "PHI_p       0.605809\n",
      "MIN_odds        -101\n",
      "PHI_odds        -154\n",
      "market          -0.5\n",
      "MIN_p       0.394191\n",
      "PHI_p       0.497925\n",
      "MIN_odds         154\n",
      "PHI_odds         101\n",
      "dtype: object\n",
      "OddsMaker(CWS (Confirmed Lineup: False) @ TEX (Confirmed Lineup: False), 2024-07-22 20:05:00 at Globe Life Field)\n",
      "total             4.500000\n",
      "total_p_o         0.528926\n",
      "total_p_u         0.471074\n",
      "total_odds_o   -112.000000\n",
      "total_odds_u    112.000000\n",
      "Name: 4, dtype: float64\n",
      "  market     TEX_p     CWS_p  TEX_odds  CWS_odds\n",
      "0   -0.5  0.528926  0.334711      -112       199\n",
      "1   +0.5  0.665289  0.471074      -199       112\n",
      "market          -0.5\n",
      "TEX_p       0.528926\n",
      "CWS_p       0.334711\n",
      "TEX_odds        -112\n",
      "CWS_odds         199\n",
      "market          +0.5\n",
      "TEX_p       0.665289\n",
      "CWS_p       0.471074\n",
      "TEX_odds        -199\n",
      "CWS_odds         112\n",
      "dtype: object\n",
      "OddsMaker(BOS (Confirmed Lineup: False) @ COL (Confirmed Lineup: False), 2024-07-22 20:40:00 at Coors Field)\n",
      "total             4.500000\n",
      "total_p_o         0.567227\n",
      "total_p_u         0.432773\n",
      "total_odds_o   -131.000000\n",
      "total_odds_u    131.000000\n",
      "Name: 4, dtype: float64\n",
      "  market     COL_p     BOS_p  COL_odds  BOS_odds\n",
      "0   -0.5  0.483193  0.357143       107       180\n",
      "1   +0.5  0.642857  0.516807      -180      -107\n",
      "market          -0.5\n",
      "COL_p       0.483193\n",
      "BOS_p       0.357143\n",
      "COL_odds         107\n",
      "BOS_odds         180\n",
      "market          +0.5\n",
      "COL_p       0.642857\n",
      "BOS_p       0.516807\n",
      "COL_odds        -180\n",
      "BOS_odds        -107\n",
      "dtype: object\n",
      "OddsMaker(LAA (Confirmed Lineup: False) @ SEA (Confirmed Lineup: False), 2024-07-22 21:40:00 at T-Mobile Park)\n",
      "total             4.500000\n",
      "total_p_o         0.474359\n",
      "total_p_u         0.525641\n",
      "total_odds_o    111.000000\n",
      "total_odds_u   -111.000000\n",
      "Name: 4, dtype: float64\n",
      "  market     SEA_p     LAA_p  SEA_odds  LAA_odds\n",
      "0   -0.5  0.380342  0.482906       163       107\n",
      "1   +0.5  0.517094  0.619658      -107      -163\n",
      "market          +0.5\n",
      "SEA_p       0.517094\n",
      "LAA_p       0.619658\n",
      "SEA_odds        -107\n",
      "LAA_odds        -163\n",
      "market          -0.5\n",
      "SEA_p       0.380342\n",
      "LAA_p       0.482906\n",
      "SEA_odds         163\n",
      "LAA_odds         107\n",
      "dtype: object\n"
     ]
    }
   ],
   "source": [
    "for market in markets:\n",
    "    print(market)\n",
    "    market.make_markets()"
   ]
  },
  {
   "cell_type": "code",
   "execution_count": 18,
   "id": "33cd232a-0829-4f76-8d71-2171150a34d9",
   "metadata": {},
   "outputs": [
    {
     "name": "stdout",
     "output_type": "stream",
     "text": [
      "   total  total_p_o  total_p_u  total_odds_o  total_odds_u\n",
      "0    0.5   0.962185   0.037815         -2544          2544\n",
      "1    1.5   0.899160   0.100840          -892           892\n",
      "2    2.5   0.806723   0.193277          -417           417\n",
      "3    3.5   0.714286   0.285714          -250           250\n",
      "4    4.5   0.567227   0.432773          -131           131\n",
      "5    5.5   0.411765   0.588235           143          -143\n",
      "6    6.5   0.319328   0.680672           213          -213\n",
      "7    7.5   0.260504   0.739496           284          -284\n",
      "8    8.5   0.193277   0.806723           417          -417\n",
      "9    9.5   0.134454   0.865546           644          -644\n"
     ]
    }
   ],
   "source": [
    "print(markets[7].all_totals)"
   ]
  },
  {
   "cell_type": "code",
   "execution_count": 3,
   "id": "66fe83d3-b637-4016-b39f-abbce2101023",
   "metadata": {},
   "outputs": [
    {
     "name": "stdout",
     "output_type": "stream",
     "text": [
      "TB (Confirmed Lineup: False) @ NYY (Confirmed Lineup: False), 2024-07-22 13:05:00 at Yankee Stadium\n"
     ]
    }
   ],
   "source": [
    "g = s[0]\n",
    "print(g)"
   ]
  },
  {
   "cell_type": "code",
   "execution_count": 4,
   "id": "523521ca-04a2-45cd-ba3f-3347cb05f5e8",
   "metadata": {},
   "outputs": [
    {
     "name": "stderr",
     "output_type": "stream",
     "text": [
      "2024-07-21 14:04:19,190 - mlb_simulator.simulation.Pitcher - INFO - Starting init for Carlos Rodon\n",
      "2024-07-21 14:04:24,456 - mlb_simulator.simulation.Batter - INFO - Fitting default models...\n"
     ]
    },
    {
     "name": "stdout",
     "output_type": "stream",
     "text": [
      "Error fitting 18769.0, fitting default model\n",
      "\"None of [Index([18769.0], dtype='object', name='ROTOWIREID')] are in the [index]\"\n"
     ]
    },
    {
     "name": "stderr",
     "output_type": "stream",
     "text": [
      "2024-07-21 14:08:09,160 - mlb_simulator.simulation.Batter - INFO - Starting init for Juan Soto\n",
      "2024-07-21 14:08:17,124 - mlb_simulator.simulation.Batter - INFO - Starting init for Aaron Judge\n",
      "2024-07-21 14:08:26,182 - mlb_simulator.simulation.Batter - INFO - Starting init for Austin Wells\n",
      "2024-07-21 14:08:28,534 - mlb_simulator.simulation.Batter - INFO - Starting init for Gleyber Torres\n",
      "2024-07-21 14:08:36,212 - mlb_simulator.simulation.Batter - INFO - Starting init for Alex Verdugo\n",
      "2024-07-21 14:08:43,303 - mlb_simulator.simulation.Batter - INFO - Starting init for Anthony Volpe\n",
      "2024-07-21 14:08:46,249 - mlb_simulator.simulation.Batter - INFO - Starting init for Trent Grisham\n",
      "2024-07-21 14:08:51,209 - mlb_simulator.simulation.Batter - INFO - Starting init for DJ LeMahieu\n",
      "2024-07-21 14:09:02,526 - mlb_simulator.simulation.Pitcher - INFO - Starting init for Zack Littell\n",
      "2024-07-21 14:09:03,151 - mlb_simulator.models.model_utils - INFO - No hyperparams found for 641793, pitch_sequencer: finding and saving optimal hyperparams...\n",
      "2024-07-21 14:09:11,413 - mlb_simulator.simulation.Batter - INFO - Starting init for Isaac Paredes\n",
      "2024-07-21 14:09:11,959 - mlb_simulator.models.model_utils - INFO - No hyperparams found for 670623, pitch_outcome: finding and saving optimal hyperparams...\n",
      "2024-07-21 14:09:21,210 - mlb_simulator.simulation.Batter - INFO - Starting init for Randy Arozarena\n",
      "2024-07-21 14:09:22,055 - mlb_simulator.models.model_utils - INFO - No hyperparams found for 668227, pitch_outcome: finding and saving optimal hyperparams...\n",
      "2024-07-21 14:09:34,801 - mlb_simulator.simulation.Batter - INFO - Starting init for Amed Rosario\n",
      "2024-07-21 14:09:36,008 - mlb_simulator.models.model_utils - INFO - No hyperparams found for 642708, pitch_outcome: finding and saving optimal hyperparams...\n",
      "2024-07-21 14:09:51,203 - mlb_simulator.simulation.Batter - INFO - Starting init for Jose Siri\n",
      "2024-07-21 14:09:51,656 - mlb_simulator.models.model_utils - INFO - No hyperparams found for 642350, pitch_outcome: finding and saving optimal hyperparams...\n",
      "2024-07-21 14:09:56,638 - mlb_simulator.simulation.Batter - INFO - Starting init for Jonny Deluca\n",
      "2024-07-21 14:09:56,827 - mlb_simulator.models.model_utils - INFO - No hyperparams found for 676356, pitch_outcome: finding and saving optimal hyperparams...\n",
      "2024-07-21 14:10:00,190 - mlb_simulator.simulation.Batter - INFO - Starting init for Jose Caballero\n",
      "2024-07-21 14:10:00,516 - mlb_simulator.models.model_utils - INFO - No hyperparams found for 676609, pitch_outcome: finding and saving optimal hyperparams...\n",
      "2024-07-21 14:10:06,180 - mlb_simulator.simulation.Batter - INFO - Starting init for Curtis Mead\n",
      "2024-07-21 14:10:06,343 - mlb_simulator.models.model_utils - INFO - No hyperparams found for 678554, pitch_outcome: finding and saving optimal hyperparams...\n",
      "2024-07-21 14:10:10,322 - mlb_simulator.simulation.Batter - INFO - Starting init for Taylor Walls\n",
      "2024-07-21 14:10:10,769 - mlb_simulator.models.model_utils - INFO - No hyperparams found for 670764, pitch_outcome: finding and saving optimal hyperparams...\n",
      "2024-07-21 14:10:18,655 - mlb_simulator.simulation.Batter - INFO - Starting init for Alex Jackson\n",
      "2024-07-21 14:10:18,846 - mlb_simulator.models.model_utils - INFO - No hyperparams found for 656577, pitch_outcome: finding and saving optimal hyperparams...\n",
      "2024-07-21 14:11:04,821 - mlb_simulator.models.model_utils - INFO - No hyperparams found for 3313, hit_classifier: finding and saving optimal hyperparams...\n"
     ]
    }
   ],
   "source": [
    "game_simulator = Simulator(g)"
   ]
  },
  {
   "cell_type": "code",
   "execution_count": 10,
   "id": "20850d32-dce2-46ab-bcc0-58eea292ceeb",
   "metadata": {},
   "outputs": [
    {
     "ename": "NameError",
     "evalue": "name 'game_simulator' is not defined",
     "output_type": "error",
     "traceback": [
      "\u001b[0;31m---------------------------------------------------------------------------\u001b[0m",
      "\u001b[0;31mNameError\u001b[0m                                 Traceback (most recent call last)",
      "Cell \u001b[0;32mIn[10], line 110\u001b[0m\n\u001b[1;32m    107\u001b[0m         \u001b[38;5;28;01melse\u001b[39;00m:\n\u001b[1;32m    108\u001b[0m             \u001b[38;5;28;01mreturn\u001b[39;00m pd\u001b[38;5;241m.\u001b[39mconcat([minus_05, plus_05])\n\u001b[0;32m--> 110\u001b[0m odds \u001b[38;5;241m=\u001b[39m OddsMaker(\u001b[43mgame_simulator\u001b[49m)\n\u001b[1;32m    111\u001b[0m odds\u001b[38;5;241m.\u001b[39mmake_markets()\n",
      "\u001b[0;31mNameError\u001b[0m: name 'game_simulator' is not defined"
     ]
    }
   ],
   "source": [
    "import pandas as pd\n",
    "\n",
    "class OddsMaker:\n",
    "    def __init__(self, sim):\n",
    "\n",
    "        self.sim = sim\n",
    "        self.scores = self.sim.scores\n",
    "        \n",
    "        self.home_team, self.away_team = self.sim.game.home_team.name, self.sim.game.away_team.name\n",
    "        \n",
    "        self.process_scores(self.scores)\n",
    "\n",
    "    def __repr__(self):\n",
    "        return f'OddsMaker({str(self.sim.game)})'\n",
    "\n",
    "    def make_totals_market(self):\n",
    "        totals_odds = []\n",
    "        for i in range(10):\n",
    "            total = i + 0.5\n",
    "            total_p_o = (self.game_scores['total'] > total).mean()\n",
    "            total_p_u = (self.game_scores['total'] < total).mean()\n",
    "            total_odds_o = self.p_to_odds(total_p_o)\n",
    "            total_odds_u = self.p_to_odds(total_p_u)\n",
    "            totals_odds.append({\n",
    "                'total': total,\n",
    "                'total_p_o': total_p_o,\n",
    "                'total_p_u': total_p_u,\n",
    "                'total_odds_o': total_odds_o,\n",
    "                'total_odds_u': total_odds_u,\n",
    "            })\n",
    "        self.all_totals = pd.DataFrame(totals_odds)\n",
    "        #print(self.all_totals)\n",
    "\n",
    "    def make_spread_market(self):\n",
    "        p_home_wins = (self.game_scores[f'{self.home_team}_wins']).mean()\n",
    "        p_away_wins = (self.game_scores[f'{self.away_team}_wins']).mean()\n",
    "        p_home_covers = (self.game_scores[f'{self.home_team}_covers']).mean()\n",
    "        p_away_covers = (self.game_scores[f'{self.away_team}_covers']).mean()\n",
    "        spread_markets = [\n",
    "            {\n",
    "            'market': '-0.5',\n",
    "            f'{self.home_team}_p': p_home_wins,\n",
    "            f'{self.away_team}_p': p_away_wins,\n",
    "            f'{self.home_team}_odds': self.p_to_odds(p_home_wins),\n",
    "            f'{self.away_team}_odds': self.p_to_odds(p_away_wins),\n",
    "            },\n",
    "            {\n",
    "            'market': '+0.5',\n",
    "            f'{self.home_team}_p': p_home_covers,\n",
    "            f'{self.away_team}_p': p_away_covers,\n",
    "            f'{self.home_team}_odds': self.p_to_odds(p_home_covers),\n",
    "            f'{self.away_team}_odds': self.p_to_odds(p_away_covers),\n",
    "            },\n",
    "        ]\n",
    "        \n",
    "        self.spread_market = pd.DataFrame(spread_markets)\n",
    "        #print(self.spread_market)\n",
    "        \n",
    "    def make_markets(self):\n",
    "        self.make_totals_market()\n",
    "        self.make_spread_market()\n",
    "        print(self.find_totals_market())\n",
    "        print(self.find_spreads_market())\n",
    "\n",
    "    def process_scores(self, scores):\n",
    "    \n",
    "        total_scores = []\n",
    "        for score in scores:\n",
    "            total_scores.append(score.sum(axis=1))\n",
    "\n",
    "        game_scores = pd.concat(total_scores, axis=1).T\n",
    "        game_scores['total'] = game_scores[self.home_team] + game_scores[self.away_team]\n",
    "        game_scores[f'{self.away_team}_wins'] = game_scores[self.away_team] > game_scores[self.home_team]\n",
    "        game_scores[f'{self.home_team}_wins'] = game_scores[self.away_team] < game_scores[self.home_team]\n",
    "        game_scores[f'{self.home_team}_covers'] = game_scores[self.away_team] <= game_scores[self.home_team]\n",
    "        game_scores[f'{self.away_team}_covers'] = game_scores[self.away_team] >= game_scores[self.home_team]\n",
    "\n",
    "        self.game_scores = game_scores\n",
    "        \n",
    "    def p_to_odds(self, probability):\n",
    "        if probability <= 0 or probability >= 1:\n",
    "            raise ValueError(\"Probability must be between 0 and 1 (exclusive).\")\n",
    "    \n",
    "        if probability > 0.5:\n",
    "            american_odds = -(probability / (1 - probability)) * 100\n",
    "        else:\n",
    "            american_odds = (100 / probability) - 100\n",
    "        \n",
    "        return round(american_odds)\n",
    "\n",
    "    def find_closest_to_50_percent(self, df, column):\n",
    "        return df.loc[(df[column] - 0.5).abs().idxmin()]\n",
    "    \n",
    "    def find_totals_market(self):\n",
    "        return self.find_closest_to_50_percent(self.all_totals, 'total_p_o')\n",
    "    \n",
    "    def find_spreads_market(self):\n",
    "        team1, team2 = self.spread_market.columns[1:3]\n",
    "        \n",
    "        minus_05 = self.find_closest_to_50_percent(self.spread_market, team1)\n",
    "        plus_05 = self.find_closest_to_50_percent(self.spread_market, team2)\n",
    "        \n",
    "        print(self.spread_market)\n",
    "        if minus_05.name == plus_05.name:\n",
    "            \n",
    "            return minus_05\n",
    "        else:\n",
    "            return pd.concat([minus_05, plus_05])\n",
    "\n",
    "odds = OddsMaker(game_simulator)\n",
    "odds.make_markets()"
   ]
  },
  {
   "cell_type": "code",
   "execution_count": 5,
   "id": "caeb6b2e-e0cd-4582-bceb-cf97a1376acf",
   "metadata": {},
   "outputs": [
    {
     "name": "stdout",
     "output_type": "stream",
     "text": [
      "TB (Confirmed Lineup: False) @ NYY (Confirmed Lineup: False), 2024-07-22 13:05:00 at Yankee Stadium\n"
     ]
    }
   ],
   "source": [
    "print(g)"
   ]
  },
  {
   "cell_type": "code",
   "execution_count": 6,
   "id": "5955c245-4c1a-4070-bcfb-f3e2a5c476f2",
   "metadata": {
    "scrolled": true
   },
   "outputs": [
    {
     "name": "stderr",
     "output_type": "stream",
     "text": [
      "  0%|                                                                                                                                                                                    | 0/250 [00:00<?, ?it/s]"
     ]
    },
    {
     "name": "stdout",
     "output_type": "stream",
     "text": [
      "swing.pitch_outcome is none: Hit(pitch_outcome=None, hit_outcome=None)\n",
      "unknown count event: None\n"
     ]
    },
    {
     "name": "stderr",
     "output_type": "stream",
     "text": [
      "  1%|██                                                                                                                                                                          | 3/250 [00:08<11:16,  2.74s/it]"
     ]
    },
    {
     "name": "stdout",
     "output_type": "stream",
     "text": [
      "swing.pitch_outcome is none: Hit(pitch_outcome=None, hit_outcome=None)\n",
      "unknown count event: None\n"
     ]
    },
    {
     "name": "stderr",
     "output_type": "stream",
     "text": [
      "  2%|██▊                                                                                                                                                                         | 4/250 [00:10<10:31,  2.57s/it]"
     ]
    },
    {
     "name": "stdout",
     "output_type": "stream",
     "text": [
      "swing.pitch_outcome is none: Hit(pitch_outcome=None, hit_outcome=None)\n",
      "unknown count event: None\n"
     ]
    },
    {
     "name": "stderr",
     "output_type": "stream",
     "text": [
      "  2%|███▍                                                                                                                                                                        | 5/250 [00:12<09:57,  2.44s/it]"
     ]
    },
    {
     "name": "stdout",
     "output_type": "stream",
     "text": [
      "swing.pitch_outcome is none: Hit(pitch_outcome=None, hit_outcome=None)\n",
      "unknown count event: None\n",
      "swing.pitch_outcome is none: Hit(pitch_outcome=None, hit_outcome=None)\n",
      "unknown count event: None\n"
     ]
    },
    {
     "name": "stderr",
     "output_type": "stream",
     "text": [
      "  3%|█████▌                                                                                                                                                                      | 8/250 [00:21<11:12,  2.78s/it]"
     ]
    },
    {
     "name": "stdout",
     "output_type": "stream",
     "text": [
      "swing.pitch_outcome is none: Hit(pitch_outcome=None, hit_outcome=None)\n",
      "unknown count event: None\n"
     ]
    },
    {
     "name": "stderr",
     "output_type": "stream",
     "text": [
      "  7%|███████████▋                                                                                                                                                               | 17/250 [00:44<10:08,  2.61s/it]"
     ]
    },
    {
     "name": "stdout",
     "output_type": "stream",
     "text": [
      "swing.pitch_outcome is none: Hit(pitch_outcome=None, hit_outcome=None)\n",
      "unknown count event: None\n"
     ]
    },
    {
     "name": "stderr",
     "output_type": "stream",
     "text": [
      "  7%|████████████▎                                                                                                                                                              | 18/250 [00:47<10:37,  2.75s/it]"
     ]
    },
    {
     "name": "stdout",
     "output_type": "stream",
     "text": [
      "swing.pitch_outcome is none: Hit(pitch_outcome=None, hit_outcome=None)\n",
      "unknown count event: None\n"
     ]
    },
    {
     "name": "stderr",
     "output_type": "stream",
     "text": [
      "  8%|█████████████▋                                                                                                                                                             | 20/250 [00:52<09:34,  2.50s/it]"
     ]
    },
    {
     "name": "stdout",
     "output_type": "stream",
     "text": [
      "swing.pitch_outcome is none: Hit(pitch_outcome=None, hit_outcome=None)\n",
      "unknown count event: None\n"
     ]
    },
    {
     "name": "stderr",
     "output_type": "stream",
     "text": [
      "  8%|██████████████▎                                                                                                                                                            | 21/250 [00:54<09:38,  2.53s/it]"
     ]
    },
    {
     "name": "stdout",
     "output_type": "stream",
     "text": [
      "swing.pitch_outcome is none: Hit(pitch_outcome=None, hit_outcome=None)\n",
      "unknown count event: None\n"
     ]
    },
    {
     "name": "stderr",
     "output_type": "stream",
     "text": [
      "  9%|███████████████                                                                                                                                                            | 22/250 [00:56<09:00,  2.37s/it]"
     ]
    },
    {
     "name": "stdout",
     "output_type": "stream",
     "text": [
      "swing.pitch_outcome is none: Hit(pitch_outcome=None, hit_outcome=None)\n",
      "unknown count event: None\n"
     ]
    },
    {
     "name": "stderr",
     "output_type": "stream",
     "text": [
      "  9%|███████████████▋                                                                                                                                                           | 23/250 [00:58<08:41,  2.30s/it]"
     ]
    },
    {
     "name": "stdout",
     "output_type": "stream",
     "text": [
      "swing.pitch_outcome is none: Hit(pitch_outcome=None, hit_outcome=None)\n",
      "unknown count event: None\n"
     ]
    },
    {
     "name": "stderr",
     "output_type": "stream",
     "text": [
      " 10%|█████████████████                                                                                                                                                          | 25/250 [01:04<09:42,  2.59s/it]"
     ]
    },
    {
     "name": "stdout",
     "output_type": "stream",
     "text": [
      "swing.pitch_outcome is none: Hit(pitch_outcome=None, hit_outcome=None)\n",
      "unknown count event: None\n"
     ]
    },
    {
     "name": "stderr",
     "output_type": "stream",
     "text": [
      " 11%|███████████████████▏                                                                                                                                                       | 28/250 [01:13<10:39,  2.88s/it]"
     ]
    },
    {
     "name": "stdout",
     "output_type": "stream",
     "text": [
      "swing.pitch_outcome is none: Hit(pitch_outcome=None, hit_outcome=None)\n",
      "unknown count event: None\n"
     ]
    },
    {
     "name": "stderr",
     "output_type": "stream",
     "text": [
      " 12%|█████████████████████▏                                                                                                                                                     | 31/250 [01:22<10:06,  2.77s/it]"
     ]
    },
    {
     "name": "stdout",
     "output_type": "stream",
     "text": [
      "swing.pitch_outcome is none: Hit(pitch_outcome=None, hit_outcome=None)\n",
      "unknown count event: None\n"
     ]
    },
    {
     "name": "stderr",
     "output_type": "stream",
     "text": [
      " 14%|███████████████████████▎                                                                                                                                                   | 34/250 [01:28<08:24,  2.33s/it]"
     ]
    },
    {
     "name": "stdout",
     "output_type": "stream",
     "text": [
      "swing.pitch_outcome is none: Hit(pitch_outcome=None, hit_outcome=None)\n",
      "unknown count event: None\n"
     ]
    },
    {
     "name": "stderr",
     "output_type": "stream",
     "text": [
      " 14%|███████████████████████▉                                                                                                                                                   | 35/250 [01:30<08:04,  2.26s/it]"
     ]
    },
    {
     "name": "stdout",
     "output_type": "stream",
     "text": [
      "swing.pitch_outcome is none: Hit(pitch_outcome=None, hit_outcome=None)\n",
      "unknown count event: None\n"
     ]
    },
    {
     "name": "stderr",
     "output_type": "stream",
     "text": [
      " 14%|████████████████████████▌                                                                                                                                                  | 36/250 [01:32<08:06,  2.27s/it]"
     ]
    },
    {
     "name": "stdout",
     "output_type": "stream",
     "text": [
      "swing.pitch_outcome is none: Hit(pitch_outcome=None, hit_outcome=None)\n",
      "unknown count event: None\n"
     ]
    },
    {
     "name": "stderr",
     "output_type": "stream",
     "text": [
      " 15%|█████████████████████████▉                                                                                                                                                 | 38/250 [01:37<07:56,  2.25s/it]"
     ]
    },
    {
     "name": "stdout",
     "output_type": "stream",
     "text": [
      "swing.pitch_outcome is none: Hit(pitch_outcome=None, hit_outcome=None)\n",
      "unknown count event: None\n"
     ]
    },
    {
     "name": "stderr",
     "output_type": "stream",
     "text": [
      " 16%|██████████████████████████▋                                                                                                                                                | 39/250 [01:40<08:44,  2.49s/it]"
     ]
    },
    {
     "name": "stdout",
     "output_type": "stream",
     "text": [
      "swing.pitch_outcome is none: Hit(pitch_outcome=None, hit_outcome=None)\n",
      "unknown count event: None\n"
     ]
    },
    {
     "name": "stderr",
     "output_type": "stream",
     "text": [
      " 16%|███████████████████████████▎                                                                                                                                               | 40/250 [01:42<08:20,  2.38s/it]"
     ]
    },
    {
     "name": "stdout",
     "output_type": "stream",
     "text": [
      "swing.pitch_outcome is none: Hit(pitch_outcome=None, hit_outcome=None)\n",
      "unknown count event: None\n"
     ]
    },
    {
     "name": "stderr",
     "output_type": "stream",
     "text": [
      " 17%|████████████████████████████▋                                                                                                                                              | 42/250 [01:46<07:57,  2.30s/it]"
     ]
    },
    {
     "name": "stdout",
     "output_type": "stream",
     "text": [
      "swing.pitch_outcome is none: Hit(pitch_outcome=None, hit_outcome=None)\n",
      "unknown count event: None\n"
     ]
    },
    {
     "name": "stderr",
     "output_type": "stream",
     "text": [
      " 20%|█████████████████████████████████▌                                                                                                                                         | 49/250 [02:01<06:36,  1.97s/it]"
     ]
    },
    {
     "name": "stdout",
     "output_type": "stream",
     "text": [
      "swing.pitch_outcome is none: Hit(pitch_outcome=None, hit_outcome=None)\n",
      "unknown count event: None\n"
     ]
    },
    {
     "name": "stderr",
     "output_type": "stream",
     "text": [
      " 20%|██████████████████████████████████▏                                                                                                                                        | 50/250 [02:02<05:35,  1.68s/it]"
     ]
    },
    {
     "name": "stdout",
     "output_type": "stream",
     "text": [
      "('double_play', 'L', TransitionState(outs=2, on_1b=True, on_2b=False, on_3b=True))\n"
     ]
    },
    {
     "name": "stderr",
     "output_type": "stream",
     "text": [
      " 21%|████████████████████████████████████▎                                                                                                                                      | 53/250 [02:08<06:19,  1.93s/it]"
     ]
    },
    {
     "name": "stdout",
     "output_type": "stream",
     "text": [
      "swing.pitch_outcome is none: Hit(pitch_outcome=None, hit_outcome=None)\n",
      "unknown count event: None\n"
     ]
    },
    {
     "name": "stderr",
     "output_type": "stream",
     "text": [
      " 22%|████████████████████████████████████▉                                                                                                                                      | 54/250 [02:10<06:07,  1.88s/it]"
     ]
    },
    {
     "name": "stdout",
     "output_type": "stream",
     "text": [
      "swing.pitch_outcome is none: Hit(pitch_outcome=None, hit_outcome=None)\n",
      "unknown count event: None\n"
     ]
    },
    {
     "name": "stderr",
     "output_type": "stream",
     "text": [
      " 24%|████████████████████████████████████████▎                                                                                                                                  | 59/250 [02:20<06:04,  1.91s/it]"
     ]
    },
    {
     "name": "stdout",
     "output_type": "stream",
     "text": [
      "swing.pitch_outcome is none: Hit(pitch_outcome=None, hit_outcome=None)\n",
      "unknown count event: None\n",
      "swing.pitch_outcome is none: Hit(pitch_outcome=None, hit_outcome=None)\n",
      "unknown count event: None\n"
     ]
    },
    {
     "name": "stderr",
     "output_type": "stream",
     "text": [
      " 24%|█████████████████████████████████████████▋                                                                                                                                 | 61/250 [02:25<06:46,  2.15s/it]"
     ]
    },
    {
     "name": "stdout",
     "output_type": "stream",
     "text": [
      "swing.pitch_outcome is none: Hit(pitch_outcome=None, hit_outcome=None)\n",
      "unknown count event: None\n"
     ]
    },
    {
     "name": "stderr",
     "output_type": "stream",
     "text": [
      " 25%|██████████████████████████████████████████▍                                                                                                                                | 62/250 [02:27<06:31,  2.08s/it]"
     ]
    },
    {
     "name": "stdout",
     "output_type": "stream",
     "text": [
      "swing.pitch_outcome is none: Hit(pitch_outcome=None, hit_outcome=None)\n",
      "unknown count event: None\n",
      "swing.pitch_outcome is none: Hit(pitch_outcome=None, hit_outcome=None)\n",
      "unknown count event: None\n"
     ]
    },
    {
     "name": "stderr",
     "output_type": "stream",
     "text": [
      " 25%|███████████████████████████████████████████                                                                                                                                | 63/250 [02:29<06:35,  2.11s/it]"
     ]
    },
    {
     "name": "stdout",
     "output_type": "stream",
     "text": [
      "swing.pitch_outcome is none: Hit(pitch_outcome=None, hit_outcome=None)\n",
      "unknown count event: None\n"
     ]
    },
    {
     "name": "stderr",
     "output_type": "stream",
     "text": [
      " 26%|████████████████████████████████████████████▍                                                                                                                              | 65/250 [02:33<06:13,  2.02s/it]"
     ]
    },
    {
     "name": "stdout",
     "output_type": "stream",
     "text": [
      "swing.pitch_outcome is none: Hit(pitch_outcome=None, hit_outcome=None)\n",
      "unknown count event: None\n"
     ]
    },
    {
     "name": "stderr",
     "output_type": "stream",
     "text": [
      " 27%|██████████████████████████████████████████████▌                                                                                                                            | 68/250 [02:40<06:48,  2.24s/it]"
     ]
    },
    {
     "name": "stdout",
     "output_type": "stream",
     "text": [
      "swing.pitch_outcome is none: Hit(pitch_outcome=None, hit_outcome=None)\n",
      "unknown count event: None\n"
     ]
    },
    {
     "name": "stderr",
     "output_type": "stream",
     "text": [
      " 29%|█████████████████████████████████████████████████▏                                                                                                                         | 72/250 [02:47<05:30,  1.86s/it]"
     ]
    },
    {
     "name": "stdout",
     "output_type": "stream",
     "text": [
      "swing.pitch_outcome is none: Hit(pitch_outcome=None, hit_outcome=None)\n",
      "unknown count event: None\n"
     ]
    },
    {
     "name": "stderr",
     "output_type": "stream",
     "text": [
      " 30%|██████████████████████████████████████████████████▌                                                                                                                        | 74/250 [02:51<05:51,  1.99s/it]"
     ]
    },
    {
     "name": "stdout",
     "output_type": "stream",
     "text": [
      "swing.pitch_outcome is none: Hit(pitch_outcome=None, hit_outcome=None)\n",
      "unknown count event: None\n"
     ]
    },
    {
     "name": "stderr",
     "output_type": "stream",
     "text": [
      " 30%|███████████████████████████████████████████████████▎                                                                                                                       | 75/250 [02:54<06:17,  2.16s/it]"
     ]
    },
    {
     "name": "stdout",
     "output_type": "stream",
     "text": [
      "swing.pitch_outcome is none: Hit(pitch_outcome=None, hit_outcome=None)\n",
      "unknown count event: None\n"
     ]
    },
    {
     "name": "stderr",
     "output_type": "stream",
     "text": [
      " 30%|███████████████████████████████████████████████████▉                                                                                                                       | 76/250 [02:56<05:56,  2.05s/it]"
     ]
    },
    {
     "name": "stdout",
     "output_type": "stream",
     "text": [
      "swing.pitch_outcome is none: Hit(pitch_outcome=None, hit_outcome=None)\n",
      "unknown count event: None\n"
     ]
    },
    {
     "name": "stderr",
     "output_type": "stream",
     "text": [
      " 31%|████████████████████████████████████████████████████▋                                                                                                                      | 77/250 [02:58<06:03,  2.10s/it]"
     ]
    },
    {
     "name": "stdout",
     "output_type": "stream",
     "text": [
      "swing.pitch_outcome is none: Hit(pitch_outcome=None, hit_outcome=None)\n",
      "unknown count event: None\n",
      "swing.pitch_outcome is none: Hit(pitch_outcome=None, hit_outcome=None)\n",
      "unknown count event: None\n"
     ]
    },
    {
     "name": "stderr",
     "output_type": "stream",
     "text": [
      " 31%|█████████████████████████████████████████████████████▎                                                                                                                     | 78/250 [03:00<06:15,  2.18s/it]"
     ]
    },
    {
     "name": "stdout",
     "output_type": "stream",
     "text": [
      "swing.pitch_outcome is none: Hit(pitch_outcome=None, hit_outcome=None)\n",
      "unknown count event: None\n"
     ]
    },
    {
     "name": "stderr",
     "output_type": "stream",
     "text": [
      " 32%|██████████████████████████████████████████████████████▋                                                                                                                    | 80/250 [03:03<05:08,  1.81s/it]"
     ]
    },
    {
     "name": "stdout",
     "output_type": "stream",
     "text": [
      "('fly_out', 'R', TransitionState(outs=0, on_1b=False, on_2b=False, on_3b=False))\n",
      "swing.pitch_outcome is none: Hit(pitch_outcome=None, hit_outcome=None)\n",
      "unknown count event: None\n",
      "swing.pitch_outcome is none: Hit(pitch_outcome=None, hit_outcome=None)\n",
      "unknown count event: None\n"
     ]
    },
    {
     "name": "stderr",
     "output_type": "stream",
     "text": [
      " 32%|███████████████████████████████████████████████████████▍                                                                                                                   | 81/250 [03:06<05:19,  1.89s/it]"
     ]
    },
    {
     "name": "stdout",
     "output_type": "stream",
     "text": [
      "swing.pitch_outcome is none: Hit(pitch_outcome=None, hit_outcome=None)\n",
      "unknown count event: None\n"
     ]
    },
    {
     "name": "stderr",
     "output_type": "stream",
     "text": [
      " 33%|████████████████████████████████████████████████████████▊                                                                                                                  | 83/250 [03:12<06:51,  2.46s/it]"
     ]
    },
    {
     "name": "stdout",
     "output_type": "stream",
     "text": [
      "swing.pitch_outcome is none: Hit(pitch_outcome=None, hit_outcome=None)\n",
      "unknown count event: None\n"
     ]
    },
    {
     "name": "stderr",
     "output_type": "stream",
     "text": [
      " 34%|██████████████████████████████████████████████████████████▏                                                                                                                | 85/250 [03:18<07:35,  2.76s/it]"
     ]
    },
    {
     "name": "stdout",
     "output_type": "stream",
     "text": [
      "swing.pitch_outcome is none: Hit(pitch_outcome=None, hit_outcome=None)\n",
      "unknown count event: None\n",
      "swing.pitch_outcome is none: Hit(pitch_outcome=None, hit_outcome=None)\n",
      "unknown count event: None\n"
     ]
    },
    {
     "name": "stderr",
     "output_type": "stream",
     "text": [
      " 34%|██████████████████████████████████████████████████████████▊                                                                                                                | 86/250 [03:21<07:56,  2.90s/it]"
     ]
    },
    {
     "name": "stdout",
     "output_type": "stream",
     "text": [
      "swing.pitch_outcome is none: Hit(pitch_outcome=None, hit_outcome=None)\n",
      "unknown count event: None\n"
     ]
    },
    {
     "name": "stderr",
     "output_type": "stream",
     "text": [
      " 35%|███████████████████████████████████████████████████████████▌                                                                                                               | 87/250 [03:24<07:55,  2.91s/it]"
     ]
    },
    {
     "name": "stdout",
     "output_type": "stream",
     "text": [
      "swing.pitch_outcome is none: Hit(pitch_outcome=None, hit_outcome=None)\n",
      "unknown count event: None\n"
     ]
    },
    {
     "name": "stderr",
     "output_type": "stream",
     "text": [
      " 35%|████████████████████████████████████████████████████████████▏                                                                                                              | 88/250 [03:26<07:28,  2.77s/it]"
     ]
    },
    {
     "name": "stdout",
     "output_type": "stream",
     "text": [
      "swing.pitch_outcome is none: Hit(pitch_outcome=None, hit_outcome=None)\n",
      "unknown count event: None\n",
      "swing.pitch_outcome is none: Hit(pitch_outcome=None, hit_outcome=None)\n",
      "unknown count event: None\n"
     ]
    },
    {
     "name": "stderr",
     "output_type": "stream",
     "text": [
      " 36%|█████████████████████████████████████████████████████████████▌                                                                                                             | 90/250 [03:30<06:29,  2.43s/it]"
     ]
    },
    {
     "name": "stdout",
     "output_type": "stream",
     "text": [
      "swing.pitch_outcome is none: Hit(pitch_outcome=None, hit_outcome=None)\n",
      "unknown count event: None\n"
     ]
    },
    {
     "name": "stderr",
     "output_type": "stream",
     "text": [
      " 37%|██████████████████████████████████████████████████████████████▉                                                                                                            | 92/250 [03:35<06:03,  2.30s/it]"
     ]
    },
    {
     "name": "stdout",
     "output_type": "stream",
     "text": [
      "swing.pitch_outcome is none: Hit(pitch_outcome=None, hit_outcome=None)\n",
      "unknown count event: None\n"
     ]
    },
    {
     "name": "stderr",
     "output_type": "stream",
     "text": [
      " 37%|███████████████████████████████████████████████████████████████▌                                                                                                           | 93/250 [03:37<06:12,  2.37s/it]"
     ]
    },
    {
     "name": "stdout",
     "output_type": "stream",
     "text": [
      "swing.pitch_outcome is none: Hit(pitch_outcome=None, hit_outcome=None)\n",
      "unknown count event: None\n"
     ]
    },
    {
     "name": "stderr",
     "output_type": "stream",
     "text": [
      " 39%|██████████████████████████████████████████████████████████████████▎                                                                                                        | 97/250 [03:45<05:14,  2.05s/it]"
     ]
    },
    {
     "name": "stdout",
     "output_type": "stream",
     "text": [
      "swing.pitch_outcome is none: Hit(pitch_outcome=None, hit_outcome=None)\n",
      "unknown count event: None\n"
     ]
    },
    {
     "name": "stderr",
     "output_type": "stream",
     "text": [
      " 40%|███████████████████████████████████████████████████████████████████▋                                                                                                       | 99/250 [03:47<03:54,  1.55s/it]"
     ]
    },
    {
     "name": "stdout",
     "output_type": "stream",
     "text": [
      "('triple_play', 'L', TransitionState(outs=1, on_1b=False, on_2b=False, on_3b=False))\n"
     ]
    },
    {
     "name": "stderr",
     "output_type": "stream",
     "text": [
      " 40%|████████████████████████████████████████████████████████████████████▋                                                                                                     | 101/250 [03:51<04:04,  1.64s/it]"
     ]
    },
    {
     "name": "stdout",
     "output_type": "stream",
     "text": [
      "swing.pitch_outcome is none: Hit(pitch_outcome=None, hit_outcome=None)\n",
      "unknown count event: None\n"
     ]
    },
    {
     "name": "stderr",
     "output_type": "stream",
     "text": [
      " 41%|██████████████████████████████████████████████████████████████████████                                                                                                    | 103/250 [03:55<04:22,  1.79s/it]"
     ]
    },
    {
     "name": "stdout",
     "output_type": "stream",
     "text": [
      "swing.pitch_outcome is none: Hit(pitch_outcome=None, hit_outcome=None)\n",
      "unknown count event: None\n",
      "swing.pitch_outcome is none: Hit(pitch_outcome=None, hit_outcome=None)\n",
      "unknown count event: None\n"
     ]
    },
    {
     "name": "stderr",
     "output_type": "stream",
     "text": [
      " 42%|██████████████████████████████████████████████████████████████████████▋                                                                                                   | 104/250 [03:57<04:58,  2.04s/it]"
     ]
    },
    {
     "name": "stdout",
     "output_type": "stream",
     "text": [
      "swing.pitch_outcome is none: Hit(pitch_outcome=None, hit_outcome=None)\n",
      "unknown count event: None\n"
     ]
    },
    {
     "name": "stderr",
     "output_type": "stream",
     "text": [
      " 43%|████████████████████████████████████████████████████████████████████████▊                                                                                                 | 107/250 [04:03<04:48,  2.02s/it]"
     ]
    },
    {
     "name": "stdout",
     "output_type": "stream",
     "text": [
      "swing.pitch_outcome is none: Hit(pitch_outcome=None, hit_outcome=None)\n",
      "unknown count event: None\n",
      "swing.pitch_outcome is none: Hit(pitch_outcome=None, hit_outcome=None)\n",
      "unknown count event: None\n",
      "swing.pitch_outcome is none: Hit(pitch_outcome=None, hit_outcome=None)\n",
      "unknown count event: None\n"
     ]
    },
    {
     "name": "stderr",
     "output_type": "stream",
     "text": [
      " 43%|█████████████████████████████████████████████████████████████████████████▍                                                                                                | 108/250 [04:05<04:36,  1.95s/it]"
     ]
    },
    {
     "name": "stdout",
     "output_type": "stream",
     "text": [
      "swing.pitch_outcome is none: Hit(pitch_outcome=None, hit_outcome=None)\n",
      "unknown count event: None\n"
     ]
    },
    {
     "name": "stderr",
     "output_type": "stream",
     "text": [
      " 44%|███████████████████████████████████████████████████████████████████████████▍                                                                                              | 111/250 [04:11<04:29,  1.94s/it]"
     ]
    },
    {
     "name": "stdout",
     "output_type": "stream",
     "text": [
      "swing.pitch_outcome is none: Hit(pitch_outcome=None, hit_outcome=None)\n",
      "unknown count event: None\n"
     ]
    },
    {
     "name": "stderr",
     "output_type": "stream",
     "text": [
      " 45%|████████████████████████████████████████████████████████████████████████████▊                                                                                             | 113/250 [04:15<04:31,  1.98s/it]"
     ]
    },
    {
     "name": "stdout",
     "output_type": "stream",
     "text": [
      "swing.pitch_outcome is none: Hit(pitch_outcome=None, hit_outcome=None)\n",
      "unknown count event: None\n"
     ]
    },
    {
     "name": "stderr",
     "output_type": "stream",
     "text": [
      " 46%|█████████████████████████████████████████████████████████████████████████████▌                                                                                            | 114/250 [04:17<04:35,  2.03s/it]"
     ]
    },
    {
     "name": "stdout",
     "output_type": "stream",
     "text": [
      "('double_play', 'R', TransitionState(outs=2, on_1b=False, on_2b=False, on_3b=False))\n"
     ]
    },
    {
     "name": "stderr",
     "output_type": "stream",
     "text": [
      " 47%|████████████████████████████████████████████████████████████████████████████████▏                                                                                         | 118/250 [04:24<04:08,  1.88s/it]"
     ]
    },
    {
     "name": "stdout",
     "output_type": "stream",
     "text": [
      "swing.pitch_outcome is none: Hit(pitch_outcome=None, hit_outcome=None)\n",
      "unknown count event: None\n"
     ]
    },
    {
     "name": "stderr",
     "output_type": "stream",
     "text": [
      " 48%|████████████████████████████████████████████████████████████████████████████████▉                                                                                         | 119/250 [04:26<03:57,  1.81s/it]"
     ]
    },
    {
     "name": "stdout",
     "output_type": "stream",
     "text": [
      "swing.pitch_outcome is none: Hit(pitch_outcome=None, hit_outcome=None)\n",
      "unknown count event: None\n"
     ]
    },
    {
     "name": "stderr",
     "output_type": "stream",
     "text": [
      " 49%|███████████████████████████████████████████████████████████████████████████████████▋                                                                                      | 123/250 [04:33<03:41,  1.74s/it]"
     ]
    },
    {
     "name": "stdout",
     "output_type": "stream",
     "text": [
      "('triple_play', 'R', TransitionState(outs=2, on_1b=True, on_2b=True, on_3b=True))\n"
     ]
    },
    {
     "name": "stderr",
     "output_type": "stream",
     "text": [
      " 52%|███████████████████████████████████████████████████████████████████████████████████████▋                                                                                  | 129/250 [04:44<03:04,  1.52s/it]"
     ]
    },
    {
     "name": "stdout",
     "output_type": "stream",
     "text": [
      "('double_play', 'R', TransitionState(outs=1, on_1b=False, on_2b=False, on_3b=False))\n"
     ]
    },
    {
     "name": "stderr",
     "output_type": "stream",
     "text": [
      " 52%|█████████████████████████████████████████████████████████████████████████████████████████                                                                                 | 131/250 [04:48<03:44,  1.89s/it]"
     ]
    },
    {
     "name": "stdout",
     "output_type": "stream",
     "text": [
      "swing.pitch_outcome is none: Hit(pitch_outcome=None, hit_outcome=None)\n",
      "unknown count event: None\n"
     ]
    },
    {
     "name": "stderr",
     "output_type": "stream",
     "text": [
      " 54%|███████████████████████████████████████████████████████████████████████████████████████████                                                                               | 134/250 [04:55<04:00,  2.08s/it]"
     ]
    },
    {
     "name": "stdout",
     "output_type": "stream",
     "text": [
      "swing.pitch_outcome is none: Hit(pitch_outcome=None, hit_outcome=None)\n",
      "unknown count event: None\n"
     ]
    },
    {
     "name": "stderr",
     "output_type": "stream",
     "text": [
      " 54%|███████████████████████████████████████████████████████████████████████████████████████████▊                                                                              | 135/250 [04:57<03:58,  2.07s/it]"
     ]
    },
    {
     "name": "stdout",
     "output_type": "stream",
     "text": [
      "swing.pitch_outcome is none: Hit(pitch_outcome=None, hit_outcome=None)\n",
      "unknown count event: None\n"
     ]
    },
    {
     "name": "stderr",
     "output_type": "stream",
     "text": [
      " 55%|█████████████████████████████████████████████████████████████████████████████████████████████▊                                                                            | 138/250 [05:04<03:57,  2.12s/it]"
     ]
    },
    {
     "name": "stdout",
     "output_type": "stream",
     "text": [
      "swing.pitch_outcome is none: Hit(pitch_outcome=None, hit_outcome=None)\n",
      "unknown count event: None\n",
      "swing.pitch_outcome is none: Hit(pitch_outcome=None, hit_outcome=None)\n",
      "unknown count event: None\n"
     ]
    },
    {
     "name": "stderr",
     "output_type": "stream",
     "text": [
      " 56%|███████████████████████████████████████████████████████████████████████████████████████████████▉                                                                          | 141/250 [05:10<03:50,  2.11s/it]"
     ]
    },
    {
     "name": "stdout",
     "output_type": "stream",
     "text": [
      "swing.pitch_outcome is none: Hit(pitch_outcome=None, hit_outcome=None)\n",
      "unknown count event: None\n",
      "swing.pitch_outcome is none: Hit(pitch_outcome=None, hit_outcome=None)\n",
      "unknown count event: None\n"
     ]
    },
    {
     "name": "stderr",
     "output_type": "stream",
     "text": [
      " 57%|█████████████████████████████████████████████████████████████████████████████████████████████████▏                                                                        | 143/250 [05:14<03:41,  2.07s/it]"
     ]
    },
    {
     "name": "stdout",
     "output_type": "stream",
     "text": [
      "swing.pitch_outcome is none: Hit(pitch_outcome=None, hit_outcome=None)\n",
      "unknown count event: None\n"
     ]
    },
    {
     "name": "stderr",
     "output_type": "stream",
     "text": [
      " 59%|████████████████████████████████████████████████████████████████████████████████████████████████████▋                                                                     | 148/250 [05:26<03:51,  2.27s/it]"
     ]
    },
    {
     "name": "stdout",
     "output_type": "stream",
     "text": [
      "swing.pitch_outcome is none: Hit(pitch_outcome=None, hit_outcome=None)\n",
      "unknown count event: None\n"
     ]
    },
    {
     "name": "stderr",
     "output_type": "stream",
     "text": [
      " 60%|█████████████████████████████████████████████████████████████████████████████████████████████████████▎                                                                    | 149/250 [05:28<03:39,  2.18s/it]"
     ]
    },
    {
     "name": "stdout",
     "output_type": "stream",
     "text": [
      "swing.pitch_outcome is none: Hit(pitch_outcome=None, hit_outcome=None)\n",
      "unknown count event: None\n"
     ]
    },
    {
     "name": "stderr",
     "output_type": "stream",
     "text": [
      " 60%|██████████████████████████████████████████████████████████████████████████████████████████████████████▋                                                                   | 151/250 [05:32<03:30,  2.12s/it]"
     ]
    },
    {
     "name": "stdout",
     "output_type": "stream",
     "text": [
      "swing.pitch_outcome is none: Hit(pitch_outcome=None, hit_outcome=None)\n",
      "unknown count event: None\n"
     ]
    },
    {
     "name": "stderr",
     "output_type": "stream",
     "text": [
      " 62%|█████████████████████████████████████████████████████████████████████████████████████████████████████████▍                                                                | 155/250 [05:38<02:13,  1.41s/it]"
     ]
    },
    {
     "name": "stdout",
     "output_type": "stream",
     "text": [
      "('double_play', 'R', TransitionState(outs=0, on_1b=False, on_2b=False, on_3b=False))\n",
      "swing.pitch_outcome is none: Hit(pitch_outcome=None, hit_outcome=None)\n",
      "unknown count event: None\n"
     ]
    },
    {
     "name": "stderr",
     "output_type": "stream",
     "text": [
      " 63%|██████████████████████████████████████████████████████████████████████████████████████████████████████████▊                                                               | 157/250 [05:43<03:09,  2.04s/it]"
     ]
    },
    {
     "name": "stdout",
     "output_type": "stream",
     "text": [
      "swing.pitch_outcome is none: Hit(pitch_outcome=None, hit_outcome=None)\n",
      "unknown count event: None\n",
      "swing.pitch_outcome is none: Hit(pitch_outcome=None, hit_outcome=None)\n",
      "unknown count event: None\n"
     ]
    },
    {
     "name": "stderr",
     "output_type": "stream",
     "text": [
      " 66%|████████████████████████████████████████████████████████████████████████████████████████████████████████████████▏                                                         | 165/250 [05:59<02:35,  1.83s/it]"
     ]
    },
    {
     "name": "stdout",
     "output_type": "stream",
     "text": [
      "swing.pitch_outcome is none: Hit(pitch_outcome=None, hit_outcome=None)\n",
      "unknown count event: None\n"
     ]
    },
    {
     "name": "stderr",
     "output_type": "stream",
     "text": [
      " 69%|████████████████████████████████████████████████████████████████████████████████████████████████████████████████████▉                                                     | 172/250 [06:12<02:22,  1.82s/it]"
     ]
    },
    {
     "name": "stdout",
     "output_type": "stream",
     "text": [
      "swing.pitch_outcome is none: Hit(pitch_outcome=None, hit_outcome=None)\n",
      "unknown count event: None\n"
     ]
    },
    {
     "name": "stderr",
     "output_type": "stream",
     "text": [
      " 69%|█████████████████████████████████████████████████████████████████████████████████████████████████████████████████████▋                                                    | 173/250 [06:15<02:30,  1.96s/it]"
     ]
    },
    {
     "name": "stdout",
     "output_type": "stream",
     "text": [
      "swing.pitch_outcome is none: Hit(pitch_outcome=None, hit_outcome=None)\n",
      "unknown count event: None\n"
     ]
    },
    {
     "name": "stderr",
     "output_type": "stream",
     "text": [
      " 70%|██████████████████████████████████████████████████████████████████████████████████████████████████████████████████████▉                                                   | 175/250 [06:18<02:23,  1.91s/it]"
     ]
    },
    {
     "name": "stdout",
     "output_type": "stream",
     "text": [
      "swing.pitch_outcome is none: Hit(pitch_outcome=None, hit_outcome=None)\n",
      "unknown count event: None\n",
      "swing.pitch_outcome is none: Hit(pitch_outcome=None, hit_outcome=None)\n",
      "unknown count event: None\n",
      "swing.pitch_outcome is none: Hit(pitch_outcome=None, hit_outcome=None)\n",
      "unknown count event: None\n"
     ]
    },
    {
     "name": "stderr",
     "output_type": "stream",
     "text": [
      " 71%|█████████████████████████████████████████████████████████████████████████████████████████████████████████████████████████                                                 | 178/250 [06:24<02:19,  1.94s/it]"
     ]
    },
    {
     "name": "stdout",
     "output_type": "stream",
     "text": [
      "swing.pitch_outcome is none: Hit(pitch_outcome=None, hit_outcome=None)\n",
      "unknown count event: None\n"
     ]
    },
    {
     "name": "stderr",
     "output_type": "stream",
     "text": [
      " 72%|█████████████████████████████████████████████████████████████████████████████████████████████████████████████████████████▋                                                | 179/250 [06:27<02:30,  2.12s/it]"
     ]
    },
    {
     "name": "stdout",
     "output_type": "stream",
     "text": [
      "swing.pitch_outcome is none: Hit(pitch_outcome=None, hit_outcome=None)\n",
      "unknown count event: None\n"
     ]
    },
    {
     "name": "stderr",
     "output_type": "stream",
     "text": [
      " 72%|██████████████████████████████████████████████████████████████████████████████████████████████████████████████████████████▍                                               | 180/250 [06:29<02:27,  2.11s/it]"
     ]
    },
    {
     "name": "stdout",
     "output_type": "stream",
     "text": [
      "swing.pitch_outcome is none: Hit(pitch_outcome=None, hit_outcome=None)\n",
      "unknown count event: None\n"
     ]
    },
    {
     "name": "stderr",
     "output_type": "stream",
     "text": [
      " 75%|███████████████████████████████████████████████████████████████████████████████████████████████████████████████████████████████▊                                          | 188/250 [06:46<02:11,  2.13s/it]"
     ]
    },
    {
     "name": "stdout",
     "output_type": "stream",
     "text": [
      "swing.pitch_outcome is none: Hit(pitch_outcome=None, hit_outcome=None)\n",
      "unknown count event: None\n"
     ]
    },
    {
     "name": "stderr",
     "output_type": "stream",
     "text": [
      " 76%|█████████████████████████████████████████████████████████████████████████████████████████████████████████████████████████████████▉                                        | 191/250 [06:54<02:20,  2.38s/it]"
     ]
    },
    {
     "name": "stdout",
     "output_type": "stream",
     "text": [
      "swing.pitch_outcome is none: Hit(pitch_outcome=None, hit_outcome=None)\n",
      "unknown count event: None\n"
     ]
    },
    {
     "name": "stderr",
     "output_type": "stream",
     "text": [
      " 77%|███████████████████████████████████████████████████████████████████████████████████████████████████████████████████████████████████▏                                      | 193/250 [06:58<02:13,  2.35s/it]"
     ]
    },
    {
     "name": "stdout",
     "output_type": "stream",
     "text": [
      "swing.pitch_outcome is none: Hit(pitch_outcome=None, hit_outcome=None)\n",
      "unknown count event: None\n"
     ]
    },
    {
     "name": "stderr",
     "output_type": "stream",
     "text": [
      " 79%|██████████████████████████████████████████████████████████████████████████████████████████████████████████████████████████████████████▋                                   | 198/250 [07:13<02:21,  2.73s/it]"
     ]
    },
    {
     "name": "stdout",
     "output_type": "stream",
     "text": [
      "swing.pitch_outcome is none: Hit(pitch_outcome=None, hit_outcome=None)\n",
      "unknown count event: None\n"
     ]
    },
    {
     "name": "stderr",
     "output_type": "stream",
     "text": [
      " 80%|████████████████████████████████████████████████████████████████████████████████████████████████████████████████████████████████████████                                  | 200/250 [07:16<01:44,  2.08s/it]"
     ]
    },
    {
     "name": "stdout",
     "output_type": "stream",
     "text": [
      "('double_play', 'R', TransitionState(outs=2, on_1b=True, on_2b=False, on_3b=False))\n"
     ]
    },
    {
     "name": "stderr",
     "output_type": "stream",
     "text": [
      " 81%|██████████████████████████████████████████████████████████████████████████████████████████████████████████████████████████████████████████                                | 203/250 [07:22<01:38,  2.09s/it]"
     ]
    },
    {
     "name": "stdout",
     "output_type": "stream",
     "text": [
      "swing.pitch_outcome is none: Hit(pitch_outcome=None, hit_outcome=None)\n",
      "unknown count event: None\n"
     ]
    },
    {
     "name": "stderr",
     "output_type": "stream",
     "text": [
      " 83%|█████████████████████████████████████████████████████████████████████████████████████████████████████████████████████████████████████████████▍                            | 208/250 [07:32<01:23,  2.00s/it]"
     ]
    },
    {
     "name": "stdout",
     "output_type": "stream",
     "text": [
      "swing.pitch_outcome is none: Hit(pitch_outcome=None, hit_outcome=None)\n",
      "unknown count event: None\n"
     ]
    },
    {
     "name": "stderr",
     "output_type": "stream",
     "text": [
      " 86%|██████████████████████████████████████████████████████████████████████████████████████████████████████████████████████████████████████████████████▏                       | 215/250 [07:47<01:10,  2.01s/it]"
     ]
    },
    {
     "name": "stdout",
     "output_type": "stream",
     "text": [
      "swing.pitch_outcome is none: Hit(pitch_outcome=None, hit_outcome=None)\n",
      "unknown count event: None\n"
     ]
    },
    {
     "name": "stderr",
     "output_type": "stream",
     "text": [
      " 86%|██████████████████████████████████████████████████████████████████████████████████████████████████████████████████████████████████████████████████▉                       | 216/250 [07:49<01:06,  1.95s/it]"
     ]
    },
    {
     "name": "stdout",
     "output_type": "stream",
     "text": [
      "swing.pitch_outcome is none: Hit(pitch_outcome=None, hit_outcome=None)\n",
      "unknown count event: None\n"
     ]
    },
    {
     "name": "stderr",
     "output_type": "stream",
     "text": [
      " 89%|██████████████████████████████████████████████████████████████████████████████████████████████████████████████████████████████████████████████████████▉                   | 222/250 [08:00<00:54,  1.95s/it]"
     ]
    },
    {
     "name": "stdout",
     "output_type": "stream",
     "text": [
      "swing.pitch_outcome is none: Hit(pitch_outcome=None, hit_outcome=None)\n",
      "unknown count event: None\n"
     ]
    },
    {
     "name": "stderr",
     "output_type": "stream",
     "text": [
      " 90%|████████████████████████████████████████████████████████████████████████████████████████████████████████████████████████████████████████████████████████▎                 | 224/250 [08:03<00:49,  1.89s/it]"
     ]
    },
    {
     "name": "stdout",
     "output_type": "stream",
     "text": [
      "swing.pitch_outcome is none: Hit(pitch_outcome=None, hit_outcome=None)\n",
      "unknown count event: None\n",
      "swing.pitch_outcome is none: Hit(pitch_outcome=None, hit_outcome=None)\n",
      "unknown count event: None\n",
      "swing.pitch_outcome is none: Hit(pitch_outcome=None, hit_outcome=None)\n",
      "unknown count event: None\n"
     ]
    },
    {
     "name": "stderr",
     "output_type": "stream",
     "text": [
      " 91%|██████████████████████████████████████████████████████████████████████████████████████████████████████████████████████████████████████████████████████████▎               | 227/250 [08:10<00:50,  2.17s/it]"
     ]
    },
    {
     "name": "stdout",
     "output_type": "stream",
     "text": [
      "swing.pitch_outcome is none: Hit(pitch_outcome=None, hit_outcome=None)\n",
      "unknown count event: None\n"
     ]
    },
    {
     "name": "stderr",
     "output_type": "stream",
     "text": [
      " 94%|███████████████████████████████████████████████████████████████████████████████████████████████████████████████████████████████████████████████████████████████▊          | 235/250 [08:28<00:36,  2.45s/it]"
     ]
    },
    {
     "name": "stdout",
     "output_type": "stream",
     "text": [
      "swing.pitch_outcome is none: Hit(pitch_outcome=None, hit_outcome=None)\n",
      "unknown count event: None\n"
     ]
    },
    {
     "name": "stderr",
     "output_type": "stream",
     "text": [
      " 94%|████████████████████████████████████████████████████████████████████████████████████████████████████████████████████████████████████████████████████████████████▍         | 236/250 [08:31<00:39,  2.79s/it]"
     ]
    },
    {
     "name": "stdout",
     "output_type": "stream",
     "text": [
      "swing.pitch_outcome is none: Hit(pitch_outcome=None, hit_outcome=None)\n",
      "unknown count event: None\n",
      "swing.pitch_outcome is none: Hit(pitch_outcome=None, hit_outcome=None)\n",
      "unknown count event: None\n"
     ]
    },
    {
     "name": "stderr",
     "output_type": "stream",
     "text": [
      " 95%|█████████████████████████████████████████████████████████████████████████████████████████████████████████████████████████████████████████████████████████████████▊        | 238/250 [08:36<00:30,  2.57s/it]"
     ]
    },
    {
     "name": "stdout",
     "output_type": "stream",
     "text": [
      "swing.pitch_outcome is none: Hit(pitch_outcome=None, hit_outcome=None)\n",
      "unknown count event: None\n"
     ]
    },
    {
     "name": "stderr",
     "output_type": "stream",
     "text": [
      " 97%|█████████████████████████████████████████████████████████████████████████████████████████████████████████████████████████████████████████████████████████████████████▏    | 243/250 [08:45<00:12,  1.72s/it]"
     ]
    },
    {
     "name": "stdout",
     "output_type": "stream",
     "text": [
      "('fielders_choice', 'R', TransitionState(outs=1, on_1b=False, on_2b=False, on_3b=False))\n",
      "swing.pitch_outcome is none: Hit(pitch_outcome=None, hit_outcome=None)\n",
      "unknown count event: None\n"
     ]
    },
    {
     "name": "stderr",
     "output_type": "stream",
     "text": [
      "100%|██████████████████████████████████████████████████████████████████████████████████████████████████████████████████████████████████████████████████████████████████████████| 250/250 [08:58<00:00,  2.15s/it]\n"
     ]
    }
   ],
   "source": [
    "scores = game_simulator(num_simulations=250)"
   ]
  }
 ],
 "metadata": {
  "kernelspec": {
   "display_name": "Python 3 (ipykernel)",
   "language": "python",
   "name": "python3"
  },
  "language_info": {
   "codemirror_mode": {
    "name": "ipython",
    "version": 3
   },
   "file_extension": ".py",
   "mimetype": "text/x-python",
   "name": "python",
   "nbconvert_exporter": "python",
   "pygments_lexer": "ipython3",
   "version": "3.10.12"
  }
 },
 "nbformat": 4,
 "nbformat_minor": 5
}
